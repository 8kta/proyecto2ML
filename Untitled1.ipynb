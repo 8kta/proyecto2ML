{
 "cells": [
  {
   "cell_type": "code",
   "execution_count": 1,
   "metadata": {},
   "outputs": [],
   "source": [
    "import pandas as pd\n",
    "import numpy as np\n",
    "from scipy import integrate\n",
    "from sklearn.metrics import mean_squared_error, mean_squared_log_error, mean_absolute_error, median_absolute_error\n",
    "from scipy.integrate import odeint\n",
    "from scipy.optimize import differential_evolution, minimize\n",
    "import matplotlib.pyplot as plt\n",
    "import PDEparams as pde\n",
    "import array"
   ]
  },
  {
   "cell_type": "code",
   "execution_count": 2,
   "metadata": {},
   "outputs": [
    {
     "data": {
      "text/plain": [
       "41"
      ]
     },
     "execution_count": 2,
     "metadata": {},
     "output_type": "execute_result"
    }
   ],
   "source": [
    "data = pd.read_csv('CoV2019.csv')\n",
    "china = data[\"China\"]#data[\"China\"][:27]\n",
    "days = data[\"Days\"]\n",
    "total = data[\"Total\"]\n",
    "deaths_china = data[\"Death China\"]\n",
    "other = data[\"Other\"]\n",
    "china_total = data[\"China\"]\n",
    "days_total = data[\"Days\"]\n",
    "deaths_china_total = data[\"Death China\"]\n",
    "deaths_outside_total = data[\"Death Outside\"]\n",
    "len(deaths_china)"
   ]
  },
  {
   "cell_type": "code",
   "execution_count": 3,
   "metadata": {},
   "outputs": [
    {
     "name": "stdout",
     "output_type": "stream",
     "text": [
      "Date of report\n",
      "Days\n",
      "Total\n",
      "China\n",
      "Death China\n",
      "Other\n",
      "Death Outside\n",
      "Death Globally\n",
      "En total hay: 8 características.\n"
     ]
    }
   ],
   "source": [
    "count = 0\n",
    "for a in data:\n",
    "    print(a)\n",
    "    count = count + 1\n",
    "print('En total hay:', count, 'características.')"
   ]
  },
  {
   "cell_type": "code",
   "execution_count": 4,
   "metadata": {},
   "outputs": [],
   "source": [
    "Hubei = 5917*10**4\n",
    "Guangdong = 11346*10**4\n",
    "Henan = 9605*10**4\n",
    "Zhejiang = 5737*10**4\n",
    "Hunan = 6899*10**4\n",
    "Anhui = 6324*10**4\n",
    "Jiangxi = 4648*10**4\n",
    "N = 56*10**3   # estimate of people affected by lock down\n",
    "#init_I = 1\n",
    "#init_R = 1\n",
    "#init_S = 5917*10**4"
   ]
  },
  {
   "cell_type": "code",
   "execution_count": 5,
   "metadata": {},
   "outputs": [],
   "source": [
    "def init_I():\n",
    "    return 1\n",
    "\n",
    "def init_R():\n",
    "    return 1"
   ]
  },
  {
   "cell_type": "code",
   "execution_count": 6,
   "metadata": {},
   "outputs": [],
   "source": [
    "def SIR(z, t, be, gm):\n",
    "    '''The input z corresponds to the current state of the system, z = [x, y]. Since the input is in 1D, no \n",
    "    pre-processing is needed.\n",
    "    \n",
    "    t is the current time.\n",
    "    \n",
    "    a and b correspond to the unknown parameters.\n",
    "    '''\n",
    "    \n",
    "    S, I = z\n",
    "    \n",
    "    return [-be*(S*I)/N, be*(S*I)/N-gm*I]"
   ]
  },
  {
   "cell_type": "code",
   "execution_count": 15,
   "metadata": {},
   "outputs": [
    {
     "name": "stdout",
     "output_type": "stream",
     "text": [
      "40\n",
      "40\n",
      "40\n"
     ]
    }
   ],
   "source": [
    "# Susceptibles\n",
    "lst = []\n",
    "S = []\n",
    "#S.append(Hubei)\n",
    "ent = data.loc[0,'China']\n",
    "#normalizar datos (empezar desde cero infectados)\n",
    "for a in china:\n",
    "    if a == ent:\n",
    "        lst.append(0)\n",
    "        #S.append(Hubei)\n",
    "    else:\n",
    "        ent2 = a - ent  \n",
    "        lst.append(ent2)\n",
    "#print(len(china))\n",
    "\n",
    "#Ver el número de infectados por dia\n",
    "I = []\n",
    "\n",
    "#I.append(init_I)\n",
    "#print(I)\n",
    "\n",
    "for i in range(len(china)-1):\n",
    "    infected = china[i]-deaths_china[i]\n",
    "    I.append(infected)\n",
    "\n",
    "#lista de susceptibles \n",
    "for i in range(len(lst)-1):\n",
    "    sucs = Hubei-I[i]-deaths_china[i]\n",
    "    S.append(infected)\n",
    "\n",
    "#lista de recuperados\n",
    "R = []\n",
    "#R.append(0)\n",
    "#normalizar datos (empezar desde cero recuperados)\n",
    "muertos_total=[]\n",
    "muerto_dia = []\n",
    "primer_muerto = data.loc[0,'Death China']\n",
    "\n",
    "muerto_dia.append(0)\n",
    "#normalizar la informacion sobre los muertos\n",
    "\n",
    "for d in deaths_china:\n",
    "    if d == primer_muerto:\n",
    "        muertos_total.append(0)\n",
    "        #print(R)\n",
    "    else:\n",
    "        muerto = d - primer_muerto\n",
    "        #print(muerto)\n",
    "        muertos_total.append(muerto)\n",
    "        #muerto_dia1 = array.array(muerto_dia)\n",
    "\n",
    "#Ver el número de muertos por dia\n",
    "for i in range(len(muertos_total)-1):\n",
    "    muertos_dia = muertos_total[i+1]-muertos_total[i] \n",
    "    muerto_dia.append(muertos_dia)\n",
    "#print(muerto_dia)\n",
    "\n",
    "for i in range(len(muerto_dia)-1):\n",
    "    recuperados = deaths_china[i]\n",
    "    #print(recuperados)\n",
    "    R.append(recuperados)\n",
    "\n",
    "\n",
    "#print(S) \n",
    "#print(I)\n",
    "#print(R)\n",
    "print(len(S))\n",
    "print(len(I))\n",
    "print(len(R))"
   ]
  },
  {
   "cell_type": "code",
   "execution_count": 16,
   "metadata": {},
   "outputs": [
    {
     "name": "stdout",
     "output_type": "stream",
     "text": [
      "76834\n",
      "76897\n",
      "77127\n",
      "77386\n",
      "77853\n",
      "78541\n",
      "79317\n",
      "81093\n",
      "82553\n",
      "84292\n",
      "86276\n",
      "88377\n",
      "90967\n",
      "93794\n",
      "97027\n",
      "100919\n",
      "104616\n",
      "107767\n",
      "111154\n",
      "113807\n",
      "116791\n",
      "119264\n",
      "121286\n",
      "123106\n",
      "125104\n",
      "126610\n",
      "127730\n",
      "147191\n",
      "149084\n",
      "150836\n",
      "151231\n",
      "152125\n",
      "152948\n",
      "153598\n",
      "153818\n",
      "154336\n",
      "154747\n",
      "155186\n",
      "155517\n",
      "155950\n"
     ]
    }
   ],
   "source": [
    "dict = {'S':S,'I': I,'R':R}\n",
    "    \n",
    "df = pd.DataFrame(dict) \n",
    "    \n",
    "for i in range(len(muerto_dia)-1):\n",
    "    total = S[i]+R[i]+I[i]\n",
    "    print(total)"
   ]
  },
  {
   "cell_type": "code",
   "execution_count": null,
   "metadata": {},
   "outputs": [],
   "source": []
  }
 ],
 "metadata": {
  "kernelspec": {
   "display_name": "Python 3",
   "language": "python",
   "name": "python3"
  },
  "language_info": {
   "codemirror_mode": {
    "name": "ipython",
    "version": 3
   },
   "file_extension": ".py",
   "mimetype": "text/x-python",
   "name": "python",
   "nbconvert_exporter": "python",
   "pygments_lexer": "ipython3",
   "version": "3.8.3"
  }
 },
 "nbformat": 4,
 "nbformat_minor": 4
}
