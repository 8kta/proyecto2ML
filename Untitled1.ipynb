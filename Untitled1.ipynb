{
 "cells": [
  {
   "cell_type": "code",
   "execution_count": 1,
   "metadata": {},
   "outputs": [],
   "source": [
    "import pandas as pd\n",
    "import numpy as np\n",
    "from scipy import integrate\n",
    "from sklearn.metrics import mean_squared_error, mean_squared_log_error, mean_absolute_error, median_absolute_error\n",
    "from scipy.integrate import odeint\n",
    "from scipy.optimize import differential_evolution, minimize\n",
    "import matplotlib.pyplot as plt\n",
    "import PDEparams as pde\n",
    "import array"
   ]
  },
  {
   "cell_type": "code",
   "execution_count": 2,
   "metadata": {},
   "outputs": [
    {
     "data": {
      "text/plain": [
       "41"
      ]
     },
     "execution_count": 2,
     "metadata": {},
     "output_type": "execute_result"
    }
   ],
   "source": [
    "data = pd.read_csv('CoV2019.csv')\n",
    "china = data[\"China\"]#data[\"China\"][:27]\n",
    "days = data[\"Days\"]\n",
    "total = data[\"Total\"]\n",
    "deaths_china = data[\"Death China\"]\n",
    "other = data[\"Other\"]\n",
    "china_total = data[\"China\"]\n",
    "days_total = data[\"Days\"]\n",
    "deaths_china_total = data[\"Death China\"]\n",
    "deaths_outside_total = data[\"Death Outside\"]\n",
    "len(deaths_china)"
   ]
  },
  {
   "cell_type": "code",
   "execution_count": 3,
   "metadata": {},
   "outputs": [
    {
     "name": "stdout",
     "output_type": "stream",
     "text": [
      "Date of report\n",
      "Days\n",
      "Total\n",
      "China\n",
      "Death China\n",
      "Other\n",
      "Death Outside\n",
      "Death Globally\n",
      "En total hay: 8 características.\n"
     ]
    }
   ],
   "source": [
    "count = 0\n",
    "for a in data:\n",
    "    print(a)\n",
    "    count = count + 1\n",
    "print('En total hay:', count, 'características.')"
   ]
  },
  {
   "cell_type": "code",
   "execution_count": 4,
   "metadata": {},
   "outputs": [],
   "source": [
    "Hubei = 5917*10**4\n",
    "Guangdong = 11346*10**4\n",
    "Henan = 9605*10**4\n",
    "Zhejiang = 5737*10**4\n",
    "Hunan = 6899*10**4\n",
    "Anhui = 6324*10**4\n",
    "Jiangxi = 4648*10**4\n",
    "N = 56*10**3   # estimate of people affected by lock down\n",
    "#init_I = 1\n",
    "#init_R = 1\n",
    "#init_S = 5917*10**4"
   ]
  },
  {
   "cell_type": "code",
   "execution_count": 5,
   "metadata": {},
   "outputs": [],
   "source": [
    "def init_I():\n",
    "    return 1\n",
    "\n",
    "def init_R():\n",
    "    return 1"
   ]
  },
  {
   "cell_type": "code",
   "execution_count": 6,
   "metadata": {},
   "outputs": [],
   "source": [
    "def SIR(z, t, be, gm):\n",
    "    '''The input z corresponds to the current state of the system, z = [x, y]. Since the input is in 1D, no \n",
    "    pre-processing is needed.\n",
    "    \n",
    "    t is the current time.\n",
    "    \n",
    "    a and b correspond to the unknown parameters.\n",
    "    '''\n",
    "    \n",
    "    S, I = z\n",
    "    \n",
    "    return [-be*(S*I)/N, be*(S*I)/N-gm*I]"
   ]
  },
  {
   "cell_type": "code",
   "execution_count": 28,
   "metadata": {},
   "outputs": [
    {
     "name": "stdout",
     "output_type": "stream",
     "text": [
      "[272, 335, 554, 805, 1256, 1929, 2681, 4431, 5865, 7566, 9507, 11562, 14107, 16877, 20046, 23872, 27496, 30574, 33875, 36439, 39326, 41691, 43616, 45182, 47167, 48530, 49508, 68863, 70658, 72274, 72554, 73330, 74044, 74597, 74667, 75114, 75473, 75883, 76170, 76556, 76706]\n",
      "41\n",
      "41\n",
      "41\n"
     ]
    }
   ],
   "source": [
    "# DATOS\n",
    "S = []\n",
    "I = []\n",
    "R = []\n",
    "\n",
    "#lista para infectados\n",
    "for i in range(len(china)):\n",
    "    infected = china[i]-deaths_china[i]\n",
    "    I.append(infected)\n",
    "\n",
    "#lista de susceptibles \n",
    "for i in range(len(china)):\n",
    "    sucs = Hubei-china[i]\n",
    "    S.append(infected)\n",
    "\n",
    "#lista de recuperados\n",
    "for i in range(len(china)):\n",
    "    recuperados = deaths_china[i]\n",
    "    #print(recuperados)\n",
    "    R.append(recuperados)\n",
    "\n",
    "\n",
    "#print(S) \n",
    "print(I)\n",
    "#print(R)\n",
    "print(len(S))\n",
    "print(len(I))\n",
    "print(len(R))"
   ]
  },
  {
   "cell_type": "code",
   "execution_count": 30,
   "metadata": {},
   "outputs": [
    {
     "name": "stdout",
     "output_type": "stream",
     "text": [
      "76984\n",
      "77047\n",
      "77277\n",
      "77536\n",
      "78003\n",
      "78691\n",
      "79467\n",
      "81243\n",
      "82703\n",
      "84442\n",
      "86426\n",
      "88527\n",
      "91117\n",
      "93944\n",
      "97177\n",
      "101069\n",
      "104766\n",
      "107917\n",
      "111304\n",
      "113957\n",
      "116941\n",
      "119414\n",
      "121436\n",
      "123256\n",
      "125254\n",
      "126760\n",
      "127880\n",
      "147341\n",
      "149234\n",
      "150986\n",
      "151381\n",
      "152275\n",
      "153098\n",
      "153748\n",
      "153968\n",
      "154486\n",
      "154897\n",
      "155336\n",
      "155667\n",
      "156100\n"
     ]
    }
   ],
   "source": [
    "dict = {'S':S,'I': I,'R':R}\n",
    "    \n",
    "df = pd.DataFrame(dict) \n",
    "    \n",
    "for i in range(len(muerto_dia)-1):\n",
    "    total = S[i]+R[i]+I[i]\n",
    "    print(total)"
   ]
  },
  {
   "cell_type": "code",
   "execution_count": null,
   "metadata": {},
   "outputs": [],
   "source": []
  }
 ],
 "metadata": {
  "kernelspec": {
   "display_name": "Python 3",
   "language": "python",
   "name": "python3"
  },
  "language_info": {
   "codemirror_mode": {
    "name": "ipython",
    "version": 3
   },
   "file_extension": ".py",
   "mimetype": "text/x-python",
   "name": "python",
   "nbconvert_exporter": "python",
   "pygments_lexer": "ipython3",
   "version": "3.8.3"
  }
 },
 "nbformat": 4,
 "nbformat_minor": 4
}
