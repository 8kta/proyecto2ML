{
 "cells": [
  {
   "cell_type": "markdown",
   "metadata": {},
   "source": [
    "# Project 2 - Coronavirus"
   ]
  },
  {
   "cell_type": "markdown",
   "metadata": {},
   "source": [
    "This project consist to estimate the SIR model with data from WHO."
   ]
  },
  {
   "cell_type": "code",
   "execution_count": 1,
   "metadata": {},
   "outputs": [],
   "source": [
    "import pandas as pd\n",
    "import numpy as np\n",
    "from scipy import integrate\n",
    "from sklearn.metrics import mean_squared_error, mean_squared_log_error, mean_absolute_error, median_absolute_error\n",
    "from scipy.integrate import odeint\n",
    "from scipy.optimize import differential_evolution, minimize\n",
    "import matplotlib.pyplot as plt\n",
    "import PDEparams as pde\n",
    "import array"
   ]
  },
  {
   "cell_type": "markdown",
   "metadata": {},
   "source": [
    "## Data from World Health Organization\n",
    "#### Only laboratory-confirmed, exclude clinically diagnose"
   ]
  },
  {
   "cell_type": "code",
   "execution_count": 2,
   "metadata": {},
   "outputs": [
    {
     "data": {
      "text/plain": [
       "41"
      ]
     },
     "execution_count": 2,
     "metadata": {},
     "output_type": "execute_result"
    }
   ],
   "source": [
    "data = pd.read_csv('CoV2019.csv')\n",
    "china = data[\"China\"]#data[\"China\"][:27]\n",
    "days = data[\"Days\"]\n",
    "total = data[\"Total\"]\n",
    "deaths_china = data[\"Death China\"]\n",
    "other = data[\"Other\"]\n",
    "china_total = data[\"China\"]\n",
    "days_total = data[\"Days\"]\n",
    "deaths_china_total = data[\"Death China\"]\n",
    "deaths_outside_total = data[\"Death Outside\"]\n",
    "len(deaths_china)"
   ]
  },
  {
   "cell_type": "code",
   "execution_count": 3,
   "metadata": {},
   "outputs": [
    {
     "name": "stdout",
     "output_type": "stream",
     "text": [
      "Date of report\n",
      "Days\n",
      "Total\n",
      "China\n",
      "Death China\n",
      "Other\n",
      "Death Outside\n",
      "Death Globally\n",
      "En total hay: 8 características.\n"
     ]
    }
   ],
   "source": [
    "count = 0\n",
    "for a in data:\n",
    "    print(a)\n",
    "    count = count + 1\n",
    "print('En total hay:', count, 'características.')"
   ]
  },
  {
   "cell_type": "markdown",
   "metadata": {},
   "source": [
    "### Defining the model\n",
    "\n",
    "We use a SIR model:\n",
    "\n",
    "$$\\begin{align}\n",
    "\\frac{\\mathrm{d} S}{\\mathrm{d} t} &= -\\beta\\, \\frac{SI}{N}\\\\\n",
    "\\frac{\\mathrm{d} I}{\\mathrm{d} t} &= \\beta\\, \\frac{SI}{N} - \\gamma\\,I\\\\\n",
    "\\frac{\\mathrm{d} R}{\\mathrm{d} t} &= \\gamma\\,I\n",
    "\\end{align}$$"
   ]
  },
  {
   "cell_type": "markdown",
   "metadata": {},
   "source": [
    "Susceptible -> Infected -> Recovered\n",
    "\n",
    "$$\\begin{align}\n",
    "\\beta &= \\text{Contact Rate } \\times \\text{ Probability of Transmission}\\\\\n",
    "\\sigma &= \\text{Incubation Rate}\\\\\n",
    "\\gamma &= \\text{Recovery Rate}\n",
    "\\end{align}$$\n",
    "\n",
    "Incubation Period: 1-14 Days, most commonly 5 days (WHO)"
   ]
  },
  {
   "cell_type": "code",
   "execution_count": 64,
   "metadata": {},
   "outputs": [],
   "source": [
    "Hubei = 5917*10**4\n",
    "Guangdong = 11346*10**4\n",
    "Henan = 9605*10**4\n",
    "Zhejiang = 5737*10**4\n",
    "Hunan = 6899*10**4\n",
    "Anhui = 6324*10**4\n",
    "Jiangxi = 4648*10**4\n",
    "N = 56*10**3   # estimate of people affected by lock down\n",
    "init_I = 1\n",
    "init_R = 1\n",
    "init_S = 5917*10**4"
   ]
  },
  {
   "cell_type": "markdown",
   "metadata": {},
   "source": [
    "We define our DE "
   ]
  },
  {
   "cell_type": "code",
   "execution_count": 67,
   "metadata": {},
   "outputs": [],
   "source": [
    "def SIR(z, t, be, gm):\n",
    "    '''The input z corresponds to the current state of the system, z = [x, y]. Since the input is in 1D, no \n",
    "    pre-processing is needed.\n",
    "    \n",
    "    t is the current time.\n",
    "    \n",
    "    a and b correspond to the unknown parameters.\n",
    "    '''\n",
    "    \n",
    "    S, I, R = z\n",
    "    \n",
    "    return [-be*(S*I)/N, be (S*I)/N-gm*I, gm]"
   ]
  },
  {
   "cell_type": "markdown",
   "metadata": {},
   "source": [
    "### Using `PDEparams` to estimate parameters\n",
    "\n",
    "First, we load the data from the `.csv` file.\n",
    "\n",
    "Then we build the dataframe with data we want\n",
    "\n",
    "The columns are, in order: $S$, $I$, $R$."
   ]
  },
  {
   "cell_type": "code",
   "execution_count": 34,
   "metadata": {},
   "outputs": [
    {
     "name": "stdout",
     "output_type": "stream",
     "text": [
      "40\n",
      "40\n",
      "40\n"
     ]
    }
   ],
   "source": [
    "# Susceptibles\n",
    "lst = []\n",
    "S = []\n",
    "#S.append(Hubei)\n",
    "ent = data.loc[0,'China']\n",
    "#normalizar datos (empezar desde cero infectados)\n",
    "for a in china:\n",
    "    if a == ent:\n",
    "        lst.append(0)\n",
    "        #S.append(Hubei)\n",
    "    else:\n",
    "        ent2 = a - ent  \n",
    "        lst.append(ent2)\n",
    "#print(len(china))\n",
    "\n",
    "#Ver el número de infectados por dia\n",
    "I = []\n",
    "\n",
    "\n",
    "#I.append(init_I)\n",
    "#print(I)\n",
    "for i in range(len(lst)-1):\n",
    "    infected = lst[i+1]-lst[i] \n",
    "    I.append(infected)\n",
    "\n",
    "#lista de susceptibles \n",
    "for a in I:\n",
    "    b = Hubei - a\n",
    "    S.append(b)\n",
    "\n",
    "\n",
    "#lista de recuperados\n",
    "R = []\n",
    "#R.append(0)\n",
    "#normalizar datos (empezar desde cero recuperados)\n",
    "muertos_total=[]\n",
    "muerto_dia = []\n",
    "primer_muerto = data.loc[0,'Death China']\n",
    "\n",
    "muerto_dia.append(0)\n",
    "#normalizar la informacion sobre los muertos\n",
    "\n",
    "for d in deaths_china:\n",
    "    if d == primer_muerto:\n",
    "        muertos_total.append(0)\n",
    "        #print(R)\n",
    "    else:\n",
    "        muerto = d - primer_muerto\n",
    "        #print(muerto)\n",
    "        muertos_total.append(muerto)\n",
    "        #muerto_dia1 = array.array(muerto_dia)\n",
    "\n",
    "#Ver el número de muertos por dia\n",
    "for i in range(len(muertos_total)-1):\n",
    "    muertos_dia = muertos_total[i+1]-muertos_total[i] \n",
    "    muerto_dia.append(muertos_dia)\n",
    "#print(muerto_dia)\n",
    "\n",
    "for i in range(len(muerto_dia)-1):\n",
    "    recuperados = I[i]-muerto_dia[i]\n",
    "    #print(recuperados)\n",
    "    R.append(recuperados)\n",
    "\n",
    "\n",
    "#print(S) \n",
    "#print(I)\n",
    "#print(R)\n",
    "print(len(S))\n",
    "print(len(I))\n",
    "print(len(R))"
   ]
  },
  {
   "cell_type": "code",
   "execution_count": 35,
   "metadata": {},
   "outputs": [
    {
     "data": {
      "text/html": [
       "<div>\n",
       "<style scoped>\n",
       "    .dataframe tbody tr th:only-of-type {\n",
       "        vertical-align: middle;\n",
       "    }\n",
       "\n",
       "    .dataframe tbody tr th {\n",
       "        vertical-align: top;\n",
       "    }\n",
       "\n",
       "    .dataframe thead th {\n",
       "        text-align: right;\n",
       "    }\n",
       "</style>\n",
       "<table border=\"1\" class=\"dataframe\">\n",
       "  <thead>\n",
       "    <tr style=\"text-align: right;\">\n",
       "      <th></th>\n",
       "      <th>S</th>\n",
       "      <th>I</th>\n",
       "      <th>R</th>\n",
       "    </tr>\n",
       "  </thead>\n",
       "  <tbody>\n",
       "    <tr>\n",
       "      <th>0</th>\n",
       "      <td>59169937</td>\n",
       "      <td>63</td>\n",
       "      <td>63</td>\n",
       "    </tr>\n",
       "    <tr>\n",
       "      <th>1</th>\n",
       "      <td>59169770</td>\n",
       "      <td>230</td>\n",
       "      <td>230</td>\n",
       "    </tr>\n",
       "    <tr>\n",
       "      <th>2</th>\n",
       "      <td>59169741</td>\n",
       "      <td>259</td>\n",
       "      <td>248</td>\n",
       "    </tr>\n",
       "    <tr>\n",
       "      <th>3</th>\n",
       "      <td>59169533</td>\n",
       "      <td>467</td>\n",
       "      <td>459</td>\n",
       "    </tr>\n",
       "    <tr>\n",
       "      <th>4</th>\n",
       "      <td>59169312</td>\n",
       "      <td>688</td>\n",
       "      <td>672</td>\n",
       "    </tr>\n",
       "    <tr>\n",
       "      <th>5</th>\n",
       "      <td>59169224</td>\n",
       "      <td>776</td>\n",
       "      <td>761</td>\n",
       "    </tr>\n",
       "    <tr>\n",
       "      <th>6</th>\n",
       "      <td>59168224</td>\n",
       "      <td>1776</td>\n",
       "      <td>1752</td>\n",
       "    </tr>\n",
       "    <tr>\n",
       "      <th>7</th>\n",
       "      <td>59168540</td>\n",
       "      <td>1460</td>\n",
       "      <td>1434</td>\n",
       "    </tr>\n",
       "    <tr>\n",
       "      <th>8</th>\n",
       "      <td>59168261</td>\n",
       "      <td>1739</td>\n",
       "      <td>1713</td>\n",
       "    </tr>\n",
       "    <tr>\n",
       "      <th>9</th>\n",
       "      <td>59168016</td>\n",
       "      <td>1984</td>\n",
       "      <td>1946</td>\n",
       "    </tr>\n",
       "    <tr>\n",
       "      <th>10</th>\n",
       "      <td>59167899</td>\n",
       "      <td>2101</td>\n",
       "      <td>2058</td>\n",
       "    </tr>\n",
       "    <tr>\n",
       "      <th>11</th>\n",
       "      <td>59167410</td>\n",
       "      <td>2590</td>\n",
       "      <td>2544</td>\n",
       "    </tr>\n",
       "    <tr>\n",
       "      <th>12</th>\n",
       "      <td>59167173</td>\n",
       "      <td>2827</td>\n",
       "      <td>2782</td>\n",
       "    </tr>\n",
       "    <tr>\n",
       "      <th>13</th>\n",
       "      <td>59166767</td>\n",
       "      <td>3233</td>\n",
       "      <td>3176</td>\n",
       "    </tr>\n",
       "    <tr>\n",
       "      <th>14</th>\n",
       "      <td>59166108</td>\n",
       "      <td>3892</td>\n",
       "      <td>3828</td>\n",
       "    </tr>\n",
       "    <tr>\n",
       "      <th>15</th>\n",
       "      <td>59166303</td>\n",
       "      <td>3697</td>\n",
       "      <td>3631</td>\n",
       "    </tr>\n",
       "    <tr>\n",
       "      <th>16</th>\n",
       "      <td>59166849</td>\n",
       "      <td>3151</td>\n",
       "      <td>3078</td>\n",
       "    </tr>\n",
       "    <tr>\n",
       "      <th>17</th>\n",
       "      <td>59166613</td>\n",
       "      <td>3387</td>\n",
       "      <td>3314</td>\n",
       "    </tr>\n",
       "    <tr>\n",
       "      <th>18</th>\n",
       "      <td>59167347</td>\n",
       "      <td>2653</td>\n",
       "      <td>2567</td>\n",
       "    </tr>\n",
       "    <tr>\n",
       "      <th>19</th>\n",
       "      <td>59167016</td>\n",
       "      <td>2984</td>\n",
       "      <td>2895</td>\n",
       "    </tr>\n",
       "    <tr>\n",
       "      <th>20</th>\n",
       "      <td>59167527</td>\n",
       "      <td>2473</td>\n",
       "      <td>2376</td>\n",
       "    </tr>\n",
       "    <tr>\n",
       "      <th>21</th>\n",
       "      <td>59167978</td>\n",
       "      <td>2022</td>\n",
       "      <td>1914</td>\n",
       "    </tr>\n",
       "    <tr>\n",
       "      <th>22</th>\n",
       "      <td>59168180</td>\n",
       "      <td>1820</td>\n",
       "      <td>1723</td>\n",
       "    </tr>\n",
       "    <tr>\n",
       "      <th>23</th>\n",
       "      <td>59168002</td>\n",
       "      <td>1998</td>\n",
       "      <td>1744</td>\n",
       "    </tr>\n",
       "    <tr>\n",
       "      <th>24</th>\n",
       "      <td>59168494</td>\n",
       "      <td>1506</td>\n",
       "      <td>1493</td>\n",
       "    </tr>\n",
       "    <tr>\n",
       "      <th>25</th>\n",
       "      <td>59168880</td>\n",
       "      <td>1120</td>\n",
       "      <td>977</td>\n",
       "    </tr>\n",
       "    <tr>\n",
       "      <th>26</th>\n",
       "      <td>59150539</td>\n",
       "      <td>19461</td>\n",
       "      <td>19319</td>\n",
       "    </tr>\n",
       "    <tr>\n",
       "      <th>27</th>\n",
       "      <td>59168107</td>\n",
       "      <td>1893</td>\n",
       "      <td>1787</td>\n",
       "    </tr>\n",
       "    <tr>\n",
       "      <th>28</th>\n",
       "      <td>59168248</td>\n",
       "      <td>1752</td>\n",
       "      <td>1654</td>\n",
       "    </tr>\n",
       "    <tr>\n",
       "      <th>29</th>\n",
       "      <td>59169605</td>\n",
       "      <td>395</td>\n",
       "      <td>259</td>\n",
       "    </tr>\n",
       "    <tr>\n",
       "      <th>30</th>\n",
       "      <td>59169106</td>\n",
       "      <td>894</td>\n",
       "      <td>779</td>\n",
       "    </tr>\n",
       "    <tr>\n",
       "      <th>31</th>\n",
       "      <td>59169177</td>\n",
       "      <td>823</td>\n",
       "      <td>705</td>\n",
       "    </tr>\n",
       "    <tr>\n",
       "      <th>32</th>\n",
       "      <td>59169350</td>\n",
       "      <td>650</td>\n",
       "      <td>541</td>\n",
       "    </tr>\n",
       "    <tr>\n",
       "      <th>33</th>\n",
       "      <td>59169780</td>\n",
       "      <td>220</td>\n",
       "      <td>123</td>\n",
       "    </tr>\n",
       "    <tr>\n",
       "      <th>34</th>\n",
       "      <td>59169482</td>\n",
       "      <td>518</td>\n",
       "      <td>368</td>\n",
       "    </tr>\n",
       "    <tr>\n",
       "      <th>35</th>\n",
       "      <td>59169589</td>\n",
       "      <td>411</td>\n",
       "      <td>340</td>\n",
       "    </tr>\n",
       "    <tr>\n",
       "      <th>36</th>\n",
       "      <td>59169561</td>\n",
       "      <td>439</td>\n",
       "      <td>387</td>\n",
       "    </tr>\n",
       "    <tr>\n",
       "      <th>37</th>\n",
       "      <td>59169669</td>\n",
       "      <td>331</td>\n",
       "      <td>302</td>\n",
       "    </tr>\n",
       "    <tr>\n",
       "      <th>38</th>\n",
       "      <td>59169567</td>\n",
       "      <td>433</td>\n",
       "      <td>389</td>\n",
       "    </tr>\n",
       "    <tr>\n",
       "      <th>39</th>\n",
       "      <td>59169815</td>\n",
       "      <td>185</td>\n",
       "      <td>138</td>\n",
       "    </tr>\n",
       "  </tbody>\n",
       "</table>\n",
       "</div>"
      ],
      "text/plain": [
       "           S      I      R\n",
       "0   59169937     63     63\n",
       "1   59169770    230    230\n",
       "2   59169741    259    248\n",
       "3   59169533    467    459\n",
       "4   59169312    688    672\n",
       "5   59169224    776    761\n",
       "6   59168224   1776   1752\n",
       "7   59168540   1460   1434\n",
       "8   59168261   1739   1713\n",
       "9   59168016   1984   1946\n",
       "10  59167899   2101   2058\n",
       "11  59167410   2590   2544\n",
       "12  59167173   2827   2782\n",
       "13  59166767   3233   3176\n",
       "14  59166108   3892   3828\n",
       "15  59166303   3697   3631\n",
       "16  59166849   3151   3078\n",
       "17  59166613   3387   3314\n",
       "18  59167347   2653   2567\n",
       "19  59167016   2984   2895\n",
       "20  59167527   2473   2376\n",
       "21  59167978   2022   1914\n",
       "22  59168180   1820   1723\n",
       "23  59168002   1998   1744\n",
       "24  59168494   1506   1493\n",
       "25  59168880   1120    977\n",
       "26  59150539  19461  19319\n",
       "27  59168107   1893   1787\n",
       "28  59168248   1752   1654\n",
       "29  59169605    395    259\n",
       "30  59169106    894    779\n",
       "31  59169177    823    705\n",
       "32  59169350    650    541\n",
       "33  59169780    220    123\n",
       "34  59169482    518    368\n",
       "35  59169589    411    340\n",
       "36  59169561    439    387\n",
       "37  59169669    331    302\n",
       "38  59169567    433    389\n",
       "39  59169815    185    138"
      ]
     },
     "execution_count": 35,
     "metadata": {},
     "output_type": "execute_result"
    }
   ],
   "source": [
    "dict = {'S': S, 'I': I, 'R': R}  \n",
    "    \n",
    "df = pd.DataFrame(dict) \n",
    "    \n",
    "df  "
   ]
  },
  {
   "cell_type": "markdown",
   "metadata": {},
   "source": [
    "#### Constructing the `PDEmodel` object.\n",
    "\n",
    "The inputs are\n",
    "\n",
    "**Required:**\n",
    "1. The data table `data`.\n",
    "2. The model `SIR`.\n",
    "3. The list of initial condition functions.\n",
    "4. The bounds for the parameter values.\n",
    "\n",
    "**Optional:**\n",
    "1. The parameter names.\n",
    "2. The number of variables: 2. **(Default is 1, this needs to be provided in this case)**\n",
    "3. The number of spatial dimensions: 0. **(Default is 1, this needs to be provided in this case)**\n",
    "4. The number of replicates in the data: 1. **(Default is 1, this needs to be provided in this case)**\n",
    "5. The indices of the measured variables. In this case, the default `None`, since we have data for all 2 variables.\n",
    "6. The function to apply to the output. In this case, the default `None`, since our data is directly $x$ and $y$."
   ]
  },
  {
   "cell_type": "code",
   "execution_count": 80,
   "metadata": {},
   "outputs": [],
   "source": [
    "my_model = pde.PDEmodel(df, SIR, [init_I, init_R], bounds=[(0, 1), (0,1)], \n",
    "                        param_names=[r'$be$', r'$gm$'], nvars=0, ndims=0, \n",
    "                        nreplicates=1, obsidx=None, outfunc=None)"
   ]
  },
  {
   "cell_type": "code",
   "execution_count": 81,
   "metadata": {},
   "outputs": [
    {
     "data": {
      "text/plain": [
       "array([], dtype=float64)"
      ]
     },
     "execution_count": 81,
     "metadata": {},
     "output_type": "execute_result"
    }
   ],
   "source": [
    "my_model.initial_condition"
   ]
  },
  {
   "cell_type": "code",
   "execution_count": 82,
   "metadata": {},
   "outputs": [
    {
     "name": "stdout",
     "output_type": "stream",
     "text": [
      "       $be$      $gm$\n",
      "0  0.741251  0.226184\n",
      "CPU times: user 13.4 s, sys: 102 ms, total: 13.5 s\n",
      "Wall time: 13.8 s\n"
     ]
    }
   ],
   "source": [
    "%%time\n",
    "my_model.fit()"
   ]
  },
  {
   "cell_type": "code",
   "execution_count": 83,
   "metadata": {},
   "outputs": [
    {
     "data": {
      "text/html": [
       "<div>\n",
       "<style scoped>\n",
       "    .dataframe tbody tr th:only-of-type {\n",
       "        vertical-align: middle;\n",
       "    }\n",
       "\n",
       "    .dataframe tbody tr th {\n",
       "        vertical-align: top;\n",
       "    }\n",
       "\n",
       "    .dataframe thead th {\n",
       "        text-align: right;\n",
       "    }\n",
       "</style>\n",
       "<table border=\"1\" class=\"dataframe\">\n",
       "  <thead>\n",
       "    <tr style=\"text-align: right;\">\n",
       "      <th></th>\n",
       "      <th>$be$</th>\n",
       "      <th>$gm$</th>\n",
       "    </tr>\n",
       "  </thead>\n",
       "  <tbody>\n",
       "    <tr>\n",
       "      <th>0</th>\n",
       "      <td>0.741251</td>\n",
       "      <td>0.226184</td>\n",
       "    </tr>\n",
       "  </tbody>\n",
       "</table>\n",
       "</div>"
      ],
      "text/plain": [
       "       $be$      $gm$\n",
       "0  0.741251  0.226184"
      ]
     },
     "execution_count": 83,
     "metadata": {},
     "output_type": "execute_result"
    }
   ],
   "source": [
    "my_model.best_params"
   ]
  },
  {
   "cell_type": "code",
   "execution_count": 84,
   "metadata": {},
   "outputs": [
    {
     "data": {
      "text/plain": [
       "inf"
      ]
     },
     "execution_count": 84,
     "metadata": {},
     "output_type": "execute_result"
    }
   ],
   "source": [
    "my_model.best_error"
   ]
  },
  {
   "cell_type": "code",
   "execution_count": null,
   "metadata": {},
   "outputs": [
    {
     "data": {
      "application/vnd.jupyter.widget-view+json": {
       "model_id": "564819a44def48bba4aab80239105d9a",
       "version_major": 2,
       "version_minor": 0
      },
      "text/plain": [
       "HBox(children=(FloatProgress(value=0.0, description='parameters', max=2.0, style=ProgressStyle(description_wid…"
      ]
     },
     "metadata": {},
     "output_type": "display_data"
    },
    {
     "data": {
      "application/vnd.jupyter.widget-view+json": {
       "model_id": "6784610cf0e946ed933746b45be68f36",
       "version_major": 2,
       "version_minor": 0
      },
      "text/plain": [
       "HBox(children=(FloatProgress(value=0.0, description='values within parameters', style=ProgressStyle(descriptio…"
      ]
     },
     "metadata": {},
     "output_type": "display_data"
    }
   ],
   "source": [
    "%%time\n",
    "my_model.likelihood_profiles()"
   ]
  },
  {
   "cell_type": "code",
   "execution_count": null,
   "metadata": {},
   "outputs": [],
   "source": [
    "my_model.result_profiles"
   ]
  }
 ],
 "metadata": {
  "kernelspec": {
   "display_name": "Python 3",
   "language": "python",
   "name": "python3"
  },
  "language_info": {
   "codemirror_mode": {
    "name": "ipython",
    "version": 3
   },
   "file_extension": ".py",
   "mimetype": "text/x-python",
   "name": "python",
   "nbconvert_exporter": "python",
   "pygments_lexer": "ipython3",
   "version": "3.8.3"
  }
 },
 "nbformat": 4,
 "nbformat_minor": 4
}
