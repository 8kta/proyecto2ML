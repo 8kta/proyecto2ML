{
 "cells": [
  {
   "cell_type": "markdown",
   "metadata": {},
   "source": [
    "# Project 2 - Coronavirus"
   ]
  },
  {
   "cell_type": "markdown",
   "metadata": {},
   "source": [
    "This project consist to estimate the SIR model with data from WHO."
   ]
  },
  {
   "cell_type": "code",
   "execution_count": 2,
   "metadata": {},
   "outputs": [],
   "source": [
    "import pandas as pd\n",
    "import numpy as np\n",
    "from scipy import integrate\n",
    "from sklearn.metrics import mean_squared_error, mean_squared_log_error, mean_absolute_error, median_absolute_error\n",
    "from scipy.integrate import odeint\n",
    "from scipy.optimize import differential_evolution, minimize\n",
    "import matplotlib.pyplot as plt\n",
    "import PDEparams as pde\n",
    "import array"
   ]
  },
  {
   "cell_type": "markdown",
   "metadata": {},
   "source": [
    "## Data from World Health Organization\n",
    "#### Only laboratory-confirmed, exclude clinically diagnose"
   ]
  },
  {
   "cell_type": "code",
   "execution_count": 3,
   "metadata": {},
   "outputs": [
    {
     "name": "stdout",
     "output_type": "stream",
     "text": [
      "True\n",
      "False\n",
      "False\n",
      "False\n",
      "True\n",
      "True\n",
      "True\n",
      "True\n",
      "True\n",
      "True\n",
      "True\n",
      "True\n",
      "True\n",
      "True\n",
      "True\n",
      "True\n",
      "True\n",
      "True\n",
      "True\n",
      "True\n",
      "True\n",
      "True\n",
      "True\n",
      "True\n",
      "True\n",
      "True\n",
      "True\n",
      "True\n",
      "True\n",
      "True\n",
      "True\n",
      "True\n",
      "True\n",
      "True\n",
      "True\n",
      "True\n",
      "True\n",
      "True\n",
      "True\n",
      "True\n"
     ]
    }
   ],
   "source": [
    "data = pd.read_csv('CoV2019.csv')\n",
    "\n",
    "china = data[\"China\"]#data[\"China\"][:27]\n",
    "days = data[\"Days\"]\n",
    "total = data[\"Total\"]\n",
    "deaths_china = data[\"Death China\"]\n",
    "other = data[\"Other\"]\n",
    "china_total = data[\"China\"]\n",
    "days_total = data[\"Days\"]\n",
    "deaths_china_total = data[\"Death China\"]\n",
    "deaths_outside_total = data[\"Death Outside\"]\n",
    "len(deaths_china)\n",
    "for i in range(len(days)-1):\n",
    "    if other[i]+china[i]==total[i]:\n",
    "        print('True')\n",
    "    else:\n",
    "        print('False')"
   ]
  },
  {
   "cell_type": "code",
   "execution_count": 4,
   "metadata": {},
   "outputs": [
    {
     "name": "stdout",
     "output_type": "stream",
     "text": [
      "Date of report\n",
      "Days\n",
      "Total\n",
      "China\n",
      "Death China\n",
      "Other\n",
      "Death Outside\n",
      "Death Globally\n",
      "En total hay: 8 características.\n"
     ]
    }
   ],
   "source": [
    "count = 0\n",
    "for a in data:\n",
    "    print(a)\n",
    "    count = count + 1\n",
    "print('En total hay:', count, 'características.')"
   ]
  },
  {
   "cell_type": "markdown",
   "metadata": {},
   "source": [
    "### Defining the model\n",
    "\n",
    "We use a SIR model:\n",
    "\n",
    "$$\\begin{align}\n",
    "\\frac{\\mathrm{d} S}{\\mathrm{d} t} &= -\\beta\\, \\frac{SI}{N}\\\\\n",
    "\\frac{\\mathrm{d} I}{\\mathrm{d} t} &= \\beta\\, \\frac{SI}{N} - \\gamma\\,I\\\\\n",
    "\\frac{\\mathrm{d} R}{\\mathrm{d} t} &= \\gamma\\,I\n",
    "\\end{align}$$"
   ]
  },
  {
   "cell_type": "markdown",
   "metadata": {},
   "source": [
    "Susceptible -> Infected -> Recovered\n",
    "\n",
    "$$\\begin{align}\n",
    "\\beta &= \\text{Contact Rate } \\times \\text{ Probability of Transmission}\\\\\n",
    "\\sigma &= \\text{Incubation Rate}\\\\\n",
    "\\gamma &= \\text{Recovery Rate}\n",
    "\\end{align}$$\n",
    "\n",
    "Incubation Period: 1-14 Days, most commonly 5 days (WHO)"
   ]
  },
  {
   "cell_type": "code",
   "execution_count": 5,
   "metadata": {},
   "outputs": [],
   "source": [
    "Hubei = 5917*10**4\n",
    "Guangdong = 11346*10**4\n",
    "Henan = 9605*10**4\n",
    "Zhejiang = 5737*10**4\n",
    "Hunan = 6899*10**4\n",
    "Anhui = 6324*10**4\n",
    "Jiangxi = 4648*10**4\n",
    "N = 56*10**3   # estimate of people affected by lock down\n",
    "#init_I = 1\n",
    "#init_R = 1\n",
    "#init_S = 5917*10**4"
   ]
  },
  {
   "cell_type": "code",
   "execution_count": 374,
   "metadata": {},
   "outputs": [],
   "source": [
    "def init_I():\n",
    "    return 1\n",
    "\n",
    "def init_I2():\n",
    "    return 278\n",
    "\n",
    "def init_S2():\n",
    "    return 1\n",
    "\n",
    "def init_R():\n",
    "    return 0\n",
    "\n",
    "def init_S():\n",
    "    return 4000"
   ]
  },
  {
   "cell_type": "markdown",
   "metadata": {},
   "source": [
    "We define our DE "
   ]
  },
  {
   "cell_type": "code",
   "execution_count": 352,
   "metadata": {},
   "outputs": [],
   "source": [
    "def SIR(z, t, be, gm):\n",
    "    '''The input z corresponds to the current state of the system, z = [x, y]. Since the input is in 1D, no \n",
    "    pre-processing is needed.\n",
    "    \n",
    "    t is the current time.\n",
    "    \n",
    "    a and b correspond to the unknown parameters.\n",
    "    '''\n",
    "    \n",
    "    S, I, R = z\n",
    "    \n",
    "    return [-be*(S*I), be*(S*I)-gm*I,gm*I]"
   ]
  },
  {
   "cell_type": "markdown",
   "metadata": {},
   "source": [
    "### Using `PDEparams` to estimate parameters\n",
    "\n",
    "First, we load the data from the `.csv` file.\n",
    "\n",
    "Then we build the dataframe with data we want\n",
    "\n",
    "The columns are, in order: $S$, $I$, $R$."
   ]
  },
  {
   "cell_type": "code",
   "execution_count": 8,
   "metadata": {},
   "outputs": [
    {
     "data": {
      "text/html": [
       "<div>\n",
       "<style scoped>\n",
       "    .dataframe tbody tr th:only-of-type {\n",
       "        vertical-align: middle;\n",
       "    }\n",
       "\n",
       "    .dataframe tbody tr th {\n",
       "        vertical-align: top;\n",
       "    }\n",
       "\n",
       "    .dataframe thead th {\n",
       "        text-align: right;\n",
       "    }\n",
       "</style>\n",
       "<table border=\"1\" class=\"dataframe\">\n",
       "  <thead>\n",
       "    <tr style=\"text-align: right;\">\n",
       "      <th></th>\n",
       "      <th>Date of report</th>\n",
       "      <th>Days</th>\n",
       "      <th>Total</th>\n",
       "      <th>China</th>\n",
       "      <th>Death China</th>\n",
       "      <th>Other</th>\n",
       "      <th>Death Outside</th>\n",
       "      <th>Death Globally</th>\n",
       "    </tr>\n",
       "  </thead>\n",
       "  <tbody>\n",
       "    <tr>\n",
       "      <th>0</th>\n",
       "      <td>01/20/20</td>\n",
       "      <td>21</td>\n",
       "      <td>282</td>\n",
       "      <td>278</td>\n",
       "      <td>6</td>\n",
       "      <td>4</td>\n",
       "      <td>0</td>\n",
       "      <td>6</td>\n",
       "    </tr>\n",
       "    <tr>\n",
       "      <th>1</th>\n",
       "      <td>01/21/20</td>\n",
       "      <td>22</td>\n",
       "      <td>346</td>\n",
       "      <td>341</td>\n",
       "      <td>6</td>\n",
       "      <td>4</td>\n",
       "      <td>0</td>\n",
       "      <td>6</td>\n",
       "    </tr>\n",
       "    <tr>\n",
       "      <th>2</th>\n",
       "      <td>01/23/20</td>\n",
       "      <td>24</td>\n",
       "      <td>581</td>\n",
       "      <td>571</td>\n",
       "      <td>17</td>\n",
       "      <td>7</td>\n",
       "      <td>0</td>\n",
       "      <td>17</td>\n",
       "    </tr>\n",
       "    <tr>\n",
       "      <th>3</th>\n",
       "      <td>01/24/20</td>\n",
       "      <td>25</td>\n",
       "      <td>846</td>\n",
       "      <td>830</td>\n",
       "      <td>25</td>\n",
       "      <td>11</td>\n",
       "      <td>0</td>\n",
       "      <td>25</td>\n",
       "    </tr>\n",
       "    <tr>\n",
       "      <th>4</th>\n",
       "      <td>01/25/20</td>\n",
       "      <td>26</td>\n",
       "      <td>1320</td>\n",
       "      <td>1297</td>\n",
       "      <td>41</td>\n",
       "      <td>23</td>\n",
       "      <td>0</td>\n",
       "      <td>41</td>\n",
       "    </tr>\n",
       "  </tbody>\n",
       "</table>\n",
       "</div>"
      ],
      "text/plain": [
       "  Date of report  Days  Total  China  Death China  Other  Death Outside  \\\n",
       "0       01/20/20    21    282    278            6      4              0   \n",
       "1       01/21/20    22    346    341            6      4              0   \n",
       "2       01/23/20    24    581    571           17      7              0   \n",
       "3       01/24/20    25    846    830           25     11              0   \n",
       "4       01/25/20    26   1320   1297           41     23              0   \n",
       "\n",
       "   Death Globally  \n",
       "0               6  \n",
       "1               6  \n",
       "2              17  \n",
       "3              25  \n",
       "4              41  "
      ]
     },
     "execution_count": 8,
     "metadata": {},
     "output_type": "execute_result"
    }
   ],
   "source": [
    "data.head()"
   ]
  },
  {
   "cell_type": "code",
   "execution_count": 9,
   "metadata": {},
   "outputs": [
    {
     "name": "stdout",
     "output_type": "stream",
     "text": [
      "[59169937, 59169770, 59169752, 59169541, 59169328, 59169239, 59168248, 59168566, 59168287, 59168054, 59167942, 59167456, 59167218, 59166824, 59166172, 59166369, 59166922, 59166686, 59167433, 59167105, 59167624, 59168086, 59168277, 59168256, 59168507, 59169023, 59150681, 59168213, 59168346, 59169741, 59169221, 59169295, 59169459, 59169877, 59169632, 59169660, 59169613, 59169698, 59169611, 59169862]\n",
      "[63, 230, 248, 459, 672, 761, 1752, 1434, 1713, 1946, 2058, 2544, 2782, 3176, 3828, 3631, 3078, 3314, 2567, 2895, 2376, 1914, 1723, 1744, 1493, 977, 19319, 1787, 1654, 259, 779, 705, 541, 123, 368, 340, 387, 302, 389, 138]\n",
      "[0, 0, 11, 8, 16, 15, 24, 26, 26, 38, 43, 46, 45, 57, 64, 66, 73, 73, 86, 89, 97, 108, 97, 254, 13, 143, 142, 106, 98, 136, 115, 118, 109, 97, 150, 71, 52, 29, 44, 47]\n",
      "40\n",
      "40\n",
      "40\n"
     ]
    }
   ],
   "source": [
    "#lista de recuperados\n",
    "R = []\n",
    "#R.append(0)\n",
    "#normalizar datos (empezar desde cero recuperados)\n",
    "muertos_total=[]\n",
    "muerto_dia = []\n",
    "primer_muerto = data.loc[0,'Death China']\n",
    "muerto_dia.append(0)\n",
    "#normalizar la informacion sobre los muertos\n",
    "for d in deaths_china:\n",
    "    muerto = d - primer_muerto\n",
    "    muertos_total.append(muerto)\n",
    "\n",
    "#Ver el número de muertos por dia\n",
    "#print(range(len(muertos_total)-1)\n",
    "for i in range(len(muertos_total)-1):\n",
    "    muertos_dia = muertos_total[i+1]-muertos_total[i]\n",
    "    muerto_dia.append(muertos_dia)\n",
    "#print(muerto_dia)\n",
    "\n",
    "for i in range(len(muerto_dia)-1):\n",
    "    recuperados = muerto_dia[i]\n",
    "    #print(recuperados)\n",
    "    R.append(recuperados)\n",
    "#S.append(Hubei)\n",
    "\n",
    "lst = []\n",
    "ent = data.loc[0,'China']\n",
    "#normalizar datos (empezar desde cero infectados)\n",
    "for a in china:\n",
    "    ent2 = a - ent  \n",
    "    lst.append(ent2)\n",
    "#print(lst)\n",
    "#print(len(china))\n",
    "\n",
    "#Ver el número de infectados por dia\n",
    "I = []\n",
    "#I.append(init_I)\n",
    "#print(I)\n",
    "for i in range(len(lst)-1):\n",
    "    infected = lst[i+1]-lst[i]-R[i]\n",
    "    I.append(infected)\n",
    "\n",
    "S = []\n",
    "# Susceptibles\n",
    "#lista de susceptibles \n",
    "for a in I:\n",
    "    b = Hubei - a\n",
    "    S.append(b)\n",
    "\n",
    "print(S)\n",
    "print(I)\n",
    "print(R)\n",
    "print(len(S))\n",
    "print(len(I))\n",
    "print(len(R))"
   ]
  },
  {
   "cell_type": "code",
   "execution_count": 10,
   "metadata": {},
   "outputs": [
    {
     "name": "stdout",
     "output_type": "stream",
     "text": [
      "59170000\n",
      "59170000\n",
      "59170000\n",
      "59170000\n",
      "59170000\n",
      "59170000\n",
      "59170000\n",
      "59170000\n",
      "59170000\n",
      "59170000\n",
      "59170000\n",
      "59170000\n",
      "59170000\n",
      "59170000\n",
      "59170000\n",
      "59170000\n",
      "59170000\n",
      "59170000\n",
      "59170000\n",
      "59170000\n",
      "59170000\n",
      "59170000\n",
      "59170000\n",
      "59170000\n",
      "59170000\n",
      "59170000\n",
      "59170000\n",
      "59170000\n",
      "59170000\n",
      "59170000\n",
      "59170000\n",
      "59170000\n",
      "59170000\n",
      "59170000\n",
      "59170000\n",
      "59170000\n",
      "59170000\n",
      "59170000\n",
      "59170000\n",
      "59170000\n"
     ]
    }
   ],
   "source": [
    "for i in range(len(lst)-1):\n",
    "    print(S[i]+I[i])"
   ]
  },
  {
   "cell_type": "code",
   "execution_count": 399,
   "metadata": {},
   "outputs": [],
   "source": [
    "dict = {'I':I}\n",
    "    \n",
    "df = pd.DataFrame(dict) "
   ]
  },
  {
   "cell_type": "code",
   "execution_count": 400,
   "metadata": {},
   "outputs": [],
   "source": [
    "df = df.drop([26])\n",
    "#df.loc[:,'I']"
   ]
  },
  {
   "cell_type": "code",
   "execution_count": 398,
   "metadata": {},
   "outputs": [
    {
     "data": {
      "text/plain": [
       "method"
      ]
     },
     "execution_count": 398,
     "metadata": {},
     "output_type": "execute_result"
    }
   ],
   "source": [
    "df = df.reset_index\n",
    "type(df)"
   ]
  },
  {
   "cell_type": "markdown",
   "metadata": {},
   "source": [
    "#### Constructing the `PDEmodel` object.\n",
    "\n",
    "The inputs are\n",
    "\n",
    "**Required:**\n",
    "1. The data table `data`.\n",
    "2. The model `SIR`.\n",
    "3. The list of initial condition functions.\n",
    "4. The bounds for the parameter values.\n",
    "\n",
    "**Optional:**\n",
    "1. The parameter names.\n",
    "2. The number of variables: 2. **(Default is 1, this needs to be provided in this case)**\n",
    "3. The number of spatial dimensions: 0. **(Default is 1, this needs to be provided in this case)**\n",
    "4. The number of replicates in the data: 1. **(Default is 1, this needs to be provided in this case)**\n",
    "5. The indices of the measured variables. In this case, the default `None`, since we have data for all 2 variables.\n",
    "6. The function to apply to the output. In this case, the default `None`, since our data is directly $x$ and $y$."
   ]
  },
  {
   "cell_type": "code",
   "execution_count": 83,
   "metadata": {},
   "outputs": [
    {
     "data": {
      "text/html": [
       "<div>\n",
       "<style scoped>\n",
       "    .dataframe tbody tr th:only-of-type {\n",
       "        vertical-align: middle;\n",
       "    }\n",
       "\n",
       "    .dataframe tbody tr th {\n",
       "        vertical-align: top;\n",
       "    }\n",
       "\n",
       "    .dataframe thead th {\n",
       "        text-align: right;\n",
       "    }\n",
       "</style>\n",
       "<table border=\"1\" class=\"dataframe\">\n",
       "  <thead>\n",
       "    <tr style=\"text-align: right;\">\n",
       "      <th></th>\n",
       "      <th>China</th>\n",
       "    </tr>\n",
       "  </thead>\n",
       "  <tbody>\n",
       "    <tr>\n",
       "      <th>0</th>\n",
       "      <td>278</td>\n",
       "    </tr>\n",
       "    <tr>\n",
       "      <th>1</th>\n",
       "      <td>341</td>\n",
       "    </tr>\n",
       "    <tr>\n",
       "      <th>2</th>\n",
       "      <td>571</td>\n",
       "    </tr>\n",
       "    <tr>\n",
       "      <th>3</th>\n",
       "      <td>830</td>\n",
       "    </tr>\n",
       "    <tr>\n",
       "      <th>4</th>\n",
       "      <td>1297</td>\n",
       "    </tr>\n",
       "    <tr>\n",
       "      <th>5</th>\n",
       "      <td>1985</td>\n",
       "    </tr>\n",
       "    <tr>\n",
       "      <th>6</th>\n",
       "      <td>2761</td>\n",
       "    </tr>\n",
       "    <tr>\n",
       "      <th>7</th>\n",
       "      <td>4537</td>\n",
       "    </tr>\n",
       "    <tr>\n",
       "      <th>8</th>\n",
       "      <td>5997</td>\n",
       "    </tr>\n",
       "    <tr>\n",
       "      <th>9</th>\n",
       "      <td>7736</td>\n",
       "    </tr>\n",
       "    <tr>\n",
       "      <th>10</th>\n",
       "      <td>9720</td>\n",
       "    </tr>\n",
       "    <tr>\n",
       "      <th>11</th>\n",
       "      <td>11821</td>\n",
       "    </tr>\n",
       "    <tr>\n",
       "      <th>12</th>\n",
       "      <td>14411</td>\n",
       "    </tr>\n",
       "    <tr>\n",
       "      <th>13</th>\n",
       "      <td>17238</td>\n",
       "    </tr>\n",
       "    <tr>\n",
       "      <th>14</th>\n",
       "      <td>20471</td>\n",
       "    </tr>\n",
       "    <tr>\n",
       "      <th>15</th>\n",
       "      <td>24363</td>\n",
       "    </tr>\n",
       "    <tr>\n",
       "      <th>16</th>\n",
       "      <td>28060</td>\n",
       "    </tr>\n",
       "    <tr>\n",
       "      <th>17</th>\n",
       "      <td>31211</td>\n",
       "    </tr>\n",
       "    <tr>\n",
       "      <th>18</th>\n",
       "      <td>34598</td>\n",
       "    </tr>\n",
       "    <tr>\n",
       "      <th>19</th>\n",
       "      <td>37251</td>\n",
       "    </tr>\n",
       "    <tr>\n",
       "      <th>20</th>\n",
       "      <td>40235</td>\n",
       "    </tr>\n",
       "    <tr>\n",
       "      <th>21</th>\n",
       "      <td>42708</td>\n",
       "    </tr>\n",
       "    <tr>\n",
       "      <th>22</th>\n",
       "      <td>44730</td>\n",
       "    </tr>\n",
       "    <tr>\n",
       "      <th>23</th>\n",
       "      <td>46550</td>\n",
       "    </tr>\n",
       "    <tr>\n",
       "      <th>24</th>\n",
       "      <td>48548</td>\n",
       "    </tr>\n",
       "    <tr>\n",
       "      <th>25</th>\n",
       "      <td>50054</td>\n",
       "    </tr>\n",
       "    <tr>\n",
       "      <th>26</th>\n",
       "      <td>51174</td>\n",
       "    </tr>\n",
       "    <tr>\n",
       "      <th>27</th>\n",
       "      <td>70635</td>\n",
       "    </tr>\n",
       "    <tr>\n",
       "      <th>28</th>\n",
       "      <td>72528</td>\n",
       "    </tr>\n",
       "    <tr>\n",
       "      <th>29</th>\n",
       "      <td>74280</td>\n",
       "    </tr>\n",
       "    <tr>\n",
       "      <th>30</th>\n",
       "      <td>74675</td>\n",
       "    </tr>\n",
       "    <tr>\n",
       "      <th>31</th>\n",
       "      <td>75569</td>\n",
       "    </tr>\n",
       "    <tr>\n",
       "      <th>32</th>\n",
       "      <td>76392</td>\n",
       "    </tr>\n",
       "    <tr>\n",
       "      <th>33</th>\n",
       "      <td>77042</td>\n",
       "    </tr>\n",
       "    <tr>\n",
       "      <th>34</th>\n",
       "      <td>77262</td>\n",
       "    </tr>\n",
       "    <tr>\n",
       "      <th>35</th>\n",
       "      <td>77780</td>\n",
       "    </tr>\n",
       "    <tr>\n",
       "      <th>36</th>\n",
       "      <td>78191</td>\n",
       "    </tr>\n",
       "    <tr>\n",
       "      <th>37</th>\n",
       "      <td>78630</td>\n",
       "    </tr>\n",
       "    <tr>\n",
       "      <th>38</th>\n",
       "      <td>78961</td>\n",
       "    </tr>\n",
       "    <tr>\n",
       "      <th>39</th>\n",
       "      <td>79394</td>\n",
       "    </tr>\n",
       "    <tr>\n",
       "      <th>40</th>\n",
       "      <td>79579</td>\n",
       "    </tr>\n",
       "  </tbody>\n",
       "</table>\n",
       "</div>"
      ],
      "text/plain": [
       "    China\n",
       "0     278\n",
       "1     341\n",
       "2     571\n",
       "3     830\n",
       "4    1297\n",
       "5    1985\n",
       "6    2761\n",
       "7    4537\n",
       "8    5997\n",
       "9    7736\n",
       "10   9720\n",
       "11  11821\n",
       "12  14411\n",
       "13  17238\n",
       "14  20471\n",
       "15  24363\n",
       "16  28060\n",
       "17  31211\n",
       "18  34598\n",
       "19  37251\n",
       "20  40235\n",
       "21  42708\n",
       "22  44730\n",
       "23  46550\n",
       "24  48548\n",
       "25  50054\n",
       "26  51174\n",
       "27  70635\n",
       "28  72528\n",
       "29  74280\n",
       "30  74675\n",
       "31  75569\n",
       "32  76392\n",
       "33  77042\n",
       "34  77262\n",
       "35  77780\n",
       "36  78191\n",
       "37  78630\n",
       "38  78961\n",
       "39  79394\n",
       "40  79579"
      ]
     },
     "execution_count": 83,
     "metadata": {},
     "output_type": "execute_result"
    }
   ],
   "source": [
    "acumulados = pd.DataFrame(data.loc[:,'China'])\n",
    "acumulados"
   ]
  },
  {
   "cell_type": "code",
   "execution_count": 401,
   "metadata": {},
   "outputs": [
    {
     "name": "stdout",
     "output_type": "stream",
     "text": [
      "Help on class PDEmodel in module PDEparams:\n",
      "\n",
      "class PDEmodel(builtins.object)\n",
      " |  PDEmodel(data, model, initfunc, bounds, param_names=None, nvars=1, ndims=1, nreplicates=1, obsidx=None, outfunc=None)\n",
      " |  \n",
      " |  Methods defined here:\n",
      " |  \n",
      " |  __init__(self, data, model, initfunc, bounds, param_names=None, nvars=1, ndims=1, nreplicates=1, obsidx=None, outfunc=None)\n",
      " |      Initialises the PDEmodel object.\n",
      " |      \n",
      " |      Parameters\n",
      " |      ----------\n",
      " |      data: DataFrame of data points with each entry in the form:\n",
      " |      \n",
      " |                              [timepoint, coordinates, fuction values]\n",
      " |      \n",
      " |      model: the PDE model to fit to the data. Should accept the parameters to\n",
      " |             estimate as its last inputs and return the time derivatives of the\n",
      " |             functions.\n",
      " |      \n",
      " |      initfunc: array of functions defining the initial conditions for the model.\n",
      " |      \n",
      " |      bounds: the contraints for the parameter values to use in the estimation,\n",
      " |              as a tuple of tuples or list of tuples.\n",
      " |      \n",
      " |      param_names (optional, default: None): parameter names to be used in tables\n",
      " |                                             and plots. If None, names appear as\n",
      " |                                             \"parameter 1\", \"parameter 2\", etc.\n",
      " |      \n",
      " |      nvars (optional, default: 1): the number of variables in the system.\n",
      " |      \n",
      " |      ndims (optional, default: 1): the number of spatial dimensions in the system.\n",
      " |      \n",
      " |      nreplicates (optional, default: 1): the number of measurements per time-coodinate\n",
      " |                                          pair in the data.\n",
      " |      \n",
      " |      obsidx (optional, default: None): the indices (starting from zero) of the measured\n",
      " |                                        variables. If None, all outputs are used.\n",
      " |      \n",
      " |      outfunc (optional, default: None): function to be applied to the output.\n",
      " |                                         If None, raw outputs are used.\n",
      " |      \n",
      " |      Returns\n",
      " |      -------\n",
      " |      The constructed object.\n",
      " |  \n",
      " |  bootstrap(self, nruns=100)\n",
      " |      Perform bootstrapping by randomly selecting one replicate per time-coodinate pair\n",
      " |      and finding the best fit parameters in multiple rounds.\n",
      " |      \n",
      " |      Parameters\n",
      " |      ----------\n",
      " |      nruns (optional, default: 100): the number of times to perform the estimation.\n",
      " |      \n",
      " |      Returns\n",
      " |      -------\n",
      " |      None\n",
      " |  \n",
      " |  costfn(self, params, initial_condition, functiondata, bootstrap=False)\n",
      " |      Integrates the model and computes the cost function\n",
      " |      \n",
      " |      Parameters\n",
      " |      ----------\n",
      " |      params: parameter values.\n",
      " |      \n",
      " |      Returns\n",
      " |      -------\n",
      " |      error: float, the value of the chosen error (see 'fit()') for the given set of parameters.\n",
      " |  \n",
      " |  fit(self, error='mse')\n",
      " |      Finds the parameters that minimise the cost function using differential evolution.\n",
      " |      Prints them and assigns them to the Estimator object.\n",
      " |      \n",
      " |      Parameters\n",
      " |      ----------\n",
      " |      error: the type of error to minimise.\n",
      " |          - 'mse': mean squared error\n",
      " |          - 'rmse': root mean squared error\n",
      " |          - 'msle': mean squared logarithmic error\n",
      " |          - 'rmsle': mean squared logarithmic error\n",
      " |          - 'mae': mean absolute error\n",
      " |          - 'medae': median absolute error\n",
      " |      \n",
      " |      Returns\n",
      " |      -------\n",
      " |      None\n",
      " |  \n",
      " |  likelihood_profiles(self, param_values=None, npoints=100)\n",
      " |      Computes the likelihood profile of each parameter.\n",
      " |      \n",
      " |      Parameters\n",
      " |      ----------\n",
      " |      param_values (optional, default: None): a list of arrays of values for each parameter.\n",
      " |      npoints (optional, default: 100): the number of values in which to divide the parameter\n",
      " |      domain given by the bounds, if param_values is not specified.\n",
      " |      \n",
      " |      Returns\n",
      " |      -------\n",
      " |      None\n",
      " |  \n",
      " |  plot_bootstrap(self)\n",
      " |      Plots the bootstrapping results.\n",
      " |      \n",
      " |      Parameters\n",
      " |      ----------\n",
      " |      None\n",
      " |      \n",
      " |      Returns\n",
      " |      -------\n",
      " |      None\n",
      " |  \n",
      " |  plot_profiles(self)\n",
      " |      Plots the likelihood profiles.\n",
      " |      \n",
      " |      Parameters\n",
      " |      ----------\n",
      " |      None\n",
      " |      \n",
      " |      Returns\n",
      " |      -------\n",
      " |      None\n",
      " |  \n",
      " |  ----------------------------------------------------------------------\n",
      " |  Data descriptors defined here:\n",
      " |  \n",
      " |  __dict__\n",
      " |      dictionary for instance variables (if defined)\n",
      " |  \n",
      " |  __weakref__\n",
      " |      list of weak references to the object (if defined)\n",
      "\n"
     ]
    }
   ],
   "source": [
    "my_model = pde.PDEmodel(df, SIR, [init_S, init_I, init_R], bounds=[(0, 3), (0,3)], \n",
    "                        param_names=[r'$be$', r'$gm$'], nvars=3, ndims=0, \n",
    "                        nreplicates=1, obsidx=[1], outfunc=None)\n",
    "help(pde.PDEmodel)"
   ]
  },
  {
   "cell_type": "code",
   "execution_count": 402,
   "metadata": {},
   "outputs": [
    {
     "data": {
      "text/plain": [
       "array([4000,    1,    0])"
      ]
     },
     "execution_count": 402,
     "metadata": {},
     "output_type": "execute_result"
    }
   ],
   "source": [
    "my_model.initial_condition"
   ]
  },
  {
   "cell_type": "code",
   "execution_count": 403,
   "metadata": {},
   "outputs": [
    {
     "name": "stdout",
     "output_type": "stream",
     "text": [
      "       $be$     $gm$\n",
      "0  2.973447  2.67259\n",
      "CPU times: user 4min 4s, sys: 1.16 s, total: 4min 5s\n",
      "Wall time: 4min 8s\n"
     ]
    }
   ],
   "source": [
    "%%time\n",
    "my_model.fit()"
   ]
  },
  {
   "cell_type": "code",
   "execution_count": 404,
   "metadata": {},
   "outputs": [
    {
     "data": {
      "text/html": [
       "<div>\n",
       "<style scoped>\n",
       "    .dataframe tbody tr th:only-of-type {\n",
       "        vertical-align: middle;\n",
       "    }\n",
       "\n",
       "    .dataframe tbody tr th {\n",
       "        vertical-align: top;\n",
       "    }\n",
       "\n",
       "    .dataframe thead th {\n",
       "        text-align: right;\n",
       "    }\n",
       "</style>\n",
       "<table border=\"1\" class=\"dataframe\">\n",
       "  <thead>\n",
       "    <tr style=\"text-align: right;\">\n",
       "      <th></th>\n",
       "      <th>$be$</th>\n",
       "      <th>$gm$</th>\n",
       "    </tr>\n",
       "  </thead>\n",
       "  <tbody>\n",
       "    <tr>\n",
       "      <th>0</th>\n",
       "      <td>2.973447</td>\n",
       "      <td>2.67259</td>\n",
       "    </tr>\n",
       "  </tbody>\n",
       "</table>\n",
       "</div>"
      ],
      "text/plain": [
       "       $be$     $gm$\n",
       "0  2.973447  2.67259"
      ]
     },
     "execution_count": 404,
     "metadata": {},
     "output_type": "execute_result"
    }
   ],
   "source": [
    "my_model.best_params"
   ]
  },
  {
   "cell_type": "code",
   "execution_count": 405,
   "metadata": {},
   "outputs": [
    {
     "data": {
      "text/plain": [
       "inf"
      ]
     },
     "execution_count": 405,
     "metadata": {},
     "output_type": "execute_result"
    }
   ],
   "source": [
    "my_model.best_error"
   ]
  },
  {
   "cell_type": "code",
   "execution_count": 23,
   "metadata": {},
   "outputs": [
    {
     "data": {
      "application/vnd.jupyter.widget-view+json": {
       "model_id": "5106f37dac324e05b50a07f3c7def6b9",
       "version_major": 2,
       "version_minor": 0
      },
      "text/plain": [
       "HBox(children=(FloatProgress(value=0.0, description='parameters', max=2.0, style=ProgressStyle(description_wid…"
      ]
     },
     "metadata": {},
     "output_type": "display_data"
    },
    {
     "data": {
      "application/vnd.jupyter.widget-view+json": {
       "model_id": "e6e602106fab45e79d69cdf4139fc272",
       "version_major": 2,
       "version_minor": 0
      },
      "text/plain": [
       "HBox(children=(FloatProgress(value=0.0, description='values within parameters', style=ProgressStyle(descriptio…"
      ]
     },
     "metadata": {},
     "output_type": "display_data"
    },
    {
     "name": "stdout",
     "output_type": "stream",
     "text": [
      "\n",
      "\n"
     ]
    },
    {
     "ename": "KeyboardInterrupt",
     "evalue": "",
     "output_type": "error",
     "traceback": [
      "\u001b[0;31m---------------------------------------------------------------------------\u001b[0m",
      "\u001b[0;31mKeyboardInterrupt\u001b[0m                         Traceback (most recent call last)",
      "\u001b[0;32m<timed eval>\u001b[0m in \u001b[0;36m<module>\u001b[0;34m\u001b[0m\n",
      "\u001b[0;32m~/Documents/GitHub/proyecto2ML/PDEparams.py\u001b[0m in \u001b[0;36mlikelihood_profiles\u001b[0;34m(self, param_values, npoints)\u001b[0m\n\u001b[1;32m    302\u001b[0m                 \u001b[0mnew_bounds\u001b[0m\u001b[0;34m[\u001b[0m\u001b[0mi\u001b[0m\u001b[0;34m]\u001b[0m \u001b[0;34m=\u001b[0m \u001b[0;34m(\u001b[0m\u001b[0mpvalue\u001b[0m\u001b[0;34m,\u001b[0m \u001b[0mpvalue\u001b[0m\u001b[0;34m)\u001b[0m\u001b[0;34m\u001b[0m\u001b[0;34m\u001b[0m\u001b[0m\n\u001b[1;32m    303\u001b[0m \u001b[0;34m\u001b[0m\u001b[0m\n\u001b[0;32m--> 304\u001b[0;31m                 \u001b[0moptimisation\u001b[0m \u001b[0;34m=\u001b[0m \u001b[0mdifferential_evolution\u001b[0m\u001b[0;34m(\u001b[0m\u001b[0mself\u001b[0m\u001b[0;34m.\u001b[0m\u001b[0mcostfn\u001b[0m\u001b[0;34m,\u001b[0m \u001b[0mbounds\u001b[0m\u001b[0;34m=\u001b[0m\u001b[0mtuple\u001b[0m\u001b[0;34m(\u001b[0m\u001b[0mnew_bounds\u001b[0m\u001b[0;34m)\u001b[0m\u001b[0;34m,\u001b[0m \u001b[0margs\u001b[0m\u001b[0;34m=\u001b[0m\u001b[0;34m(\u001b[0m\u001b[0mself\u001b[0m\u001b[0;34m.\u001b[0m\u001b[0minitial_condition\u001b[0m\u001b[0;34m,\u001b[0m \u001b[0mself\u001b[0m\u001b[0;34m.\u001b[0m\u001b[0mfunctiondata\u001b[0m\u001b[0;34m)\u001b[0m\u001b[0;34m)\u001b[0m\u001b[0;34m\u001b[0m\u001b[0;34m\u001b[0m\u001b[0m\n\u001b[0m\u001b[1;32m    305\u001b[0m \u001b[0;34m\u001b[0m\u001b[0m\n\u001b[1;32m    306\u001b[0m                 \u001b[0merrors\u001b[0m\u001b[0;34m.\u001b[0m\u001b[0mappend\u001b[0m\u001b[0;34m(\u001b[0m\u001b[0moptimisation\u001b[0m\u001b[0;34m.\u001b[0m\u001b[0mfun\u001b[0m\u001b[0;34m)\u001b[0m\u001b[0;34m\u001b[0m\u001b[0;34m\u001b[0m\u001b[0m\n",
      "\u001b[0;32m~/opt/anaconda3/lib/python3.8/site-packages/scipy/optimize/_differentialevolution.py\u001b[0m in \u001b[0;36mdifferential_evolution\u001b[0;34m(func, bounds, args, strategy, maxiter, popsize, tol, mutation, recombination, seed, callback, disp, polish, init, atol, updating, workers, constraints)\u001b[0m\n\u001b[1;32m    306\u001b[0m                                      \u001b[0mworkers\u001b[0m\u001b[0;34m=\u001b[0m\u001b[0mworkers\u001b[0m\u001b[0;34m,\u001b[0m\u001b[0;34m\u001b[0m\u001b[0;34m\u001b[0m\u001b[0m\n\u001b[1;32m    307\u001b[0m                                      constraints=constraints) as solver:\n\u001b[0;32m--> 308\u001b[0;31m         \u001b[0mret\u001b[0m \u001b[0;34m=\u001b[0m \u001b[0msolver\u001b[0m\u001b[0;34m.\u001b[0m\u001b[0msolve\u001b[0m\u001b[0;34m(\u001b[0m\u001b[0;34m)\u001b[0m\u001b[0;34m\u001b[0m\u001b[0;34m\u001b[0m\u001b[0m\n\u001b[0m\u001b[1;32m    309\u001b[0m \u001b[0;34m\u001b[0m\u001b[0m\n\u001b[1;32m    310\u001b[0m     \u001b[0;32mreturn\u001b[0m \u001b[0mret\u001b[0m\u001b[0;34m\u001b[0m\u001b[0;34m\u001b[0m\u001b[0m\n",
      "\u001b[0;32m~/opt/anaconda3/lib/python3.8/site-packages/scipy/optimize/_differentialevolution.py\u001b[0m in \u001b[0;36msolve\u001b[0;34m(self)\u001b[0m\n\u001b[1;32m    757\u001b[0m             \u001b[0;31m# evolve the population by a generation\u001b[0m\u001b[0;34m\u001b[0m\u001b[0;34m\u001b[0m\u001b[0;34m\u001b[0m\u001b[0m\n\u001b[1;32m    758\u001b[0m             \u001b[0;32mtry\u001b[0m\u001b[0;34m:\u001b[0m\u001b[0;34m\u001b[0m\u001b[0;34m\u001b[0m\u001b[0m\n\u001b[0;32m--> 759\u001b[0;31m                 \u001b[0mnext\u001b[0m\u001b[0;34m(\u001b[0m\u001b[0mself\u001b[0m\u001b[0;34m)\u001b[0m\u001b[0;34m\u001b[0m\u001b[0;34m\u001b[0m\u001b[0m\n\u001b[0m\u001b[1;32m    760\u001b[0m             \u001b[0;32mexcept\u001b[0m \u001b[0mStopIteration\u001b[0m\u001b[0;34m:\u001b[0m\u001b[0;34m\u001b[0m\u001b[0;34m\u001b[0m\u001b[0m\n\u001b[1;32m    761\u001b[0m                 \u001b[0mwarning_flag\u001b[0m \u001b[0;34m=\u001b[0m \u001b[0;32mTrue\u001b[0m\u001b[0;34m\u001b[0m\u001b[0;34m\u001b[0m\u001b[0m\n",
      "\u001b[0;32m~/opt/anaconda3/lib/python3.8/site-packages/scipy/optimize/_differentialevolution.py\u001b[0m in \u001b[0;36m__next__\u001b[0;34m(self)\u001b[0m\n\u001b[1;32m   1073\u001b[0m                     \u001b[0mfeasible\u001b[0m \u001b[0;34m=\u001b[0m \u001b[0;32mTrue\u001b[0m\u001b[0;34m\u001b[0m\u001b[0;34m\u001b[0m\u001b[0m\n\u001b[1;32m   1074\u001b[0m                     \u001b[0mcv\u001b[0m \u001b[0;34m=\u001b[0m \u001b[0mnp\u001b[0m\u001b[0;34m.\u001b[0m\u001b[0matleast_2d\u001b[0m\u001b[0;34m(\u001b[0m\u001b[0;34m[\u001b[0m\u001b[0;36m0.\u001b[0m\u001b[0;34m]\u001b[0m\u001b[0;34m)\u001b[0m\u001b[0;34m\u001b[0m\u001b[0;34m\u001b[0m\u001b[0m\n\u001b[0;32m-> 1075\u001b[0;31m                     \u001b[0menergy\u001b[0m \u001b[0;34m=\u001b[0m \u001b[0mself\u001b[0m\u001b[0;34m.\u001b[0m\u001b[0mfunc\u001b[0m\u001b[0;34m(\u001b[0m\u001b[0mparameters\u001b[0m\u001b[0;34m)\u001b[0m\u001b[0;34m\u001b[0m\u001b[0;34m\u001b[0m\u001b[0m\n\u001b[0m\u001b[1;32m   1076\u001b[0m                     \u001b[0mself\u001b[0m\u001b[0;34m.\u001b[0m\u001b[0m_nfev\u001b[0m \u001b[0;34m+=\u001b[0m \u001b[0;36m1\u001b[0m\u001b[0;34m\u001b[0m\u001b[0;34m\u001b[0m\u001b[0m\n\u001b[1;32m   1077\u001b[0m \u001b[0;34m\u001b[0m\u001b[0m\n",
      "\u001b[0;32m~/opt/anaconda3/lib/python3.8/site-packages/scipy/optimize/_differentialevolution.py\u001b[0m in \u001b[0;36m__call__\u001b[0;34m(self, x)\u001b[0m\n\u001b[1;32m   1259\u001b[0m \u001b[0;34m\u001b[0m\u001b[0m\n\u001b[1;32m   1260\u001b[0m     \u001b[0;32mdef\u001b[0m \u001b[0m__call__\u001b[0m\u001b[0;34m(\u001b[0m\u001b[0mself\u001b[0m\u001b[0;34m,\u001b[0m \u001b[0mx\u001b[0m\u001b[0;34m)\u001b[0m\u001b[0;34m:\u001b[0m\u001b[0;34m\u001b[0m\u001b[0;34m\u001b[0m\u001b[0m\n\u001b[0;32m-> 1261\u001b[0;31m         \u001b[0;32mreturn\u001b[0m \u001b[0mself\u001b[0m\u001b[0;34m.\u001b[0m\u001b[0mf\u001b[0m\u001b[0;34m(\u001b[0m\u001b[0mx\u001b[0m\u001b[0;34m,\u001b[0m \u001b[0;34m*\u001b[0m\u001b[0mself\u001b[0m\u001b[0;34m.\u001b[0m\u001b[0margs\u001b[0m\u001b[0;34m)\u001b[0m\u001b[0;34m\u001b[0m\u001b[0;34m\u001b[0m\u001b[0m\n\u001b[0m\u001b[1;32m   1262\u001b[0m \u001b[0;34m\u001b[0m\u001b[0m\n\u001b[1;32m   1263\u001b[0m \u001b[0;34m\u001b[0m\u001b[0m\n",
      "\u001b[0;32m~/Documents/GitHub/proyecto2ML/PDEparams.py\u001b[0m in \u001b[0;36mcostfn\u001b[0;34m(self, params, initial_condition, functiondata, bootstrap)\u001b[0m\n\u001b[1;32m    146\u001b[0m                 \u001b[0mft\u001b[0m \u001b[0;34m=\u001b[0m \u001b[0modeint\u001b[0m\u001b[0;34m(\u001b[0m\u001b[0mself\u001b[0m\u001b[0;34m.\u001b[0m\u001b[0mmodel\u001b[0m\u001b[0;34m,\u001b[0m \u001b[0minitial_condition\u001b[0m\u001b[0;34m,\u001b[0m \u001b[0mself\u001b[0m\u001b[0;34m.\u001b[0m\u001b[0mtime\u001b[0m\u001b[0;34m,\u001b[0m \u001b[0margs\u001b[0m\u001b[0;34m=\u001b[0m\u001b[0;34m(\u001b[0m\u001b[0mparams\u001b[0m\u001b[0;34m[\u001b[0m\u001b[0;36m0\u001b[0m\u001b[0;34m]\u001b[0m\u001b[0;34m,\u001b[0m\u001b[0;34m)\u001b[0m\u001b[0;34m)\u001b[0m\u001b[0;34m\u001b[0m\u001b[0;34m\u001b[0m\u001b[0m\n\u001b[1;32m    147\u001b[0m             \u001b[0;32melse\u001b[0m\u001b[0;34m:\u001b[0m\u001b[0;34m\u001b[0m\u001b[0;34m\u001b[0m\u001b[0m\n\u001b[0;32m--> 148\u001b[0;31m                 \u001b[0mft\u001b[0m \u001b[0;34m=\u001b[0m \u001b[0modeint\u001b[0m\u001b[0;34m(\u001b[0m\u001b[0mself\u001b[0m\u001b[0;34m.\u001b[0m\u001b[0mmodel\u001b[0m\u001b[0;34m,\u001b[0m \u001b[0minitial_condition\u001b[0m\u001b[0;34m,\u001b[0m \u001b[0mself\u001b[0m\u001b[0;34m.\u001b[0m\u001b[0mtime\u001b[0m\u001b[0;34m,\u001b[0m \u001b[0margs\u001b[0m\u001b[0;34m=\u001b[0m\u001b[0mtuple\u001b[0m\u001b[0;34m(\u001b[0m\u001b[0mparams\u001b[0m\u001b[0;34m)\u001b[0m\u001b[0;34m)\u001b[0m\u001b[0;34m\u001b[0m\u001b[0;34m\u001b[0m\u001b[0m\n\u001b[0m\u001b[1;32m    149\u001b[0m \u001b[0;34m\u001b[0m\u001b[0m\n\u001b[1;32m    150\u001b[0m             \u001b[0mft\u001b[0m \u001b[0;34m=\u001b[0m \u001b[0mft\u001b[0m\u001b[0;34m[\u001b[0m\u001b[0mself\u001b[0m\u001b[0;34m.\u001b[0m\u001b[0mtimeidxs\u001b[0m\u001b[0;34m]\u001b[0m\u001b[0;34m\u001b[0m\u001b[0;34m\u001b[0m\u001b[0m\n",
      "\u001b[0;32m~/opt/anaconda3/lib/python3.8/site-packages/scipy/integrate/odepack.py\u001b[0m in \u001b[0;36modeint\u001b[0;34m(func, y0, t, args, Dfun, col_deriv, full_output, ml, mu, rtol, atol, tcrit, h0, hmax, hmin, ixpr, mxstep, mxhnil, mxordn, mxords, printmessg, tfirst)\u001b[0m\n\u001b[1;32m    239\u001b[0m     \u001b[0mt\u001b[0m \u001b[0;34m=\u001b[0m \u001b[0mcopy\u001b[0m\u001b[0;34m(\u001b[0m\u001b[0mt\u001b[0m\u001b[0;34m)\u001b[0m\u001b[0;34m\u001b[0m\u001b[0;34m\u001b[0m\u001b[0m\n\u001b[1;32m    240\u001b[0m     \u001b[0my0\u001b[0m \u001b[0;34m=\u001b[0m \u001b[0mcopy\u001b[0m\u001b[0;34m(\u001b[0m\u001b[0my0\u001b[0m\u001b[0;34m)\u001b[0m\u001b[0;34m\u001b[0m\u001b[0;34m\u001b[0m\u001b[0m\n\u001b[0;32m--> 241\u001b[0;31m     output = _odepack.odeint(func, y0, t, args, Dfun, col_deriv, ml, mu,\n\u001b[0m\u001b[1;32m    242\u001b[0m                              \u001b[0mfull_output\u001b[0m\u001b[0;34m,\u001b[0m \u001b[0mrtol\u001b[0m\u001b[0;34m,\u001b[0m \u001b[0matol\u001b[0m\u001b[0;34m,\u001b[0m \u001b[0mtcrit\u001b[0m\u001b[0;34m,\u001b[0m \u001b[0mh0\u001b[0m\u001b[0;34m,\u001b[0m \u001b[0mhmax\u001b[0m\u001b[0;34m,\u001b[0m \u001b[0mhmin\u001b[0m\u001b[0;34m,\u001b[0m\u001b[0;34m\u001b[0m\u001b[0;34m\u001b[0m\u001b[0m\n\u001b[1;32m    243\u001b[0m                              \u001b[0mixpr\u001b[0m\u001b[0;34m,\u001b[0m \u001b[0mmxstep\u001b[0m\u001b[0;34m,\u001b[0m \u001b[0mmxhnil\u001b[0m\u001b[0;34m,\u001b[0m \u001b[0mmxordn\u001b[0m\u001b[0;34m,\u001b[0m \u001b[0mmxords\u001b[0m\u001b[0;34m,\u001b[0m\u001b[0;34m\u001b[0m\u001b[0;34m\u001b[0m\u001b[0m\n",
      "\u001b[0;32m<ipython-input-7-54080d76958c>\u001b[0m in \u001b[0;36mSIR\u001b[0;34m(z, t, be, gm)\u001b[0m\n\u001b[0;32m----> 1\u001b[0;31m \u001b[0;32mdef\u001b[0m \u001b[0mSIR\u001b[0m\u001b[0;34m(\u001b[0m\u001b[0mz\u001b[0m\u001b[0;34m,\u001b[0m \u001b[0mt\u001b[0m\u001b[0;34m,\u001b[0m \u001b[0mbe\u001b[0m\u001b[0;34m,\u001b[0m \u001b[0mgm\u001b[0m\u001b[0;34m)\u001b[0m\u001b[0;34m:\u001b[0m\u001b[0;34m\u001b[0m\u001b[0;34m\u001b[0m\u001b[0m\n\u001b[0m\u001b[1;32m      2\u001b[0m     '''The input z corresponds to the current state of the system, z = [x, y]. Since the input is in 1D, no \n\u001b[1;32m      3\u001b[0m     \u001b[0mpre\u001b[0m\u001b[0;34m-\u001b[0m\u001b[0mprocessing\u001b[0m \u001b[0;32mis\u001b[0m \u001b[0mneeded\u001b[0m\u001b[0;34m.\u001b[0m\u001b[0;34m\u001b[0m\u001b[0;34m\u001b[0m\u001b[0m\n\u001b[1;32m      4\u001b[0m \u001b[0;34m\u001b[0m\u001b[0m\n\u001b[1;32m      5\u001b[0m     \u001b[0mt\u001b[0m \u001b[0;32mis\u001b[0m \u001b[0mthe\u001b[0m \u001b[0mcurrent\u001b[0m \u001b[0mtime\u001b[0m\u001b[0;34m.\u001b[0m\u001b[0;34m\u001b[0m\u001b[0;34m\u001b[0m\u001b[0m\n",
      "\u001b[0;31mKeyboardInterrupt\u001b[0m: "
     ]
    }
   ],
   "source": [
    "%%time\n",
    "my_model.likelihood_profiles()"
   ]
  },
  {
   "cell_type": "code",
   "execution_count": 34,
   "metadata": {},
   "outputs": [
    {
     "data": {
      "text/html": [
       "<div>\n",
       "<style scoped>\n",
       "    .dataframe tbody tr th:only-of-type {\n",
       "        vertical-align: middle;\n",
       "    }\n",
       "\n",
       "    .dataframe tbody tr th {\n",
       "        vertical-align: top;\n",
       "    }\n",
       "\n",
       "    .dataframe thead th {\n",
       "        text-align: right;\n",
       "    }\n",
       "</style>\n",
       "<table border=\"1\" class=\"dataframe\">\n",
       "  <thead>\n",
       "    <tr style=\"text-align: right;\">\n",
       "      <th></th>\n",
       "      <th>parameter</th>\n",
       "      <th>value</th>\n",
       "      <th>error</th>\n",
       "    </tr>\n",
       "  </thead>\n",
       "  <tbody>\n",
       "    <tr>\n",
       "      <th>0</th>\n",
       "      <td>$be$</td>\n",
       "      <td>0.000000</td>\n",
       "      <td>1.262006e+07</td>\n",
       "    </tr>\n",
       "    <tr>\n",
       "      <th>1</th>\n",
       "      <td>$be$</td>\n",
       "      <td>0.010101</td>\n",
       "      <td>1.262006e+07</td>\n",
       "    </tr>\n",
       "    <tr>\n",
       "      <th>2</th>\n",
       "      <td>$be$</td>\n",
       "      <td>0.020202</td>\n",
       "      <td>1.262006e+07</td>\n",
       "    </tr>\n",
       "    <tr>\n",
       "      <th>3</th>\n",
       "      <td>$be$</td>\n",
       "      <td>0.030303</td>\n",
       "      <td>1.262006e+07</td>\n",
       "    </tr>\n",
       "    <tr>\n",
       "      <th>4</th>\n",
       "      <td>$be$</td>\n",
       "      <td>0.040404</td>\n",
       "      <td>1.262006e+07</td>\n",
       "    </tr>\n",
       "    <tr>\n",
       "      <th>...</th>\n",
       "      <td>...</td>\n",
       "      <td>...</td>\n",
       "      <td>...</td>\n",
       "    </tr>\n",
       "    <tr>\n",
       "      <th>195</th>\n",
       "      <td>$gm$</td>\n",
       "      <td>0.959596</td>\n",
       "      <td>1.262006e+07</td>\n",
       "    </tr>\n",
       "    <tr>\n",
       "      <th>196</th>\n",
       "      <td>$gm$</td>\n",
       "      <td>0.969697</td>\n",
       "      <td>1.262006e+07</td>\n",
       "    </tr>\n",
       "    <tr>\n",
       "      <th>197</th>\n",
       "      <td>$gm$</td>\n",
       "      <td>0.979798</td>\n",
       "      <td>1.262006e+07</td>\n",
       "    </tr>\n",
       "    <tr>\n",
       "      <th>198</th>\n",
       "      <td>$gm$</td>\n",
       "      <td>0.989899</td>\n",
       "      <td>1.262006e+07</td>\n",
       "    </tr>\n",
       "    <tr>\n",
       "      <th>199</th>\n",
       "      <td>$gm$</td>\n",
       "      <td>1.000000</td>\n",
       "      <td>1.262006e+07</td>\n",
       "    </tr>\n",
       "  </tbody>\n",
       "</table>\n",
       "<p>200 rows × 3 columns</p>\n",
       "</div>"
      ],
      "text/plain": [
       "    parameter     value         error\n",
       "0        $be$  0.000000  1.262006e+07\n",
       "1        $be$  0.010101  1.262006e+07\n",
       "2        $be$  0.020202  1.262006e+07\n",
       "3        $be$  0.030303  1.262006e+07\n",
       "4        $be$  0.040404  1.262006e+07\n",
       "..        ...       ...           ...\n",
       "195      $gm$  0.959596  1.262006e+07\n",
       "196      $gm$  0.969697  1.262006e+07\n",
       "197      $gm$  0.979798  1.262006e+07\n",
       "198      $gm$  0.989899  1.262006e+07\n",
       "199      $gm$  1.000000  1.262006e+07\n",
       "\n",
       "[200 rows x 3 columns]"
      ]
     },
     "execution_count": 34,
     "metadata": {},
     "output_type": "execute_result"
    }
   ],
   "source": [
    "my_model.result_profiles"
   ]
  },
  {
   "cell_type": "code",
   "execution_count": 35,
   "metadata": {},
   "outputs": [
    {
     "name": "stderr",
     "output_type": "stream",
     "text": [
      "*c* argument looks like a single numeric RGB or RGBA sequence, which should be avoided as value-mapping will have precedence in case its length matches with *x* & *y*.  Please use the *color* keyword-argument or provide a 2-D array with a single row if you intend to specify the same RGB or RGBA value for all points.\n"
     ]
    },
    {
     "data": {
      "image/png": "[encoded data removed]",
      "text/plain": [
       "<Figure size 432x288 with 1 Axes>"
      ]
     },
     "metadata": {
      "needs_background": "light"
     },
     "output_type": "display_data"
    },
    {
     "name": "stderr",
     "output_type": "stream",
     "text": [
      "*c* argument looks like a single numeric RGB or RGBA sequence, which should be avoided as value-mapping will have precedence in case its length matches with *x* & *y*.  Please use the *color* keyword-argument or provide a 2-D array with a single row if you intend to specify the same RGB or RGBA value for all points.\n"
     ]
    },
    {
     "data": {
      "image/png": "[encoded data removed]",
      "text/plain": [
       "<Figure size 432x288 with 1 Axes>"
      ]
     },
     "metadata": {
      "needs_background": "light"
     },
     "output_type": "display_data"
    }
   ],
   "source": [
    "my_model.plot_profiles()"
   ]
  },
  {
   "cell_type": "code",
   "execution_count": null,
   "metadata": {},
   "outputs": [],
   "source": []
  }
 ],
 "metadata": {
  "kernelspec": {
   "display_name": "Python 3",
   "language": "python",
   "name": "python3"
  },
  "language_info": {
   "codemirror_mode": {
    "name": "ipython",
    "version": 3
   },
   "file_extension": ".py",
   "mimetype": "text/x-python",
   "name": "python",
   "nbconvert_exporter": "python",
   "pygments_lexer": "ipython3",
   "version": "3.8.3"
  }
 },
 "nbformat": 4,
 "nbformat_minor": 4
}
