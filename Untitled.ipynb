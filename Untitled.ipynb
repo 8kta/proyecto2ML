{
 "cells": [
  {
   "cell_type": "markdown",
   "metadata": {},
   "source": [
    "# Project 2 - Coronavirus"
   ]
  },
  {
   "cell_type": "markdown",
   "metadata": {},
   "source": [
    "This project consist to estimate the SIR model with data from WHO."
   ]
  },
  {
   "cell_type": "code",
   "execution_count": 1,
   "metadata": {},
   "outputs": [],
   "source": [
    "import pandas as pd\n",
    "import numpy as np\n",
    "from scipy import integrate\n",
    "from sklearn.metrics import mean_squared_error, mean_squared_log_error, mean_absolute_error, median_absolute_error\n",
    "from scipy.integrate import odeint\n",
    "from scipy.optimize import differential_evolution, minimize\n",
    "import matplotlib.pyplot as plt\n",
    "import PDEparams as pde\n",
    "import array"
   ]
  },
  {
   "cell_type": "markdown",
   "metadata": {},
   "source": [
    "## Data from World Health Organization\n",
    "#### Only laboratory-confirmed, exclude clinically diagnose"
   ]
  },
  {
   "cell_type": "code",
   "execution_count": 51,
   "metadata": {},
   "outputs": [
    {
     "name": "stdout",
     "output_type": "stream",
     "text": [
      "True\n",
      "False\n",
      "False\n",
      "False\n",
      "True\n",
      "True\n",
      "True\n",
      "True\n",
      "True\n",
      "True\n",
      "True\n",
      "True\n",
      "True\n",
      "True\n",
      "True\n",
      "True\n",
      "True\n",
      "True\n",
      "True\n",
      "True\n",
      "True\n",
      "True\n",
      "True\n",
      "True\n",
      "True\n",
      "True\n",
      "True\n",
      "True\n",
      "True\n",
      "True\n",
      "True\n",
      "True\n",
      "True\n",
      "True\n",
      "True\n",
      "True\n",
      "True\n",
      "True\n",
      "True\n",
      "True\n"
     ]
    }
   ],
   "source": [
    "data = pd.read_csv('CoV2019.csv')\n",
    "china = data[\"China\"]#data[\"China\"][:27]\n",
    "days = data[\"Days\"]\n",
    "total = data[\"Total\"]\n",
    "deaths_china = data[\"Death China\"]\n",
    "other = data[\"Other\"]\n",
    "china_total = data[\"China\"]\n",
    "days_total = data[\"Days\"]\n",
    "deaths_china_total = data[\"Death China\"]\n",
    "deaths_outside_total = data[\"Death Outside\"]\n",
    "len(deaths_china)\n",
    "for i in range(len(days)-1):\n",
    "    if other[i]+china[i]==total[i]:\n",
    "        print('True')\n",
    "    else:\n",
    "        print('False')"
   ]
  },
  {
   "cell_type": "code",
   "execution_count": 3,
   "metadata": {},
   "outputs": [
    {
     "name": "stdout",
     "output_type": "stream",
     "text": [
      "Date of report\n",
      "Days\n",
      "Total\n",
      "China\n",
      "Death China\n",
      "Other\n",
      "Death Outside\n",
      "Death Globally\n",
      "En total hay: 8 características.\n"
     ]
    }
   ],
   "source": [
    "count = 0\n",
    "for a in data:\n",
    "    print(a)\n",
    "    count = count + 1\n",
    "print('En total hay:', count, 'características.')"
   ]
  },
  {
   "cell_type": "markdown",
   "metadata": {},
   "source": [
    "### Defining the model\n",
    "\n",
    "We use a SIR model:\n",
    "\n",
    "$$\\begin{align}\n",
    "\\frac{\\mathrm{d} S}{\\mathrm{d} t} &= -\\beta\\, \\frac{SI}{N}\\\\\n",
    "\\frac{\\mathrm{d} I}{\\mathrm{d} t} &= \\beta\\, \\frac{SI}{N} - \\gamma\\,I\\\\\n",
    "\\frac{\\mathrm{d} R}{\\mathrm{d} t} &= \\gamma\\,I\n",
    "\\end{align}$$"
   ]
  },
  {
   "cell_type": "markdown",
   "metadata": {},
   "source": [
    "Susceptible -> Infected -> Recovered\n",
    "\n",
    "$$\\begin{align}\n",
    "\\beta &= \\text{Contact Rate } \\times \\text{ Probability of Transmission}\\\\\n",
    "\\sigma &= \\text{Incubation Rate}\\\\\n",
    "\\gamma &= \\text{Recovery Rate}\n",
    "\\end{align}$$\n",
    "\n",
    "Incubation Period: 1-14 Days, most commonly 5 days (WHO)"
   ]
  },
  {
   "cell_type": "code",
   "execution_count": 4,
   "metadata": {},
   "outputs": [],
   "source": [
    "Hubei = 5917*10**4\n",
    "Guangdong = 11346*10**4\n",
    "Henan = 9605*10**4\n",
    "Zhejiang = 5737*10**4\n",
    "Hunan = 6899*10**4\n",
    "Anhui = 6324*10**4\n",
    "Jiangxi = 4648*10**4\n",
    "N = 56*10**3   # estimate of people affected by lock down\n",
    "#init_I = 1\n",
    "#init_R = 1\n",
    "#init_S = 5917*10**4"
   ]
  },
  {
   "cell_type": "code",
   "execution_count": 5,
   "metadata": {},
   "outputs": [],
   "source": [
    "def init_I():\n",
    "    return 1\n",
    "\n",
    "def init_R():\n",
    "    return 1"
   ]
  },
  {
   "cell_type": "markdown",
   "metadata": {},
   "source": [
    "We define our DE "
   ]
  },
  {
   "cell_type": "code",
   "execution_count": 10,
   "metadata": {},
   "outputs": [],
   "source": [
    "def SIR(z, t, be, gm):\n",
    "    '''The input z corresponds to the current state of the system, z = [x, y]. Since the input is in 1D, no \n",
    "    pre-processing is needed.\n",
    "    \n",
    "    t is the current time.\n",
    "    \n",
    "    a and b correspond to the unknown parameters.\n",
    "    '''\n",
    "    \n",
    "    S, I = z\n",
    "    \n",
    "    return [-be*(S*I)/N, be*(S*I)/N-gm*I]"
   ]
  },
  {
   "cell_type": "markdown",
   "metadata": {},
   "source": [
    "### Using `PDEparams` to estimate parameters\n",
    "\n",
    "First, we load the data from the `.csv` file.\n",
    "\n",
    "Then we build the dataframe with data we want\n",
    "\n",
    "The columns are, in order: $S$, $I$, $R$."
   ]
  },
  {
   "cell_type": "code",
   "execution_count": 53,
   "metadata": {},
   "outputs": [
    {
     "name": "stdout",
     "output_type": "stream",
     "text": [
      "40\n",
      "40\n",
      "40\n"
     ]
    }
   ],
   "source": [
    "# Susceptibles\n",
    "lst = []\n",
    "S = []\n",
    "#S.append(Hubei)\n",
    "ent = data.loc[0,'China']\n",
    "#normalizar datos (empezar desde cero infectados)\n",
    "for a in china:\n",
    "    if a == ent:\n",
    "        lst.append(0)\n",
    "        #S.append(Hubei)\n",
    "    else:\n",
    "        ent2 = a - ent  \n",
    "        lst.append(ent2)\n",
    "#print(len(china))\n",
    "\n",
    "#Ver el número de infectados por dia\n",
    "I = []\n",
    "\n",
    "\n",
    "#I.append(init_I)\n",
    "#print(I)\n",
    "for i in range(len(lst)-1):\n",
    "    infected = lst[i+1]-lst[i] \n",
    "    I.append(infected)\n",
    "\n",
    "#lista de susceptibles \n",
    "for a in I:\n",
    "    b = Hubei - a\n",
    "    S.append(b)\n",
    "\n",
    "\n",
    "#lista de recuperados\n",
    "R = []\n",
    "#R.append(0)\n",
    "#normalizar datos (empezar desde cero recuperados)\n",
    "muertos_total=[]\n",
    "muerto_dia = []\n",
    "primer_muerto = data.loc[0,'Death China']\n",
    "\n",
    "muerto_dia.append(0)\n",
    "#normalizar la informacion sobre los muertos\n",
    "\n",
    "for d in deaths_china:\n",
    "    if d == primer_muerto:\n",
    "        muertos_total.append(0)\n",
    "        #print(R)\n",
    "    else:\n",
    "        muerto = d - primer_muerto\n",
    "        #print(muerto)\n",
    "        muertos_total.append(muerto)\n",
    "        #muerto_dia1 = array.array(muerto_dia)\n",
    "\n",
    "#Ver el número de muertos por dia\n",
    "for i in range(len(muertos_total)-1):\n",
    "    muertos_dia = muertos_total[i+1]-muertos_total[i]\n",
    "    muerto_dia.append(muertos_dia)\n",
    "#print(muerto_dia)\n",
    "\n",
    "for i in range(len(muerto_dia)-1):\n",
    "    recuperados = N-(I[i]+S[i])\n",
    "    #print(recuperados)\n",
    "    R.append(recuperados)\n",
    "\n",
    "\n",
    "#print(S) \n",
    "#print(I)\n",
    "#print(R)\n",
    "print(len(S))\n",
    "print(len(I))\n",
    "print(len(R))"
   ]
  },
  {
   "cell_type": "code",
   "execution_count": 45,
   "metadata": {},
   "outputs": [
    {
     "name": "stdout",
     "output_type": "stream",
     "text": [
      "59170000\n",
      "59170000\n",
      "59170000\n",
      "59170000\n",
      "59170000\n",
      "59170000\n",
      "59170000\n",
      "59170000\n",
      "59170000\n",
      "59170000\n",
      "59170000\n",
      "59170000\n",
      "59170000\n",
      "59170000\n",
      "59170000\n",
      "59170000\n",
      "59170000\n",
      "59170000\n",
      "59170000\n",
      "59170000\n",
      "59170000\n",
      "59170000\n",
      "59170000\n",
      "59170000\n",
      "59170000\n",
      "59170000\n",
      "59170000\n",
      "59170000\n",
      "59170000\n",
      "59170000\n",
      "59170000\n",
      "59170000\n",
      "59170000\n",
      "59170000\n",
      "59170000\n",
      "59170000\n",
      "59170000\n",
      "59170000\n",
      "59170000\n",
      "59170000\n"
     ]
    }
   ],
   "source": [
    "dict = {'S':S,'I': I}\n",
    "    \n",
    "df = pd.DataFrame(dict) \n",
    "    \n",
    "for i in range(len(muerto_dia)-1):\n",
    "    total = S[i]+I[i]\n",
    "    print(total)"
   ]
  },
  {
   "cell_type": "code",
   "execution_count": 36,
   "metadata": {},
   "outputs": [
    {
     "data": {
      "text/html": [
       "<div>\n",
       "<style scoped>\n",
       "    .dataframe tbody tr th:only-of-type {\n",
       "        vertical-align: middle;\n",
       "    }\n",
       "\n",
       "    .dataframe tbody tr th {\n",
       "        vertical-align: top;\n",
       "    }\n",
       "\n",
       "    .dataframe thead th {\n",
       "        text-align: right;\n",
       "    }\n",
       "</style>\n",
       "<table border=\"1\" class=\"dataframe\">\n",
       "  <thead>\n",
       "    <tr style=\"text-align: right;\">\n",
       "      <th></th>\n",
       "      <th>Date of report</th>\n",
       "      <th>Days</th>\n",
       "      <th>Total</th>\n",
       "      <th>China</th>\n",
       "      <th>Death China</th>\n",
       "      <th>Other</th>\n",
       "      <th>Death Outside</th>\n",
       "      <th>Death Globally</th>\n",
       "    </tr>\n",
       "  </thead>\n",
       "  <tbody>\n",
       "    <tr>\n",
       "      <th>0</th>\n",
       "      <td>01/20/20</td>\n",
       "      <td>21</td>\n",
       "      <td>282</td>\n",
       "      <td>278</td>\n",
       "      <td>6</td>\n",
       "      <td>4</td>\n",
       "      <td>0</td>\n",
       "      <td>6</td>\n",
       "    </tr>\n",
       "    <tr>\n",
       "      <th>1</th>\n",
       "      <td>01/21/20</td>\n",
       "      <td>22</td>\n",
       "      <td>346</td>\n",
       "      <td>341</td>\n",
       "      <td>6</td>\n",
       "      <td>4</td>\n",
       "      <td>0</td>\n",
       "      <td>6</td>\n",
       "    </tr>\n",
       "    <tr>\n",
       "      <th>2</th>\n",
       "      <td>01/23/20</td>\n",
       "      <td>24</td>\n",
       "      <td>581</td>\n",
       "      <td>571</td>\n",
       "      <td>17</td>\n",
       "      <td>7</td>\n",
       "      <td>0</td>\n",
       "      <td>17</td>\n",
       "    </tr>\n",
       "    <tr>\n",
       "      <th>3</th>\n",
       "      <td>01/24/20</td>\n",
       "      <td>25</td>\n",
       "      <td>846</td>\n",
       "      <td>830</td>\n",
       "      <td>25</td>\n",
       "      <td>11</td>\n",
       "      <td>0</td>\n",
       "      <td>25</td>\n",
       "    </tr>\n",
       "    <tr>\n",
       "      <th>4</th>\n",
       "      <td>01/25/20</td>\n",
       "      <td>26</td>\n",
       "      <td>1320</td>\n",
       "      <td>1297</td>\n",
       "      <td>41</td>\n",
       "      <td>23</td>\n",
       "      <td>0</td>\n",
       "      <td>41</td>\n",
       "    </tr>\n",
       "  </tbody>\n",
       "</table>\n",
       "</div>"
      ],
      "text/plain": [
       "  Date of report  Days  Total  China  Death China  Other  Death Outside  \\\n",
       "0       01/20/20    21    282    278            6      4              0   \n",
       "1       01/21/20    22    346    341            6      4              0   \n",
       "2       01/23/20    24    581    571           17      7              0   \n",
       "3       01/24/20    25    846    830           25     11              0   \n",
       "4       01/25/20    26   1320   1297           41     23              0   \n",
       "\n",
       "   Death Globally  \n",
       "0               6  \n",
       "1               6  \n",
       "2              17  \n",
       "3              25  \n",
       "4              41  "
      ]
     },
     "execution_count": 36,
     "metadata": {},
     "output_type": "execute_result"
    }
   ],
   "source": [
    "data.head()"
   ]
  },
  {
   "cell_type": "code",
   "execution_count": 37,
   "metadata": {},
   "outputs": [
    {
     "data": {
      "text/html": [
       "<div>\n",
       "<style scoped>\n",
       "    .dataframe tbody tr th:only-of-type {\n",
       "        vertical-align: middle;\n",
       "    }\n",
       "\n",
       "    .dataframe tbody tr th {\n",
       "        vertical-align: top;\n",
       "    }\n",
       "\n",
       "    .dataframe thead th {\n",
       "        text-align: right;\n",
       "    }\n",
       "</style>\n",
       "<table border=\"1\" class=\"dataframe\">\n",
       "  <thead>\n",
       "    <tr style=\"text-align: right;\">\n",
       "      <th></th>\n",
       "      <th>S</th>\n",
       "      <th>I</th>\n",
       "      <th>R</th>\n",
       "    </tr>\n",
       "  </thead>\n",
       "  <tbody>\n",
       "    <tr>\n",
       "      <th>0</th>\n",
       "      <td>59169937</td>\n",
       "      <td>63</td>\n",
       "      <td>63</td>\n",
       "    </tr>\n",
       "    <tr>\n",
       "      <th>1</th>\n",
       "      <td>59169770</td>\n",
       "      <td>230</td>\n",
       "      <td>230</td>\n",
       "    </tr>\n",
       "    <tr>\n",
       "      <th>2</th>\n",
       "      <td>59169741</td>\n",
       "      <td>259</td>\n",
       "      <td>248</td>\n",
       "    </tr>\n",
       "    <tr>\n",
       "      <th>3</th>\n",
       "      <td>59169533</td>\n",
       "      <td>467</td>\n",
       "      <td>459</td>\n",
       "    </tr>\n",
       "    <tr>\n",
       "      <th>4</th>\n",
       "      <td>59169312</td>\n",
       "      <td>688</td>\n",
       "      <td>672</td>\n",
       "    </tr>\n",
       "  </tbody>\n",
       "</table>\n",
       "</div>"
      ],
      "text/plain": [
       "          S    I    R\n",
       "0  59169937   63   63\n",
       "1  59169770  230  230\n",
       "2  59169741  259  248\n",
       "3  59169533  467  459\n",
       "4  59169312  688  672"
      ]
     },
     "execution_count": 37,
     "metadata": {},
     "output_type": "execute_result"
    }
   ],
   "source": [
    "df.head()"
   ]
  },
  {
   "cell_type": "markdown",
   "metadata": {},
   "source": [
    "#### Constructing the `PDEmodel` object.\n",
    "\n",
    "The inputs are\n",
    "\n",
    "**Required:**\n",
    "1. The data table `data`.\n",
    "2. The model `SIR`.\n",
    "3. The list of initial condition functions.\n",
    "4. The bounds for the parameter values.\n",
    "\n",
    "**Optional:**\n",
    "1. The parameter names.\n",
    "2. The number of variables: 2. **(Default is 1, this needs to be provided in this case)**\n",
    "3. The number of spatial dimensions: 0. **(Default is 1, this needs to be provided in this case)**\n",
    "4. The number of replicates in the data: 1. **(Default is 1, this needs to be provided in this case)**\n",
    "5. The indices of the measured variables. In this case, the default `None`, since we have data for all 2 variables.\n",
    "6. The function to apply to the output. In this case, the default `None`, since our data is directly $x$ and $y$."
   ]
  },
  {
   "cell_type": "code",
   "execution_count": 13,
   "metadata": {},
   "outputs": [],
   "source": [
    "my_model = pde.PDEmodel(df, SIR, [init_I, init_R], bounds=[(0, 1), (0,1)], \n",
    "                        param_names=[r'$be$', r'$gm$'], nvars=2, ndims=0, \n",
    "                        nreplicates=1, obsidx=None, outfunc=None)"
   ]
  },
  {
   "cell_type": "code",
   "execution_count": 14,
   "metadata": {},
   "outputs": [
    {
     "data": {
      "text/plain": [
       "array([1, 1])"
      ]
     },
     "execution_count": 14,
     "metadata": {},
     "output_type": "execute_result"
    }
   ],
   "source": [
    "my_model.initial_condition"
   ]
  },
  {
   "cell_type": "code",
   "execution_count": 16,
   "metadata": {},
   "outputs": [
    {
     "name": "stdout",
     "output_type": "stream",
     "text": [
      "       $be$      $gm$\n",
      "0  0.576114  0.581836\n",
      "CPU times: user 1min 12s, sys: 393 ms, total: 1min 12s\n",
      "Wall time: 1min 14s\n"
     ]
    }
   ],
   "source": [
    "%%time\n",
    "my_model.fit()"
   ]
  },
  {
   "cell_type": "code",
   "execution_count": 18,
   "metadata": {},
   "outputs": [
    {
     "data": {
      "text/html": [
       "<div>\n",
       "<style scoped>\n",
       "    .dataframe tbody tr th:only-of-type {\n",
       "        vertical-align: middle;\n",
       "    }\n",
       "\n",
       "    .dataframe tbody tr th {\n",
       "        vertical-align: top;\n",
       "    }\n",
       "\n",
       "    .dataframe thead th {\n",
       "        text-align: right;\n",
       "    }\n",
       "</style>\n",
       "<table border=\"1\" class=\"dataframe\">\n",
       "  <thead>\n",
       "    <tr style=\"text-align: right;\">\n",
       "      <th></th>\n",
       "      <th>$be$</th>\n",
       "      <th>$gm$</th>\n",
       "    </tr>\n",
       "  </thead>\n",
       "  <tbody>\n",
       "    <tr>\n",
       "      <th>0</th>\n",
       "      <td>0.576114</td>\n",
       "      <td>0.581836</td>\n",
       "    </tr>\n",
       "  </tbody>\n",
       "</table>\n",
       "</div>"
      ],
      "text/plain": [
       "       $be$      $gm$\n",
       "0  0.576114  0.581836"
      ]
     },
     "execution_count": 18,
     "metadata": {},
     "output_type": "execute_result"
    }
   ],
   "source": [
    "my_model.best_params"
   ]
  },
  {
   "cell_type": "code",
   "execution_count": 19,
   "metadata": {},
   "outputs": [
    {
     "data": {
      "text/plain": [
       "inf"
      ]
     },
     "execution_count": 19,
     "metadata": {},
     "output_type": "execute_result"
    }
   ],
   "source": [
    "my_model.best_error"
   ]
  },
  {
   "cell_type": "code",
   "execution_count": 24,
   "metadata": {},
   "outputs": [
    {
     "ename": "SyntaxError",
     "evalue": "invalid syntax (<ipython-input-24-143b8c5e7a88>, line 1)",
     "output_type": "error",
     "traceback": [
      "\u001b[0;36m  File \u001b[0;32m\"<ipython-input-24-143b8c5e7a88>\"\u001b[0;36m, line \u001b[0;32m1\u001b[0m\n\u001b[0;31m    help(.best_error)\u001b[0m\n\u001b[0m         ^\u001b[0m\n\u001b[0;31mSyntaxError\u001b[0m\u001b[0;31m:\u001b[0m invalid syntax\n"
     ]
    }
   ],
   "source": [
    "help(.best_error)"
   ]
  },
  {
   "cell_type": "code",
   "execution_count": null,
   "metadata": {},
   "outputs": [
    {
     "data": {
      "application/vnd.jupyter.widget-view+json": {
       "model_id": "24c85cb743c24bc0afef790c9cae68f2",
       "version_major": 2,
       "version_minor": 0
      },
      "text/plain": [
       "HBox(children=(FloatProgress(value=0.0, description='parameters', max=2.0, style=ProgressStyle(description_wid…"
      ]
     },
     "metadata": {},
     "output_type": "display_data"
    },
    {
     "data": {
      "application/vnd.jupyter.widget-view+json": {
       "model_id": "53bd646cb91f436fa45548d579619e37",
       "version_major": 2,
       "version_minor": 0
      },
      "text/plain": [
       "HBox(children=(FloatProgress(value=0.0, description='values within parameters', style=ProgressStyle(descriptio…"
      ]
     },
     "metadata": {},
     "output_type": "display_data"
    }
   ],
   "source": [
    "%%time\n",
    "my_model.likelihood_profiles()"
   ]
  },
  {
   "cell_type": "code",
   "execution_count": null,
   "metadata": {},
   "outputs": [],
   "source": [
    "my_model.result_profiles"
   ]
  }
 ],
 "metadata": {
  "kernelspec": {
   "display_name": "Python 3",
   "language": "python",
   "name": "python3"
  },
  "language_info": {
   "codemirror_mode": {
    "name": "ipython",
    "version": 3
   },
   "file_extension": ".py",
   "mimetype": "text/x-python",
   "name": "python",
   "nbconvert_exporter": "python",
   "pygments_lexer": "ipython3",
   "version": "3.8.3"
  }
 },
 "nbformat": 4,
 "nbformat_minor": 4
}
