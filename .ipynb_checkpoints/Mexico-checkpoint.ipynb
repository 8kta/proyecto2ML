{
 "cells": [
  {
   "cell_type": "markdown",
   "metadata": {},
   "source": [
    "# México COVID-19 DataBase"
   ]
  },
  {
   "cell_type": "code",
   "execution_count": 33,
   "metadata": {},
   "outputs": [],
   "source": [
    "import pandas as pd\n",
    "import numpy as np\n",
    "from scipy import integrate\n",
    "from sklearn.metrics import mean_squared_error, mean_squared_log_error, mean_absolute_error, median_absolute_error\n",
    "from scipy.integrate import odeint\n",
    "from scipy.optimize import differential_evolution, minimize\n",
    "import matplotlib.pyplot as plt\n",
    "import PDEparams as pde\n",
    "from scipy import stats"
   ]
  },
  {
   "cell_type": "code",
   "execution_count": 2,
   "metadata": {},
   "outputs": [
    {
     "name": "stdout",
     "output_type": "stream",
     "text": [
      "CPU times: user 12.5 s, sys: 2.03 s, total: 14.5 s\n",
      "Wall time: 16.5 s\n"
     ]
    }
   ],
   "source": [
    "%%time\n",
    "data = pd.read_csv('201220COVID19MEXICO.csv',encoding = 'latin_1')"
   ]
  },
  {
   "cell_type": "code",
   "execution_count": 3,
   "metadata": {},
   "outputs": [
    {
     "data": {
      "text/html": [
       "<div>\n",
       "<style scoped>\n",
       "    .dataframe tbody tr th:only-of-type {\n",
       "        vertical-align: middle;\n",
       "    }\n",
       "\n",
       "    .dataframe tbody tr th {\n",
       "        vertical-align: top;\n",
       "    }\n",
       "\n",
       "    .dataframe thead th {\n",
       "        text-align: right;\n",
       "    }\n",
       "</style>\n",
       "<table border=\"1\" class=\"dataframe\">\n",
       "  <thead>\n",
       "    <tr style=\"text-align: right;\">\n",
       "      <th></th>\n",
       "      <th>FECHA_ACTUALIZACION</th>\n",
       "      <th>ID_REGISTRO</th>\n",
       "      <th>ORIGEN</th>\n",
       "      <th>SECTOR</th>\n",
       "      <th>ENTIDAD_UM</th>\n",
       "      <th>SEXO</th>\n",
       "      <th>ENTIDAD_NAC</th>\n",
       "      <th>ENTIDAD_RES</th>\n",
       "      <th>MUNICIPIO_RES</th>\n",
       "      <th>TIPO_PACIENTE</th>\n",
       "      <th>...</th>\n",
       "      <th>OTRO_CASO</th>\n",
       "      <th>TOMA_MUESTRA_LAB</th>\n",
       "      <th>RESULTADO_LAB</th>\n",
       "      <th>TOMA_MUESTRA_ANTIGENO</th>\n",
       "      <th>RESULTADO_ANTIGENO</th>\n",
       "      <th>CLASIFICACION_FINAL</th>\n",
       "      <th>MIGRANTE</th>\n",
       "      <th>PAIS_NACIONALIDAD</th>\n",
       "      <th>PAIS_ORIGEN</th>\n",
       "      <th>UCI</th>\n",
       "    </tr>\n",
       "  </thead>\n",
       "  <tbody>\n",
       "    <tr>\n",
       "      <th>0</th>\n",
       "      <td>2020-12-20</td>\n",
       "      <td>002371</td>\n",
       "      <td>1</td>\n",
       "      <td>4</td>\n",
       "      <td>3</td>\n",
       "      <td>2</td>\n",
       "      <td>3</td>\n",
       "      <td>3</td>\n",
       "      <td>8</td>\n",
       "      <td>1</td>\n",
       "      <td>...</td>\n",
       "      <td>99</td>\n",
       "      <td>1</td>\n",
       "      <td>1</td>\n",
       "      <td>2</td>\n",
       "      <td>97</td>\n",
       "      <td>3</td>\n",
       "      <td>99</td>\n",
       "      <td>MÃ©xico</td>\n",
       "      <td>97</td>\n",
       "      <td>97</td>\n",
       "    </tr>\n",
       "    <tr>\n",
       "      <th>1</th>\n",
       "      <td>2020-12-20</td>\n",
       "      <td>11fb00</td>\n",
       "      <td>1</td>\n",
       "      <td>12</td>\n",
       "      <td>9</td>\n",
       "      <td>2</td>\n",
       "      <td>9</td>\n",
       "      <td>9</td>\n",
       "      <td>15</td>\n",
       "      <td>1</td>\n",
       "      <td>...</td>\n",
       "      <td>1</td>\n",
       "      <td>1</td>\n",
       "      <td>1</td>\n",
       "      <td>2</td>\n",
       "      <td>97</td>\n",
       "      <td>3</td>\n",
       "      <td>99</td>\n",
       "      <td>MÃ©xico</td>\n",
       "      <td>97</td>\n",
       "      <td>97</td>\n",
       "    </tr>\n",
       "    <tr>\n",
       "      <th>2</th>\n",
       "      <td>2020-12-20</td>\n",
       "      <td>092521</td>\n",
       "      <td>1</td>\n",
       "      <td>12</td>\n",
       "      <td>9</td>\n",
       "      <td>1</td>\n",
       "      <td>9</td>\n",
       "      <td>9</td>\n",
       "      <td>17</td>\n",
       "      <td>1</td>\n",
       "      <td>...</td>\n",
       "      <td>2</td>\n",
       "      <td>1</td>\n",
       "      <td>1</td>\n",
       "      <td>2</td>\n",
       "      <td>97</td>\n",
       "      <td>3</td>\n",
       "      <td>99</td>\n",
       "      <td>MÃ©xico</td>\n",
       "      <td>97</td>\n",
       "      <td>97</td>\n",
       "    </tr>\n",
       "    <tr>\n",
       "      <th>3</th>\n",
       "      <td>2020-12-20</td>\n",
       "      <td>0955a5</td>\n",
       "      <td>2</td>\n",
       "      <td>12</td>\n",
       "      <td>6</td>\n",
       "      <td>1</td>\n",
       "      <td>14</td>\n",
       "      <td>6</td>\n",
       "      <td>10</td>\n",
       "      <td>1</td>\n",
       "      <td>...</td>\n",
       "      <td>2</td>\n",
       "      <td>1</td>\n",
       "      <td>1</td>\n",
       "      <td>2</td>\n",
       "      <td>97</td>\n",
       "      <td>3</td>\n",
       "      <td>99</td>\n",
       "      <td>MÃ©xico</td>\n",
       "      <td>97</td>\n",
       "      <td>97</td>\n",
       "    </tr>\n",
       "    <tr>\n",
       "      <th>4</th>\n",
       "      <td>2020-12-20</td>\n",
       "      <td>1a1f12</td>\n",
       "      <td>2</td>\n",
       "      <td>4</td>\n",
       "      <td>14</td>\n",
       "      <td>2</td>\n",
       "      <td>9</td>\n",
       "      <td>14</td>\n",
       "      <td>67</td>\n",
       "      <td>2</td>\n",
       "      <td>...</td>\n",
       "      <td>2</td>\n",
       "      <td>1</td>\n",
       "      <td>1</td>\n",
       "      <td>2</td>\n",
       "      <td>97</td>\n",
       "      <td>3</td>\n",
       "      <td>99</td>\n",
       "      <td>MÃ©xico</td>\n",
       "      <td>97</td>\n",
       "      <td>2</td>\n",
       "    </tr>\n",
       "    <tr>\n",
       "      <th>...</th>\n",
       "      <td>...</td>\n",
       "      <td>...</td>\n",
       "      <td>...</td>\n",
       "      <td>...</td>\n",
       "      <td>...</td>\n",
       "      <td>...</td>\n",
       "      <td>...</td>\n",
       "      <td>...</td>\n",
       "      <td>...</td>\n",
       "      <td>...</td>\n",
       "      <td>...</td>\n",
       "      <td>...</td>\n",
       "      <td>...</td>\n",
       "      <td>...</td>\n",
       "      <td>...</td>\n",
       "      <td>...</td>\n",
       "      <td>...</td>\n",
       "      <td>...</td>\n",
       "      <td>...</td>\n",
       "      <td>...</td>\n",
       "      <td>...</td>\n",
       "    </tr>\n",
       "    <tr>\n",
       "      <th>3377512</th>\n",
       "      <td>2020-12-20</td>\n",
       "      <td>412c07</td>\n",
       "      <td>1</td>\n",
       "      <td>12</td>\n",
       "      <td>9</td>\n",
       "      <td>2</td>\n",
       "      <td>9</td>\n",
       "      <td>9</td>\n",
       "      <td>17</td>\n",
       "      <td>1</td>\n",
       "      <td>...</td>\n",
       "      <td>1</td>\n",
       "      <td>2</td>\n",
       "      <td>97</td>\n",
       "      <td>1</td>\n",
       "      <td>2</td>\n",
       "      <td>7</td>\n",
       "      <td>99</td>\n",
       "      <td>MÃ©xico</td>\n",
       "      <td>97</td>\n",
       "      <td>97</td>\n",
       "    </tr>\n",
       "    <tr>\n",
       "      <th>3377513</th>\n",
       "      <td>2020-12-20</td>\n",
       "      <td>40f8d9</td>\n",
       "      <td>1</td>\n",
       "      <td>12</td>\n",
       "      <td>13</td>\n",
       "      <td>2</td>\n",
       "      <td>13</td>\n",
       "      <td>13</td>\n",
       "      <td>69</td>\n",
       "      <td>1</td>\n",
       "      <td>...</td>\n",
       "      <td>2</td>\n",
       "      <td>2</td>\n",
       "      <td>97</td>\n",
       "      <td>2</td>\n",
       "      <td>97</td>\n",
       "      <td>6</td>\n",
       "      <td>99</td>\n",
       "      <td>MÃ©xico</td>\n",
       "      <td>97</td>\n",
       "      <td>97</td>\n",
       "    </tr>\n",
       "    <tr>\n",
       "      <th>3377514</th>\n",
       "      <td>2020-12-20</td>\n",
       "      <td>3a8f5a</td>\n",
       "      <td>2</td>\n",
       "      <td>12</td>\n",
       "      <td>9</td>\n",
       "      <td>1</td>\n",
       "      <td>9</td>\n",
       "      <td>9</td>\n",
       "      <td>15</td>\n",
       "      <td>1</td>\n",
       "      <td>...</td>\n",
       "      <td>1</td>\n",
       "      <td>2</td>\n",
       "      <td>97</td>\n",
       "      <td>1</td>\n",
       "      <td>2</td>\n",
       "      <td>7</td>\n",
       "      <td>99</td>\n",
       "      <td>MÃ©xico</td>\n",
       "      <td>97</td>\n",
       "      <td>97</td>\n",
       "    </tr>\n",
       "    <tr>\n",
       "      <th>3377515</th>\n",
       "      <td>2020-12-20</td>\n",
       "      <td>365280</td>\n",
       "      <td>1</td>\n",
       "      <td>12</td>\n",
       "      <td>9</td>\n",
       "      <td>2</td>\n",
       "      <td>9</td>\n",
       "      <td>9</td>\n",
       "      <td>10</td>\n",
       "      <td>1</td>\n",
       "      <td>...</td>\n",
       "      <td>1</td>\n",
       "      <td>2</td>\n",
       "      <td>97</td>\n",
       "      <td>1</td>\n",
       "      <td>1</td>\n",
       "      <td>3</td>\n",
       "      <td>99</td>\n",
       "      <td>MÃ©xico</td>\n",
       "      <td>97</td>\n",
       "      <td>97</td>\n",
       "    </tr>\n",
       "    <tr>\n",
       "      <th>3377516</th>\n",
       "      <td>2020-12-20</td>\n",
       "      <td>35b58b</td>\n",
       "      <td>1</td>\n",
       "      <td>12</td>\n",
       "      <td>25</td>\n",
       "      <td>1</td>\n",
       "      <td>25</td>\n",
       "      <td>25</td>\n",
       "      <td>11</td>\n",
       "      <td>1</td>\n",
       "      <td>...</td>\n",
       "      <td>1</td>\n",
       "      <td>1</td>\n",
       "      <td>3</td>\n",
       "      <td>2</td>\n",
       "      <td>97</td>\n",
       "      <td>6</td>\n",
       "      <td>99</td>\n",
       "      <td>MÃ©xico</td>\n",
       "      <td>97</td>\n",
       "      <td>97</td>\n",
       "    </tr>\n",
       "  </tbody>\n",
       "</table>\n",
       "<p>3377517 rows × 40 columns</p>\n",
       "</div>"
      ],
      "text/plain": [
       "        FECHA_ACTUALIZACION ID_REGISTRO  ORIGEN  SECTOR  ENTIDAD_UM  SEXO  \\\n",
       "0                2020-12-20      002371       1       4           3     2   \n",
       "1                2020-12-20      11fb00       1      12           9     2   \n",
       "2                2020-12-20      092521       1      12           9     1   \n",
       "3                2020-12-20      0955a5       2      12           6     1   \n",
       "4                2020-12-20      1a1f12       2       4          14     2   \n",
       "...                     ...         ...     ...     ...         ...   ...   \n",
       "3377512          2020-12-20      412c07       1      12           9     2   \n",
       "3377513          2020-12-20      40f8d9       1      12          13     2   \n",
       "3377514          2020-12-20      3a8f5a       2      12           9     1   \n",
       "3377515          2020-12-20      365280       1      12           9     2   \n",
       "3377516          2020-12-20      35b58b       1      12          25     1   \n",
       "\n",
       "         ENTIDAD_NAC  ENTIDAD_RES  MUNICIPIO_RES  TIPO_PACIENTE  ...  \\\n",
       "0                  3            3              8              1  ...   \n",
       "1                  9            9             15              1  ...   \n",
       "2                  9            9             17              1  ...   \n",
       "3                 14            6             10              1  ...   \n",
       "4                  9           14             67              2  ...   \n",
       "...              ...          ...            ...            ...  ...   \n",
       "3377512            9            9             17              1  ...   \n",
       "3377513           13           13             69              1  ...   \n",
       "3377514            9            9             15              1  ...   \n",
       "3377515            9            9             10              1  ...   \n",
       "3377516           25           25             11              1  ...   \n",
       "\n",
       "        OTRO_CASO TOMA_MUESTRA_LAB RESULTADO_LAB  TOMA_MUESTRA_ANTIGENO  \\\n",
       "0              99                1             1                      2   \n",
       "1               1                1             1                      2   \n",
       "2               2                1             1                      2   \n",
       "3               2                1             1                      2   \n",
       "4               2                1             1                      2   \n",
       "...           ...              ...           ...                    ...   \n",
       "3377512         1                2            97                      1   \n",
       "3377513         2                2            97                      2   \n",
       "3377514         1                2            97                      1   \n",
       "3377515         1                2            97                      1   \n",
       "3377516         1                1             3                      2   \n",
       "\n",
       "         RESULTADO_ANTIGENO  CLASIFICACION_FINAL  MIGRANTE  PAIS_NACIONALIDAD  \\\n",
       "0                        97                    3        99            MÃ©xico   \n",
       "1                        97                    3        99            MÃ©xico   \n",
       "2                        97                    3        99            MÃ©xico   \n",
       "3                        97                    3        99            MÃ©xico   \n",
       "4                        97                    3        99            MÃ©xico   \n",
       "...                     ...                  ...       ...                ...   \n",
       "3377512                   2                    7        99            MÃ©xico   \n",
       "3377513                  97                    6        99            MÃ©xico   \n",
       "3377514                   2                    7        99            MÃ©xico   \n",
       "3377515                   1                    3        99            MÃ©xico   \n",
       "3377516                  97                    6        99            MÃ©xico   \n",
       "\n",
       "         PAIS_ORIGEN  UCI  \n",
       "0                 97   97  \n",
       "1                 97   97  \n",
       "2                 97   97  \n",
       "3                 97   97  \n",
       "4                 97    2  \n",
       "...              ...  ...  \n",
       "3377512           97   97  \n",
       "3377513           97   97  \n",
       "3377514           97   97  \n",
       "3377515           97   97  \n",
       "3377516           97   97  \n",
       "\n",
       "[3377517 rows x 40 columns]"
      ]
     },
     "execution_count": 3,
     "metadata": {},
     "output_type": "execute_result"
    }
   ],
   "source": [
    "data"
   ]
  },
  {
   "cell_type": "markdown",
   "metadata": {},
   "source": [
    "## Características"
   ]
  },
  {
   "cell_type": "code",
   "execution_count": 4,
   "metadata": {},
   "outputs": [
    {
     "name": "stdout",
     "output_type": "stream",
     "text": [
      "FECHA_ACTUALIZACION\n",
      "ID_REGISTRO\n",
      "ORIGEN\n",
      "SECTOR\n",
      "ENTIDAD_UM\n",
      "SEXO\n",
      "ENTIDAD_NAC\n",
      "ENTIDAD_RES\n",
      "MUNICIPIO_RES\n",
      "TIPO_PACIENTE\n",
      "FECHA_INGRESO\n",
      "FECHA_SINTOMAS\n",
      "FECHA_DEF\n",
      "INTUBADO\n",
      "NEUMONIA\n",
      "EDAD\n",
      "NACIONALIDAD\n",
      "EMBARAZO\n",
      "HABLA_LENGUA_INDIG\n",
      "INDIGENA\n",
      "DIABETES\n",
      "EPOC\n",
      "ASMA\n",
      "INMUSUPR\n",
      "HIPERTENSION\n",
      "OTRA_COM\n",
      "CARDIOVASCULAR\n",
      "OBESIDAD\n",
      "RENAL_CRONICA\n",
      "TABAQUISMO\n",
      "OTRO_CASO\n",
      "TOMA_MUESTRA_LAB\n",
      "RESULTADO_LAB\n",
      "TOMA_MUESTRA_ANTIGENO\n",
      "RESULTADO_ANTIGENO\n",
      "CLASIFICACION_FINAL\n",
      "MIGRANTE\n",
      "PAIS_NACIONALIDAD\n",
      "PAIS_ORIGEN\n",
      "UCI\n",
      "En total hay: 40 características.\n"
     ]
    }
   ],
   "source": [
    "count = 0\n",
    "for a in data:\n",
    "    print(a)\n",
    "    count = count + 1\n",
    "print('En total hay:', count, 'características.')"
   ]
  },
  {
   "cell_type": "markdown",
   "metadata": {},
   "source": [
    "## Casos confirmados"
   ]
  },
  {
   "cell_type": "code",
   "execution_count": 5,
   "metadata": {},
   "outputs": [
    {
     "name": "stdout",
     "output_type": "stream",
     "text": [
      "Hay un total de 1270788 confirmados.\n"
     ]
    }
   ],
   "source": [
    "confirmados = 0\n",
    "for a in data.loc[:,'CLASIFICACION_FINAL']:\n",
    "    if a == 3:\n",
    "        confirmados = 1 + confirmados\n",
    "    else:\n",
    "        continue\n",
    "print('Hay un total de',confirmados,'confirmados.')        "
   ]
  },
  {
   "cell_type": "markdown",
   "metadata": {},
   "source": [
    "### Se hace una base de datos solamente de los confirmados"
   ]
  },
  {
   "cell_type": "code",
   "execution_count": 6,
   "metadata": {},
   "outputs": [
    {
     "name": "stdout",
     "output_type": "stream",
     "text": [
      "CPU times: user 6min 33s, sys: 18.7 s, total: 6min 52s\n",
      "Wall time: 7min 13s\n"
     ]
    }
   ],
   "source": [
    "%%time\n",
    "lst = []\n",
    "for n in range(len(data)-1):\n",
    "    if data.loc[n,'CLASIFICACION_FINAL']==3 :\n",
    "        lst.append(data.loc[n,:])        \n",
    "df_confirmados = pd.DataFrame(lst)   \n",
    "df_confirmados.reset_index(drop=True, inplace=True)"
   ]
  },
  {
   "cell_type": "code",
   "execution_count": 36,
   "metadata": {},
   "outputs": [
    {
     "data": {
      "text/html": [
       "<div>\n",
       "<style scoped>\n",
       "    .dataframe tbody tr th:only-of-type {\n",
       "        vertical-align: middle;\n",
       "    }\n",
       "\n",
       "    .dataframe tbody tr th {\n",
       "        vertical-align: top;\n",
       "    }\n",
       "\n",
       "    .dataframe thead th {\n",
       "        text-align: right;\n",
       "    }\n",
       "</style>\n",
       "<table border=\"1\" class=\"dataframe\">\n",
       "  <thead>\n",
       "    <tr style=\"text-align: right;\">\n",
       "      <th></th>\n",
       "      <th>FECHA_ACTUALIZACION</th>\n",
       "      <th>ID_REGISTRO</th>\n",
       "      <th>ORIGEN</th>\n",
       "      <th>SECTOR</th>\n",
       "      <th>ENTIDAD_UM</th>\n",
       "      <th>SEXO</th>\n",
       "      <th>ENTIDAD_NAC</th>\n",
       "      <th>ENTIDAD_RES</th>\n",
       "      <th>MUNICIPIO_RES</th>\n",
       "      <th>TIPO_PACIENTE</th>\n",
       "      <th>...</th>\n",
       "      <th>OTRO_CASO</th>\n",
       "      <th>TOMA_MUESTRA_LAB</th>\n",
       "      <th>RESULTADO_LAB</th>\n",
       "      <th>TOMA_MUESTRA_ANTIGENO</th>\n",
       "      <th>RESULTADO_ANTIGENO</th>\n",
       "      <th>CLASIFICACION_FINAL</th>\n",
       "      <th>MIGRANTE</th>\n",
       "      <th>PAIS_NACIONALIDAD</th>\n",
       "      <th>PAIS_ORIGEN</th>\n",
       "      <th>UCI</th>\n",
       "    </tr>\n",
       "  </thead>\n",
       "  <tbody>\n",
       "    <tr>\n",
       "      <th>0</th>\n",
       "      <td>2020-12-20</td>\n",
       "      <td>002371</td>\n",
       "      <td>1</td>\n",
       "      <td>4</td>\n",
       "      <td>3</td>\n",
       "      <td>2</td>\n",
       "      <td>3</td>\n",
       "      <td>3</td>\n",
       "      <td>8</td>\n",
       "      <td>1</td>\n",
       "      <td>...</td>\n",
       "      <td>99</td>\n",
       "      <td>1</td>\n",
       "      <td>1</td>\n",
       "      <td>2</td>\n",
       "      <td>97</td>\n",
       "      <td>3</td>\n",
       "      <td>99</td>\n",
       "      <td>MÃ©xico</td>\n",
       "      <td>97</td>\n",
       "      <td>97</td>\n",
       "    </tr>\n",
       "    <tr>\n",
       "      <th>1</th>\n",
       "      <td>2020-12-20</td>\n",
       "      <td>11fb00</td>\n",
       "      <td>1</td>\n",
       "      <td>12</td>\n",
       "      <td>9</td>\n",
       "      <td>2</td>\n",
       "      <td>9</td>\n",
       "      <td>9</td>\n",
       "      <td>15</td>\n",
       "      <td>1</td>\n",
       "      <td>...</td>\n",
       "      <td>1</td>\n",
       "      <td>1</td>\n",
       "      <td>1</td>\n",
       "      <td>2</td>\n",
       "      <td>97</td>\n",
       "      <td>3</td>\n",
       "      <td>99</td>\n",
       "      <td>MÃ©xico</td>\n",
       "      <td>97</td>\n",
       "      <td>97</td>\n",
       "    </tr>\n",
       "    <tr>\n",
       "      <th>2</th>\n",
       "      <td>2020-12-20</td>\n",
       "      <td>092521</td>\n",
       "      <td>1</td>\n",
       "      <td>12</td>\n",
       "      <td>9</td>\n",
       "      <td>1</td>\n",
       "      <td>9</td>\n",
       "      <td>9</td>\n",
       "      <td>17</td>\n",
       "      <td>1</td>\n",
       "      <td>...</td>\n",
       "      <td>2</td>\n",
       "      <td>1</td>\n",
       "      <td>1</td>\n",
       "      <td>2</td>\n",
       "      <td>97</td>\n",
       "      <td>3</td>\n",
       "      <td>99</td>\n",
       "      <td>MÃ©xico</td>\n",
       "      <td>97</td>\n",
       "      <td>97</td>\n",
       "    </tr>\n",
       "    <tr>\n",
       "      <th>3</th>\n",
       "      <td>2020-12-20</td>\n",
       "      <td>0955a5</td>\n",
       "      <td>2</td>\n",
       "      <td>12</td>\n",
       "      <td>6</td>\n",
       "      <td>1</td>\n",
       "      <td>14</td>\n",
       "      <td>6</td>\n",
       "      <td>10</td>\n",
       "      <td>1</td>\n",
       "      <td>...</td>\n",
       "      <td>2</td>\n",
       "      <td>1</td>\n",
       "      <td>1</td>\n",
       "      <td>2</td>\n",
       "      <td>97</td>\n",
       "      <td>3</td>\n",
       "      <td>99</td>\n",
       "      <td>MÃ©xico</td>\n",
       "      <td>97</td>\n",
       "      <td>97</td>\n",
       "    </tr>\n",
       "    <tr>\n",
       "      <th>4</th>\n",
       "      <td>2020-12-20</td>\n",
       "      <td>1a1f12</td>\n",
       "      <td>2</td>\n",
       "      <td>4</td>\n",
       "      <td>14</td>\n",
       "      <td>2</td>\n",
       "      <td>9</td>\n",
       "      <td>14</td>\n",
       "      <td>67</td>\n",
       "      <td>2</td>\n",
       "      <td>...</td>\n",
       "      <td>2</td>\n",
       "      <td>1</td>\n",
       "      <td>1</td>\n",
       "      <td>2</td>\n",
       "      <td>97</td>\n",
       "      <td>3</td>\n",
       "      <td>99</td>\n",
       "      <td>MÃ©xico</td>\n",
       "      <td>97</td>\n",
       "      <td>2</td>\n",
       "    </tr>\n",
       "    <tr>\n",
       "      <th>...</th>\n",
       "      <td>...</td>\n",
       "      <td>...</td>\n",
       "      <td>...</td>\n",
       "      <td>...</td>\n",
       "      <td>...</td>\n",
       "      <td>...</td>\n",
       "      <td>...</td>\n",
       "      <td>...</td>\n",
       "      <td>...</td>\n",
       "      <td>...</td>\n",
       "      <td>...</td>\n",
       "      <td>...</td>\n",
       "      <td>...</td>\n",
       "      <td>...</td>\n",
       "      <td>...</td>\n",
       "      <td>...</td>\n",
       "      <td>...</td>\n",
       "      <td>...</td>\n",
       "      <td>...</td>\n",
       "      <td>...</td>\n",
       "      <td>...</td>\n",
       "    </tr>\n",
       "    <tr>\n",
       "      <th>1270783</th>\n",
       "      <td>2020-12-20</td>\n",
       "      <td>407471</td>\n",
       "      <td>2</td>\n",
       "      <td>12</td>\n",
       "      <td>9</td>\n",
       "      <td>1</td>\n",
       "      <td>9</td>\n",
       "      <td>9</td>\n",
       "      <td>5</td>\n",
       "      <td>1</td>\n",
       "      <td>...</td>\n",
       "      <td>2</td>\n",
       "      <td>2</td>\n",
       "      <td>97</td>\n",
       "      <td>1</td>\n",
       "      <td>1</td>\n",
       "      <td>3</td>\n",
       "      <td>99</td>\n",
       "      <td>MÃ©xico</td>\n",
       "      <td>97</td>\n",
       "      <td>97</td>\n",
       "    </tr>\n",
       "    <tr>\n",
       "      <th>1270784</th>\n",
       "      <td>2020-12-20</td>\n",
       "      <td>3790a4</td>\n",
       "      <td>2</td>\n",
       "      <td>12</td>\n",
       "      <td>9</td>\n",
       "      <td>2</td>\n",
       "      <td>9</td>\n",
       "      <td>15</td>\n",
       "      <td>58</td>\n",
       "      <td>1</td>\n",
       "      <td>...</td>\n",
       "      <td>1</td>\n",
       "      <td>2</td>\n",
       "      <td>97</td>\n",
       "      <td>1</td>\n",
       "      <td>1</td>\n",
       "      <td>3</td>\n",
       "      <td>99</td>\n",
       "      <td>MÃ©xico</td>\n",
       "      <td>97</td>\n",
       "      <td>97</td>\n",
       "    </tr>\n",
       "    <tr>\n",
       "      <th>1270785</th>\n",
       "      <td>2020-12-20</td>\n",
       "      <td>39df30</td>\n",
       "      <td>2</td>\n",
       "      <td>12</td>\n",
       "      <td>9</td>\n",
       "      <td>2</td>\n",
       "      <td>9</td>\n",
       "      <td>9</td>\n",
       "      <td>3</td>\n",
       "      <td>1</td>\n",
       "      <td>...</td>\n",
       "      <td>2</td>\n",
       "      <td>2</td>\n",
       "      <td>97</td>\n",
       "      <td>1</td>\n",
       "      <td>1</td>\n",
       "      <td>3</td>\n",
       "      <td>99</td>\n",
       "      <td>MÃ©xico</td>\n",
       "      <td>97</td>\n",
       "      <td>97</td>\n",
       "    </tr>\n",
       "    <tr>\n",
       "      <th>1270786</th>\n",
       "      <td>2020-12-20</td>\n",
       "      <td>21ca50</td>\n",
       "      <td>1</td>\n",
       "      <td>12</td>\n",
       "      <td>9</td>\n",
       "      <td>1</td>\n",
       "      <td>9</td>\n",
       "      <td>9</td>\n",
       "      <td>4</td>\n",
       "      <td>1</td>\n",
       "      <td>...</td>\n",
       "      <td>99</td>\n",
       "      <td>2</td>\n",
       "      <td>97</td>\n",
       "      <td>1</td>\n",
       "      <td>1</td>\n",
       "      <td>3</td>\n",
       "      <td>99</td>\n",
       "      <td>MÃ©xico</td>\n",
       "      <td>97</td>\n",
       "      <td>97</td>\n",
       "    </tr>\n",
       "    <tr>\n",
       "      <th>1270787</th>\n",
       "      <td>2020-12-20</td>\n",
       "      <td>365280</td>\n",
       "      <td>1</td>\n",
       "      <td>12</td>\n",
       "      <td>9</td>\n",
       "      <td>2</td>\n",
       "      <td>9</td>\n",
       "      <td>9</td>\n",
       "      <td>10</td>\n",
       "      <td>1</td>\n",
       "      <td>...</td>\n",
       "      <td>1</td>\n",
       "      <td>2</td>\n",
       "      <td>97</td>\n",
       "      <td>1</td>\n",
       "      <td>1</td>\n",
       "      <td>3</td>\n",
       "      <td>99</td>\n",
       "      <td>MÃ©xico</td>\n",
       "      <td>97</td>\n",
       "      <td>97</td>\n",
       "    </tr>\n",
       "  </tbody>\n",
       "</table>\n",
       "<p>1270788 rows × 40 columns</p>\n",
       "</div>"
      ],
      "text/plain": [
       "        FECHA_ACTUALIZACION ID_REGISTRO  ORIGEN  SECTOR  ENTIDAD_UM  SEXO  \\\n",
       "0                2020-12-20      002371       1       4           3     2   \n",
       "1                2020-12-20      11fb00       1      12           9     2   \n",
       "2                2020-12-20      092521       1      12           9     1   \n",
       "3                2020-12-20      0955a5       2      12           6     1   \n",
       "4                2020-12-20      1a1f12       2       4          14     2   \n",
       "...                     ...         ...     ...     ...         ...   ...   \n",
       "1270783          2020-12-20      407471       2      12           9     1   \n",
       "1270784          2020-12-20      3790a4       2      12           9     2   \n",
       "1270785          2020-12-20      39df30       2      12           9     2   \n",
       "1270786          2020-12-20      21ca50       1      12           9     1   \n",
       "1270787          2020-12-20      365280       1      12           9     2   \n",
       "\n",
       "         ENTIDAD_NAC  ENTIDAD_RES  MUNICIPIO_RES  TIPO_PACIENTE  ...  \\\n",
       "0                  3            3              8              1  ...   \n",
       "1                  9            9             15              1  ...   \n",
       "2                  9            9             17              1  ...   \n",
       "3                 14            6             10              1  ...   \n",
       "4                  9           14             67              2  ...   \n",
       "...              ...          ...            ...            ...  ...   \n",
       "1270783            9            9              5              1  ...   \n",
       "1270784            9           15             58              1  ...   \n",
       "1270785            9            9              3              1  ...   \n",
       "1270786            9            9              4              1  ...   \n",
       "1270787            9            9             10              1  ...   \n",
       "\n",
       "        OTRO_CASO TOMA_MUESTRA_LAB RESULTADO_LAB  TOMA_MUESTRA_ANTIGENO  \\\n",
       "0              99                1             1                      2   \n",
       "1               1                1             1                      2   \n",
       "2               2                1             1                      2   \n",
       "3               2                1             1                      2   \n",
       "4               2                1             1                      2   \n",
       "...           ...              ...           ...                    ...   \n",
       "1270783         2                2            97                      1   \n",
       "1270784         1                2            97                      1   \n",
       "1270785         2                2            97                      1   \n",
       "1270786        99                2            97                      1   \n",
       "1270787         1                2            97                      1   \n",
       "\n",
       "         RESULTADO_ANTIGENO  CLASIFICACION_FINAL  MIGRANTE  PAIS_NACIONALIDAD  \\\n",
       "0                        97                    3        99            MÃ©xico   \n",
       "1                        97                    3        99            MÃ©xico   \n",
       "2                        97                    3        99            MÃ©xico   \n",
       "3                        97                    3        99            MÃ©xico   \n",
       "4                        97                    3        99            MÃ©xico   \n",
       "...                     ...                  ...       ...                ...   \n",
       "1270783                   1                    3        99            MÃ©xico   \n",
       "1270784                   1                    3        99            MÃ©xico   \n",
       "1270785                   1                    3        99            MÃ©xico   \n",
       "1270786                   1                    3        99            MÃ©xico   \n",
       "1270787                   1                    3        99            MÃ©xico   \n",
       "\n",
       "         PAIS_ORIGEN  UCI  \n",
       "0                 97   97  \n",
       "1                 97   97  \n",
       "2                 97   97  \n",
       "3                 97   97  \n",
       "4                 97    2  \n",
       "...              ...  ...  \n",
       "1270783           97   97  \n",
       "1270784           97   97  \n",
       "1270785           97   97  \n",
       "1270786           97   97  \n",
       "1270787           97   97  \n",
       "\n",
       "[1270788 rows x 40 columns]"
      ]
     },
     "execution_count": 36,
     "metadata": {},
     "output_type": "execute_result"
    }
   ],
   "source": [
    "df_confirmados"
   ]
  },
  {
   "cell_type": "markdown",
   "metadata": {},
   "source": [
    "# Datos interesantes pero no necesarios para el proyecto de ML"
   ]
  },
  {
   "cell_type": "code",
   "execution_count": 8,
   "metadata": {},
   "outputs": [
    {
     "name": "stdout",
     "output_type": "stream",
     "text": [
      "Hay 113152 muertos.\n"
     ]
    }
   ],
   "source": [
    "muertos = 0\n",
    "for a in df_confirmados.loc[:,'FECHA_DEF']:\n",
    "    if a != '9999-99-99':\n",
    "        muertos = muertos + 1\n",
    "print('Hay',muertos,'muertos.')"
   ]
  },
  {
   "cell_type": "code",
   "execution_count": 9,
   "metadata": {},
   "outputs": [
    {
     "name": "stdout",
     "output_type": "stream",
     "text": [
      "De las 1270788 gente contagiada hay \n",
      " 627817 mujeres \n",
      " 642971 hombres \n",
      " 0 no especificados.\n",
      "CPU times: user 362 ms, sys: 6.77 ms, total: 368 ms\n",
      "Wall time: 449 ms\n"
     ]
    }
   ],
   "source": [
    "%%time\n",
    "hom = 0\n",
    "muj = 0\n",
    "noid = 0\n",
    "#aqui se puede hacer con count_values()\n",
    "\n",
    "for a in df_confirmados.loc[:,'SEXO']:\n",
    "    if a == 1:\n",
    "        muj = muj + 1\n",
    "    if a == 2:\n",
    "        hom = hom + 1\n",
    "    else:\n",
    "        noid = noid + 0\n",
    "print('De las', confirmados,'gente contagiada hay \\n', muj, 'mujeres \\n',hom,'hombres \\n',noid,'no especificados.')"
   ]
  },
  {
   "cell_type": "code",
   "execution_count": 10,
   "metadata": {},
   "outputs": [
    {
     "name": "stdout",
     "output_type": "stream",
     "text": [
      "Y de los 113152  muertos son \n",
      " 41382 mujeres \n",
      " 71770 hombres\n",
      "CPU times: user 1min 9s, sys: 478 ms, total: 1min 10s\n",
      "Wall time: 1min 13s\n"
     ]
    }
   ],
   "source": [
    "%%time\n",
    "hom = 0\n",
    "muj = 0\n",
    "noid = 0\n",
    "for a in range(len(df_confirmados.loc[:,'SEXO'])):\n",
    "    if df_confirmados.loc[a,'SEXO'] == 1 and df_confirmados.loc[a,'FECHA_DEF'] != '9999-99-99':\n",
    "        muj = muj + 1\n",
    "    if df_confirmados.loc[a,'SEXO'] == 2 and df_confirmados.loc[a,'FECHA_DEF'] != '9999-99-99':\n",
    "        hom = hom + 1\n",
    "print('Y de los',muertos,' muertos son \\n', muj, 'mujeres \\n',hom,'hombres')"
   ]
  },
  {
   "cell_type": "code",
   "execution_count": 11,
   "metadata": {},
   "outputs": [
    {
     "name": "stdout",
     "output_type": "stream",
     "text": [
      "De las 113152 personas muertas, 43713 tenian Diabetes.\n",
      "CPU times: user 25.5 s, sys: 125 ms, total: 25.6 s\n",
      "Wall time: 26.1 s\n"
     ]
    }
   ],
   "source": [
    "%%time\n",
    "diab = 0\n",
    "for a in range(len(df_confirmados.loc[:,'DIABETES'])):\n",
    "    if df_confirmados.loc[a,'DIABETES'] == 1 and df_confirmados.loc[a,'FECHA_DEF'] != '9999-99-99':\n",
    "        diab = diab + 1\n",
    "print('De las',muertos,'personas muertas,', diab, 'tenian Diabetes.')"
   ]
  },
  {
   "cell_type": "code",
   "execution_count": 12,
   "metadata": {},
   "outputs": [
    {
     "name": "stdout",
     "output_type": "stream",
     "text": [
      "De las 113152 personas muertas, 52103 tenian Hipertensión.\n",
      "CPU times: user 25.5 s, sys: 77.4 ms, total: 25.5 s\n",
      "Wall time: 25.6 s\n"
     ]
    }
   ],
   "source": [
    "%%time\n",
    "hiper = 0\n",
    "for a in range(len(df_confirmados.loc[:,'DIABETES'])):\n",
    "    if df_confirmados.loc[a,'HIPERTENSION'] == 1 and df_confirmados.loc[a,'FECHA_DEF'] != '9999-99-99':\n",
    "        hiper = hiper + 1\n",
    "print('De las',muertos,'personas muertas,', hiper, 'tenian Hipertensión.')"
   ]
  },
  {
   "cell_type": "code",
   "execution_count": 13,
   "metadata": {},
   "outputs": [
    {
     "name": "stdout",
     "output_type": "stream",
     "text": [
      "De las 113152 personas muertas, 6063 tenian Cardiobascular.\n",
      "CPU times: user 23 s, sys: 170 ms, total: 23.2 s\n",
      "Wall time: 24.4 s\n"
     ]
    }
   ],
   "source": [
    "%%time\n",
    "cardio = 0\n",
    "for a in range(len(df_confirmados.loc[:,'CARDIOVASCULAR'])):\n",
    "    if df_confirmados.loc[a,'CARDIOVASCULAR'] == 1 and df_confirmados.loc[a,'FECHA_DEF'] != '9999-99-99':\n",
    "        cardio = cardio + 1\n",
    "print('De las',muertos,'personas muertas,', cardio, 'tenian Cardiobascular.')"
   ]
  },
  {
   "cell_type": "code",
   "execution_count": 14,
   "metadata": {},
   "outputs": [
    {
     "name": "stdout",
     "output_type": "stream",
     "text": [
      "De las 113152 personas muertas, 28718 tenian Hipertensión y Diabetes.\n"
     ]
    }
   ],
   "source": [
    "hiperdiab = 0\n",
    "for a in range(len(df_confirmados.loc[:,'DIABETES'])):\n",
    "    if df_confirmados.loc[a,'HIPERTENSION'] == 1 and df_confirmados.loc[a,'DIABETES'] == 1 and df_confirmados.loc[a,'FECHA_DEF'] != '9999-99-99':\n",
    "        hiperdiab  = hiperdiab  + 1\n",
    "print('De las',muertos,'personas muertas,', hiperdiab, 'tenian Hipertensión y Diabetes.')"
   ]
  },
  {
   "cell_type": "code",
   "execution_count": 15,
   "metadata": {},
   "outputs": [
    {
     "name": "stdout",
     "output_type": "stream",
     "text": [
      "De las 113152 personas muertas, 9089 fumaban.\n",
      "CPU times: user 23.7 s, sys: 101 ms, total: 23.8 s\n",
      "Wall time: 24.1 s\n"
     ]
    }
   ],
   "source": [
    "%%time\n",
    "fumaban = 0\n",
    "for a in range(len(df_confirmados.loc[:,'DIABETES'])):\n",
    "    if df_confirmados.loc[a,'TABAQUISMO'] == 1 and df_confirmados.loc[a,'FECHA_DEF'] != '9999-99-99':\n",
    "        fumaban  = fumaban  + 1\n",
    "print('De las',muertos,'personas muertas,', fumaban, 'fumaban.')"
   ]
  },
  {
   "cell_type": "code",
   "execution_count": 16,
   "metadata": {},
   "outputs": [
    {
     "name": "stdout",
     "output_type": "stream",
     "text": [
      "De las 113152 personas muertas, 26879 eran obesas.\n",
      "CPU times: user 27.9 s, sys: 381 ms, total: 28.3 s\n",
      "Wall time: 30 s\n"
     ]
    }
   ],
   "source": [
    "%%time\n",
    "obeso = 0\n",
    "for a in range(len(df_confirmados.loc[:,'DIABETES'])):\n",
    "    if df_confirmados.loc[a,'OBESIDAD'] == 1 and df_confirmados.loc[a,'FECHA_DEF'] != '9999-99-99':\n",
    "        obeso  = obeso  + 1\n",
    "print('De las',muertos,'personas muertas,', obeso, 'eran obesas.')"
   ]
  },
  {
   "cell_type": "code",
   "execution_count": 17,
   "metadata": {},
   "outputs": [
    {
     "name": "stdout",
     "output_type": "stream",
     "text": [
      "38.63 % de personas muertas tenían Diabetes,\n",
      " 46.05 % de personas muertas tenían Hipertensión, \n",
      " 25.38 % de personas muertas tenían Hipertensión y Diabetes, \n",
      " 23.75 % de personas muertas eran obesos. \n",
      " 5.36 % de personas muertas eran cardio. \n",
      " 8.03 % de personas muertas fumaban. \n",
      "\n"
     ]
    }
   ],
   "source": [
    "print(round(diab/muertos*100,2),'% de personas muertas tenían Diabetes,\\n',\n",
    "      round(hiper/muertos*100,2),'% de personas muertas tenían Hipertensión, \\n',\n",
    "     round(hiperdiab/muertos*100,2),'% de personas muertas tenían Hipertensión y Diabetes, \\n',\n",
    "     round(obeso/muertos*100,2),'% de personas muertas eran obesos. \\n',\n",
    "      round(cardio/muertos*100,2),'% de personas muertas eran cardio. \\n',\n",
    "        round(fumaban/muertos*100,2),'% de personas muertas fumaban. \\n')"
   ]
  },
  {
   "cell_type": "markdown",
   "metadata": {},
   "source": [
    "### Infectados por edad"
   ]
  },
  {
   "cell_type": "code",
   "execution_count": 99,
   "metadata": {},
   "outputs": [
    {
     "name": "stdout",
     "output_type": "stream",
     "text": [
      "CPU times: user 407 ms, sys: 5.98 ms, total: 413 ms\n",
      "Wall time: 432 ms\n"
     ]
    },
    {
     "data": {
      "text/html": [
       "<div>\n",
       "<style scoped>\n",
       "    .dataframe tbody tr th:only-of-type {\n",
       "        vertical-align: middle;\n",
       "    }\n",
       "\n",
       "    .dataframe tbody tr th {\n",
       "        vertical-align: top;\n",
       "    }\n",
       "\n",
       "    .dataframe thead th {\n",
       "        text-align: right;\n",
       "    }\n",
       "</style>\n",
       "<table border=\"1\" class=\"dataframe\">\n",
       "  <thead>\n",
       "    <tr style=\"text-align: right;\">\n",
       "      <th></th>\n",
       "      <th>Edad</th>\n",
       "      <th>No.Infectados</th>\n",
       "    </tr>\n",
       "  </thead>\n",
       "  <tbody>\n",
       "    <tr>\n",
       "      <th>0</th>\n",
       "      <td>0</td>\n",
       "      <td>2419</td>\n",
       "    </tr>\n",
       "    <tr>\n",
       "      <th>1</th>\n",
       "      <td>1</td>\n",
       "      <td>1435</td>\n",
       "    </tr>\n",
       "    <tr>\n",
       "      <th>2</th>\n",
       "      <td>2</td>\n",
       "      <td>1058</td>\n",
       "    </tr>\n",
       "    <tr>\n",
       "      <th>3</th>\n",
       "      <td>3</td>\n",
       "      <td>1005</td>\n",
       "    </tr>\n",
       "    <tr>\n",
       "      <th>4</th>\n",
       "      <td>4</td>\n",
       "      <td>1065</td>\n",
       "    </tr>\n",
       "    <tr>\n",
       "      <th>...</th>\n",
       "      <td>...</td>\n",
       "      <td>...</td>\n",
       "    </tr>\n",
       "    <tr>\n",
       "      <th>113</th>\n",
       "      <td>114</td>\n",
       "      <td>3</td>\n",
       "    </tr>\n",
       "    <tr>\n",
       "      <th>114</th>\n",
       "      <td>115</td>\n",
       "      <td>5</td>\n",
       "    </tr>\n",
       "    <tr>\n",
       "      <th>115</th>\n",
       "      <td>116</td>\n",
       "      <td>2</td>\n",
       "    </tr>\n",
       "    <tr>\n",
       "      <th>116</th>\n",
       "      <td>118</td>\n",
       "      <td>6</td>\n",
       "    </tr>\n",
       "    <tr>\n",
       "      <th>117</th>\n",
       "      <td>120</td>\n",
       "      <td>5</td>\n",
       "    </tr>\n",
       "  </tbody>\n",
       "</table>\n",
       "<p>118 rows × 2 columns</p>\n",
       "</div>"
      ],
      "text/plain": [
       "     Edad  No.Infectados\n",
       "0       0           2419\n",
       "1       1           1435\n",
       "2       2           1058\n",
       "3       3           1005\n",
       "4       4           1065\n",
       "..    ...            ...\n",
       "113   114              3\n",
       "114   115              5\n",
       "115   116              2\n",
       "116   118              6\n",
       "117   120              5\n",
       "\n",
       "[118 rows x 2 columns]"
      ]
     },
     "execution_count": 99,
     "metadata": {},
     "output_type": "execute_result"
    }
   ],
   "source": [
    "%%time\n",
    "countedades = 0\n",
    "dictedades = dict()\n",
    "for a in df_confirmados.loc[:,'EDAD']:  \n",
    "    dictedades[a] = dictedades.get(a,0) + 1\n",
    "    \n",
    "lst = list()\n",
    "for (k,v) in dictedades.items():\n",
    "    newtup = (k,v)\n",
    "    lst.append(newtup)\n",
    "lstedades = sorted(lst)\n",
    "#print(lst)\n",
    "\n",
    "#for v,k in lstmuert:\n",
    " #   print(v,k)\n",
    "edad_inf = pd.DataFrame(lstedades).rename(columns={0: \"Edad\", 1: \"No.Infectados\"})\n",
    "edad_inf"
   ]
  },
  {
   "cell_type": "code",
   "execution_count": 180,
   "metadata": {},
   "outputs": [
    {
     "data": {
      "text/html": [
       "<div>\n",
       "<style scoped>\n",
       "    .dataframe tbody tr th:only-of-type {\n",
       "        vertical-align: middle;\n",
       "    }\n",
       "\n",
       "    .dataframe tbody tr th {\n",
       "        vertical-align: top;\n",
       "    }\n",
       "\n",
       "    .dataframe thead th {\n",
       "        text-align: right;\n",
       "    }\n",
       "</style>\n",
       "<table border=\"1\" class=\"dataframe\">\n",
       "  <thead>\n",
       "    <tr style=\"text-align: right;\">\n",
       "      <th></th>\n",
       "      <th>Edad</th>\n",
       "      <th>No.Infectados</th>\n",
       "    </tr>\n",
       "  </thead>\n",
       "  <tbody>\n",
       "    <tr>\n",
       "      <th>count</th>\n",
       "      <td>118.000000</td>\n",
       "      <td>118.000000</td>\n",
       "    </tr>\n",
       "    <tr>\n",
       "      <th>mean</th>\n",
       "      <td>58.584746</td>\n",
       "      <td>10769.389831</td>\n",
       "    </tr>\n",
       "    <tr>\n",
       "      <th>std</th>\n",
       "      <td>34.350214</td>\n",
       "      <td>10820.243845</td>\n",
       "    </tr>\n",
       "    <tr>\n",
       "      <th>min</th>\n",
       "      <td>0.000000</td>\n",
       "      <td>2.000000</td>\n",
       "    </tr>\n",
       "    <tr>\n",
       "      <th>25%</th>\n",
       "      <td>29.250000</td>\n",
       "      <td>1071.750000</td>\n",
       "    </tr>\n",
       "    <tr>\n",
       "      <th>50%</th>\n",
       "      <td>58.500000</td>\n",
       "      <td>5842.500000</td>\n",
       "    </tr>\n",
       "    <tr>\n",
       "      <th>75%</th>\n",
       "      <td>87.750000</td>\n",
       "      <td>21782.250000</td>\n",
       "    </tr>\n",
       "    <tr>\n",
       "      <th>max</th>\n",
       "      <td>120.000000</td>\n",
       "      <td>29681.000000</td>\n",
       "    </tr>\n",
       "  </tbody>\n",
       "</table>\n",
       "</div>"
      ],
      "text/plain": [
       "             Edad  No.Infectados\n",
       "count  118.000000     118.000000\n",
       "mean    58.584746   10769.389831\n",
       "std     34.350214   10820.243845\n",
       "min      0.000000       2.000000\n",
       "25%     29.250000    1071.750000\n",
       "50%     58.500000    5842.500000\n",
       "75%     87.750000   21782.250000\n",
       "max    120.000000   29681.000000"
      ]
     },
     "execution_count": 180,
     "metadata": {},
     "output_type": "execute_result"
    }
   ],
   "source": [
    "edad_inf.describe()"
   ]
  },
  {
   "cell_type": "markdown",
   "metadata": {},
   "source": [
    "### Muertos por edad"
   ]
  },
  {
   "cell_type": "code",
   "execution_count": 97,
   "metadata": {},
   "outputs": [
    {
     "name": "stdout",
     "output_type": "stream",
     "text": [
      "CPU times: user 27.3 s, sys: 301 ms, total: 27.6 s\n",
      "Wall time: 29.9 s\n"
     ]
    },
    {
     "data": {
      "text/html": [
       "<div>\n",
       "<style scoped>\n",
       "    .dataframe tbody tr th:only-of-type {\n",
       "        vertical-align: middle;\n",
       "    }\n",
       "\n",
       "    .dataframe tbody tr th {\n",
       "        vertical-align: top;\n",
       "    }\n",
       "\n",
       "    .dataframe thead th {\n",
       "        text-align: right;\n",
       "    }\n",
       "</style>\n",
       "<table border=\"1\" class=\"dataframe\">\n",
       "  <thead>\n",
       "    <tr style=\"text-align: right;\">\n",
       "      <th></th>\n",
       "      <th>Edad</th>\n",
       "      <th>No.Muertos</th>\n",
       "    </tr>\n",
       "  </thead>\n",
       "  <tbody>\n",
       "    <tr>\n",
       "      <th>0</th>\n",
       "      <td>0</td>\n",
       "      <td>118</td>\n",
       "    </tr>\n",
       "    <tr>\n",
       "      <th>1</th>\n",
       "      <td>1</td>\n",
       "      <td>62</td>\n",
       "    </tr>\n",
       "    <tr>\n",
       "      <th>2</th>\n",
       "      <td>2</td>\n",
       "      <td>17</td>\n",
       "    </tr>\n",
       "    <tr>\n",
       "      <th>3</th>\n",
       "      <td>3</td>\n",
       "      <td>14</td>\n",
       "    </tr>\n",
       "    <tr>\n",
       "      <th>4</th>\n",
       "      <td>4</td>\n",
       "      <td>6</td>\n",
       "    </tr>\n",
       "    <tr>\n",
       "      <th>...</th>\n",
       "      <td>...</td>\n",
       "      <td>...</td>\n",
       "    </tr>\n",
       "    <tr>\n",
       "      <th>101</th>\n",
       "      <td>101</td>\n",
       "      <td>6</td>\n",
       "    </tr>\n",
       "    <tr>\n",
       "      <th>102</th>\n",
       "      <td>102</td>\n",
       "      <td>4</td>\n",
       "    </tr>\n",
       "    <tr>\n",
       "      <th>103</th>\n",
       "      <td>103</td>\n",
       "      <td>3</td>\n",
       "    </tr>\n",
       "    <tr>\n",
       "      <th>104</th>\n",
       "      <td>106</td>\n",
       "      <td>1</td>\n",
       "    </tr>\n",
       "    <tr>\n",
       "      <th>105</th>\n",
       "      <td>108</td>\n",
       "      <td>1</td>\n",
       "    </tr>\n",
       "  </tbody>\n",
       "</table>\n",
       "<p>106 rows × 2 columns</p>\n",
       "</div>"
      ],
      "text/plain": [
       "     Edad  No.Muertos\n",
       "0       0         118\n",
       "1       1          62\n",
       "2       2          17\n",
       "3       3          14\n",
       "4       4           6\n",
       "..    ...         ...\n",
       "101   101           6\n",
       "102   102           4\n",
       "103   103           3\n",
       "104   106           1\n",
       "105   108           1\n",
       "\n",
       "[106 rows x 2 columns]"
      ]
     },
     "execution_count": 97,
     "metadata": {},
     "output_type": "execute_result"
    }
   ],
   "source": [
    "%%time\n",
    "\n",
    "dictmuertedad = dict()\n",
    "for a in range(len(df_confirmados.loc[:,'DIABETES'])):\n",
    "    if df_confirmados.loc[a,'FECHA_DEF'] != '9999-99-99':\n",
    "        b = df_confirmados.loc[a,'EDAD']\n",
    "        dictmuertedad[b] = dictmuertedad.get(b,0) + 1\n",
    "\n",
    "lst = list()\n",
    "for (k,v) in dictmuertedad.items():\n",
    "    newtup = (k,v)\n",
    "    lst.append(newtup)\n",
    "lstmuertedad = sorted(lst)\n",
    "#print(lst)\n",
    "\n",
    "#for v,k in lstmuert:\n",
    " #   print(v,k)\n",
    "edad_muert = pd.DataFrame(lstmuertedad).rename(columns={0: \"Edad\", 1: \"No.Muertos\"})\n",
    "edad_muert  "
   ]
  },
  {
   "cell_type": "code",
   "execution_count": 98,
   "metadata": {},
   "outputs": [
    {
     "data": {
      "text/html": [
       "<div>\n",
       "<style scoped>\n",
       "    .dataframe tbody tr th:only-of-type {\n",
       "        vertical-align: middle;\n",
       "    }\n",
       "\n",
       "    .dataframe tbody tr th {\n",
       "        vertical-align: top;\n",
       "    }\n",
       "\n",
       "    .dataframe thead th {\n",
       "        text-align: right;\n",
       "    }\n",
       "</style>\n",
       "<table border=\"1\" class=\"dataframe\">\n",
       "  <thead>\n",
       "    <tr style=\"text-align: right;\">\n",
       "      <th></th>\n",
       "      <th>Edad</th>\n",
       "      <th>No.Muertos</th>\n",
       "    </tr>\n",
       "  </thead>\n",
       "  <tbody>\n",
       "    <tr>\n",
       "      <th>0</th>\n",
       "      <td>0</td>\n",
       "      <td>118</td>\n",
       "    </tr>\n",
       "    <tr>\n",
       "      <th>1</th>\n",
       "      <td>1</td>\n",
       "      <td>62</td>\n",
       "    </tr>\n",
       "    <tr>\n",
       "      <th>2</th>\n",
       "      <td>2</td>\n",
       "      <td>17</td>\n",
       "    </tr>\n",
       "    <tr>\n",
       "      <th>3</th>\n",
       "      <td>3</td>\n",
       "      <td>14</td>\n",
       "    </tr>\n",
       "    <tr>\n",
       "      <th>4</th>\n",
       "      <td>4</td>\n",
       "      <td>6</td>\n",
       "    </tr>\n",
       "  </tbody>\n",
       "</table>\n",
       "</div>"
      ],
      "text/plain": [
       "   Edad  No.Muertos\n",
       "0     0         118\n",
       "1     1          62\n",
       "2     2          17\n",
       "3     3          14\n",
       "4     4           6"
      ]
     },
     "execution_count": 98,
     "metadata": {},
     "output_type": "execute_result"
    }
   ],
   "source": [
    "edad_muert.head()"
   ]
  },
  {
   "cell_type": "code",
   "execution_count": 152,
   "metadata": {},
   "outputs": [
    {
     "name": "stdout",
     "output_type": "stream",
     "text": [
      "CPU times: user 2min 33s, sys: 911 ms, total: 2min 34s\n",
      "Wall time: 2min 39s\n"
     ]
    }
   ],
   "source": [
    "%%time\n",
    "\n",
    "freqdict1m = {}\n",
    "freqdict2m = {}\n",
    "freqdict3m = {}\n",
    "freqdict4m = {}\n",
    "\n",
    "freqdict1h = {}\n",
    "freqdict2h = {}\n",
    "freqdict3h = {}\n",
    "freqdict4h = {}\n",
    "\n",
    "dictinfectados= dict()\n",
    "for a in range(len(df_confirmados.loc[:,'SEXO'])):\n",
    "    if df_confirmados.loc[a,'SEXO'] == 1:\n",
    "        if df_confirmados.loc[a,'EDAD']<20:\n",
    "            b = df_confirmados.loc[a,'FECHA_INGRESO']\n",
    "            freqdict1m[b] = freqdict1m.get(b,0) + 1\n",
    "        if 20<= df_confirmados.loc[a,'EDAD'] < 40:\n",
    "            b = df_confirmados.loc[a,'FECHA_INGRESO']\n",
    "            freqdict2m[b] = freqdict2m.get(b,0) + 1\n",
    "        if 40 <= df_confirmados.loc[a,'EDAD'] < 60:\n",
    "            b = df_confirmados.loc[a,'FECHA_INGRESO']\n",
    "            freqdict3m[b] = freqdict3m.get(b,0) + 1\n",
    "        else:\n",
    "            b = df_confirmados.loc[a,'FECHA_INGRESO']\n",
    "            freqdict4m[b] = freqdict4m.get(b,0) + 1\n",
    "    if df_confirmados.loc[a,'SEXO'] == 2:\n",
    "        if df_confirmados.loc[a,'EDAD']<20:\n",
    "            b = df_confirmados.loc[a,'FECHA_INGRESO']\n",
    "            freqdict1h[b] = freqdict1h.get(b,0) + 1\n",
    "        if 20<= df_confirmados.loc[a,'EDAD'] < 40:\n",
    "            b = df_confirmados.loc[a,'FECHA_INGRESO']\n",
    "            freqdict2h[b] = freqdict2h.get(b,0) + 1\n",
    "        if 40 <= df_confirmados.loc[a,'EDAD'] < 60:\n",
    "            b = df_confirmados.loc[a,'FECHA_INGRESO']\n",
    "            freqdict3h[b] = freqdict3h.get(b,0) + 1\n",
    "        else:\n",
    "            b = df_confirmados.loc[a,'FECHA_INGRESO']\n",
    "            freqdict4h[b] = freqdict4h.get(b,0) + 1     "
   ]
  },
  {
   "cell_type": "code",
   "execution_count": 160,
   "metadata": {},
   "outputs": [],
   "source": [
    "lst = list()\n",
    "for (k,v) in freqdict4h.items():\n",
    "    newtup = (k,v)\n",
    "    lst.append(newtup)\n",
    "freqdict4h = sorted(lst)"
   ]
  },
  {
   "cell_type": "code",
   "execution_count": 166,
   "metadata": {},
   "outputs": [
    {
     "data": {
      "text/html": [
       "<div>\n",
       "<style scoped>\n",
       "    .dataframe tbody tr th:only-of-type {\n",
       "        vertical-align: middle;\n",
       "    }\n",
       "\n",
       "    .dataframe tbody tr th {\n",
       "        vertical-align: top;\n",
       "    }\n",
       "\n",
       "    .dataframe thead th {\n",
       "        text-align: right;\n",
       "    }\n",
       "</style>\n",
       "<table border=\"1\" class=\"dataframe\">\n",
       "  <thead>\n",
       "    <tr style=\"text-align: right;\">\n",
       "      <th></th>\n",
       "      <th>0</th>\n",
       "      <th>1</th>\n",
       "    </tr>\n",
       "  </thead>\n",
       "  <tbody>\n",
       "    <tr>\n",
       "      <th>0</th>\n",
       "      <td>2020-01-28</td>\n",
       "      <td>1</td>\n",
       "    </tr>\n",
       "    <tr>\n",
       "      <th>1</th>\n",
       "      <td>2020-02-24</td>\n",
       "      <td>1</td>\n",
       "    </tr>\n",
       "    <tr>\n",
       "      <th>2</th>\n",
       "      <td>2020-02-27</td>\n",
       "      <td>2</td>\n",
       "    </tr>\n",
       "    <tr>\n",
       "      <th>3</th>\n",
       "      <td>2020-02-28</td>\n",
       "      <td>1</td>\n",
       "    </tr>\n",
       "    <tr>\n",
       "      <th>4</th>\n",
       "      <td>2020-03-05</td>\n",
       "      <td>1</td>\n",
       "    </tr>\n",
       "    <tr>\n",
       "      <th>...</th>\n",
       "      <td>...</td>\n",
       "      <td>...</td>\n",
       "    </tr>\n",
       "    <tr>\n",
       "      <th>286</th>\n",
       "      <td>2020-12-15</td>\n",
       "      <td>1560</td>\n",
       "    </tr>\n",
       "    <tr>\n",
       "      <th>287</th>\n",
       "      <td>2020-12-16</td>\n",
       "      <td>1204</td>\n",
       "    </tr>\n",
       "    <tr>\n",
       "      <th>288</th>\n",
       "      <td>2020-12-17</td>\n",
       "      <td>978</td>\n",
       "    </tr>\n",
       "    <tr>\n",
       "      <th>289</th>\n",
       "      <td>2020-12-18</td>\n",
       "      <td>680</td>\n",
       "    </tr>\n",
       "    <tr>\n",
       "      <th>290</th>\n",
       "      <td>2020-12-19</td>\n",
       "      <td>190</td>\n",
       "    </tr>\n",
       "  </tbody>\n",
       "</table>\n",
       "<p>291 rows × 2 columns</p>\n",
       "</div>"
      ],
      "text/plain": [
       "              0     1\n",
       "0    2020-01-28     1\n",
       "1    2020-02-24     1\n",
       "2    2020-02-27     2\n",
       "3    2020-02-28     1\n",
       "4    2020-03-05     1\n",
       "..          ...   ...\n",
       "286  2020-12-15  1560\n",
       "287  2020-12-16  1204\n",
       "288  2020-12-17   978\n",
       "289  2020-12-18   680\n",
       "290  2020-12-19   190\n",
       "\n",
       "[291 rows x 2 columns]"
      ]
     },
     "execution_count": 166,
     "metadata": {},
     "output_type": "execute_result"
    }
   ],
   "source": [
    "freqlst1m = pd.DataFrame(freqdict1m)\n",
    "freqlst2m = pd.DataFrame(freqdict2m)\n",
    "freqlst3m = pd.DataFrame(freqdict3m)\n",
    "freqlst4m = pd.DataFrame(freqdict4m)\n",
    "freqlst1h = pd.DataFrame(freqdict1h)\n",
    "freqlst2h = pd.DataFrame(freqdict2h)\n",
    "freqlst3h = pd.DataFrame(freqdict3h)\n",
    "freqlst4h = pd.DataFrame(freqdict4h)\n",
    "freqlst3h"
   ]
  },
  {
   "cell_type": "code",
   "execution_count": 186,
   "metadata": {
    "scrolled": true
   },
   "outputs": [
    {
     "name": "stdout",
     "output_type": "stream",
     "text": [
      "count     290.000000\n",
      "mean      870.558621\n",
      "std       637.905080\n",
      "min         1.000000\n",
      "25%       312.000000\n",
      "50%       800.000000\n",
      "75%      1385.500000\n",
      "max      2491.000000\n",
      "Name: 1, dtype: float64\n",
      "count     289.000000\n",
      "mean      840.439446\n",
      "std       581.836201\n",
      "min         1.000000\n",
      "25%       323.000000\n",
      "50%       852.000000\n",
      "75%      1293.000000\n",
      "max      2240.000000\n",
      "Name: 1, dtype: float64\n"
     ]
    }
   ],
   "source": [
    "print(freqlst2m.describe()[1])\n",
    "print(freqlst2h.describe()[1])"
   ]
  },
  {
   "cell_type": "code",
   "execution_count": 215,
   "metadata": {},
   "outputs": [
    {
     "name": "stdout",
     "output_type": "stream",
     "text": [
      "291 1 290\n"
     ]
    }
   ],
   "source": [
    "lst = []\n",
    "vdd = 0\n",
    "fls = 0\n",
    "\n",
    "for a in range(len(freqlst3h[0])):\n",
    "    if freqlst3h[0][a] in df_confirmados.loc[a,'FECHA_INGRESO']:\n",
    "        lst.append('True')\n",
    "        vdd = vdd + 1\n",
    "    else:\n",
    "        lst.append('False')\n",
    "        fls = fls + 1\n",
    "print(len(lst),vdd,fls)    "
   ]
  },
  {
   "cell_type": "code",
   "execution_count": 199,
   "metadata": {},
   "outputs": [],
   "source": [
    "for a in df_confirmados.loc[:,'FECHA_INGRESO']:\n",
    "    if a in freqlst2h[0]:\n",
    "        print('True')"
   ]
  },
  {
   "cell_type": "code",
   "execution_count": 203,
   "metadata": {},
   "outputs": [
    {
     "data": {
      "text/plain": [
       "0          False\n",
       "1          False\n",
       "2          False\n",
       "3          False\n",
       "4          False\n",
       "           ...  \n",
       "1270783    False\n",
       "1270784    False\n",
       "1270785    False\n",
       "1270786    False\n",
       "1270787    False\n",
       "Name: FECHA_INGRESO, Length: 1270788, dtype: bool"
      ]
     },
     "execution_count": 203,
     "metadata": {},
     "output_type": "execute_result"
    }
   ],
   "source": [
    "freqlst2h[0][1] == df_confirmados.loc[:,'FECHA_INGRESO']"
   ]
  },
  {
   "cell_type": "markdown",
   "metadata": {},
   "source": [
    "## Libreria de estadística"
   ]
  },
  {
   "cell_type": "code",
   "execution_count": 168,
   "metadata": {},
   "outputs": [
    {
     "ename": "TypeError",
     "evalue": "'<' not supported between instances of 'int' and 'str'",
     "output_type": "error",
     "traceback": [
      "\u001b[0;31m---------------------------------------------------------------------------\u001b[0m",
      "\u001b[0;31mTypeError\u001b[0m                                 Traceback (most recent call last)",
      "\u001b[0;32m<ipython-input-168-f9d1c93aba27>\u001b[0m in \u001b[0;36m<module>\u001b[0;34m\u001b[0m\n\u001b[0;32m----> 1\u001b[0;31m \u001b[0mstats\u001b[0m\u001b[0;34m.\u001b[0m\u001b[0mitemfreq\u001b[0m\u001b[0;34m(\u001b[0m\u001b[0mfreqlst4m\u001b[0m\u001b[0;34m)\u001b[0m\u001b[0;34m\u001b[0m\u001b[0;34m\u001b[0m\u001b[0m\n\u001b[0m",
      "\u001b[0;32m~/opt/anaconda3/lib/python3.8/site-packages/numpy/lib/utils.py\u001b[0m in \u001b[0;36mnewfunc\u001b[0;34m(*args, **kwds)\u001b[0m\n\u001b[1;32m     99\u001b[0m             \u001b[0;34m\"\"\"`arrayrange` is deprecated, use `arange` instead!\"\"\"\u001b[0m\u001b[0;34m\u001b[0m\u001b[0;34m\u001b[0m\u001b[0m\n\u001b[1;32m    100\u001b[0m             \u001b[0mwarnings\u001b[0m\u001b[0;34m.\u001b[0m\u001b[0mwarn\u001b[0m\u001b[0;34m(\u001b[0m\u001b[0mdepdoc\u001b[0m\u001b[0;34m,\u001b[0m \u001b[0mDeprecationWarning\u001b[0m\u001b[0;34m,\u001b[0m \u001b[0mstacklevel\u001b[0m\u001b[0;34m=\u001b[0m\u001b[0;36m2\u001b[0m\u001b[0;34m)\u001b[0m\u001b[0;34m\u001b[0m\u001b[0;34m\u001b[0m\u001b[0m\n\u001b[0;32m--> 101\u001b[0;31m             \u001b[0;32mreturn\u001b[0m \u001b[0mfunc\u001b[0m\u001b[0;34m(\u001b[0m\u001b[0;34m*\u001b[0m\u001b[0margs\u001b[0m\u001b[0;34m,\u001b[0m \u001b[0;34m**\u001b[0m\u001b[0mkwds\u001b[0m\u001b[0;34m)\u001b[0m\u001b[0;34m\u001b[0m\u001b[0;34m\u001b[0m\u001b[0m\n\u001b[0m\u001b[1;32m    102\u001b[0m \u001b[0;34m\u001b[0m\u001b[0m\n\u001b[1;32m    103\u001b[0m         \u001b[0mnewfunc\u001b[0m \u001b[0;34m=\u001b[0m \u001b[0m_set_function_name\u001b[0m\u001b[0;34m(\u001b[0m\u001b[0mnewfunc\u001b[0m\u001b[0;34m,\u001b[0m \u001b[0mold_name\u001b[0m\u001b[0;34m)\u001b[0m\u001b[0;34m\u001b[0m\u001b[0;34m\u001b[0m\u001b[0m\n",
      "\u001b[0;32m~/opt/anaconda3/lib/python3.8/site-packages/scipy/stats/stats.py\u001b[0m in \u001b[0;36mitemfreq\u001b[0;34m(a)\u001b[0m\n\u001b[1;32m   1811\u001b[0m        [ 0.5,  1. ]])\n\u001b[1;32m   1812\u001b[0m \"\"\"\n\u001b[0;32m-> 1813\u001b[0;31m     \u001b[0mitems\u001b[0m\u001b[0;34m,\u001b[0m \u001b[0minv\u001b[0m \u001b[0;34m=\u001b[0m \u001b[0mnp\u001b[0m\u001b[0;34m.\u001b[0m\u001b[0munique\u001b[0m\u001b[0;34m(\u001b[0m\u001b[0ma\u001b[0m\u001b[0;34m,\u001b[0m \u001b[0mreturn_inverse\u001b[0m\u001b[0;34m=\u001b[0m\u001b[0;32mTrue\u001b[0m\u001b[0;34m)\u001b[0m\u001b[0;34m\u001b[0m\u001b[0;34m\u001b[0m\u001b[0m\n\u001b[0m\u001b[1;32m   1814\u001b[0m     \u001b[0mfreq\u001b[0m \u001b[0;34m=\u001b[0m \u001b[0mnp\u001b[0m\u001b[0;34m.\u001b[0m\u001b[0mbincount\u001b[0m\u001b[0;34m(\u001b[0m\u001b[0minv\u001b[0m\u001b[0;34m)\u001b[0m\u001b[0;34m\u001b[0m\u001b[0;34m\u001b[0m\u001b[0m\n\u001b[1;32m   1815\u001b[0m     \u001b[0;32mreturn\u001b[0m \u001b[0mnp\u001b[0m\u001b[0;34m.\u001b[0m\u001b[0marray\u001b[0m\u001b[0;34m(\u001b[0m\u001b[0;34m[\u001b[0m\u001b[0mitems\u001b[0m\u001b[0;34m,\u001b[0m \u001b[0mfreq\u001b[0m\u001b[0;34m]\u001b[0m\u001b[0;34m)\u001b[0m\u001b[0;34m.\u001b[0m\u001b[0mT\u001b[0m\u001b[0;34m\u001b[0m\u001b[0;34m\u001b[0m\u001b[0m\n",
      "\u001b[0;32m<__array_function__ internals>\u001b[0m in \u001b[0;36munique\u001b[0;34m(*args, **kwargs)\u001b[0m\n",
      "\u001b[0;32m~/opt/anaconda3/lib/python3.8/site-packages/numpy/lib/arraysetops.py\u001b[0m in \u001b[0;36munique\u001b[0;34m(ar, return_index, return_inverse, return_counts, axis)\u001b[0m\n\u001b[1;32m    261\u001b[0m     \u001b[0mar\u001b[0m \u001b[0;34m=\u001b[0m \u001b[0mnp\u001b[0m\u001b[0;34m.\u001b[0m\u001b[0masanyarray\u001b[0m\u001b[0;34m(\u001b[0m\u001b[0mar\u001b[0m\u001b[0;34m)\u001b[0m\u001b[0;34m\u001b[0m\u001b[0;34m\u001b[0m\u001b[0m\n\u001b[1;32m    262\u001b[0m     \u001b[0;32mif\u001b[0m \u001b[0maxis\u001b[0m \u001b[0;32mis\u001b[0m \u001b[0;32mNone\u001b[0m\u001b[0;34m:\u001b[0m\u001b[0;34m\u001b[0m\u001b[0;34m\u001b[0m\u001b[0m\n\u001b[0;32m--> 263\u001b[0;31m         \u001b[0mret\u001b[0m \u001b[0;34m=\u001b[0m \u001b[0m_unique1d\u001b[0m\u001b[0;34m(\u001b[0m\u001b[0mar\u001b[0m\u001b[0;34m,\u001b[0m \u001b[0mreturn_index\u001b[0m\u001b[0;34m,\u001b[0m \u001b[0mreturn_inverse\u001b[0m\u001b[0;34m,\u001b[0m \u001b[0mreturn_counts\u001b[0m\u001b[0;34m)\u001b[0m\u001b[0;34m\u001b[0m\u001b[0;34m\u001b[0m\u001b[0m\n\u001b[0m\u001b[1;32m    264\u001b[0m         \u001b[0;32mreturn\u001b[0m \u001b[0m_unpack_tuple\u001b[0m\u001b[0;34m(\u001b[0m\u001b[0mret\u001b[0m\u001b[0;34m)\u001b[0m\u001b[0;34m\u001b[0m\u001b[0;34m\u001b[0m\u001b[0m\n\u001b[1;32m    265\u001b[0m \u001b[0;34m\u001b[0m\u001b[0m\n",
      "\u001b[0;32m~/opt/anaconda3/lib/python3.8/site-packages/numpy/lib/arraysetops.py\u001b[0m in \u001b[0;36m_unique1d\u001b[0;34m(ar, return_index, return_inverse, return_counts)\u001b[0m\n\u001b[1;32m    306\u001b[0m \u001b[0;34m\u001b[0m\u001b[0m\n\u001b[1;32m    307\u001b[0m     \u001b[0;32mif\u001b[0m \u001b[0moptional_indices\u001b[0m\u001b[0;34m:\u001b[0m\u001b[0;34m\u001b[0m\u001b[0;34m\u001b[0m\u001b[0m\n\u001b[0;32m--> 308\u001b[0;31m         \u001b[0mperm\u001b[0m \u001b[0;34m=\u001b[0m \u001b[0mar\u001b[0m\u001b[0;34m.\u001b[0m\u001b[0margsort\u001b[0m\u001b[0;34m(\u001b[0m\u001b[0mkind\u001b[0m\u001b[0;34m=\u001b[0m\u001b[0;34m'mergesort'\u001b[0m \u001b[0;32mif\u001b[0m \u001b[0mreturn_index\u001b[0m \u001b[0;32melse\u001b[0m \u001b[0;34m'quicksort'\u001b[0m\u001b[0;34m)\u001b[0m\u001b[0;34m\u001b[0m\u001b[0;34m\u001b[0m\u001b[0m\n\u001b[0m\u001b[1;32m    309\u001b[0m         \u001b[0maux\u001b[0m \u001b[0;34m=\u001b[0m \u001b[0mar\u001b[0m\u001b[0;34m[\u001b[0m\u001b[0mperm\u001b[0m\u001b[0;34m]\u001b[0m\u001b[0;34m\u001b[0m\u001b[0;34m\u001b[0m\u001b[0m\n\u001b[1;32m    310\u001b[0m     \u001b[0;32melse\u001b[0m\u001b[0;34m:\u001b[0m\u001b[0;34m\u001b[0m\u001b[0;34m\u001b[0m\u001b[0m\n",
      "\u001b[0;31mTypeError\u001b[0m: '<' not supported between instances of 'int' and 'str'"
     ]
    }
   ],
   "source": [
    "stats.itemfreq(freqlst4m[1])"
   ]
  },
  {
   "cell_type": "code",
   "execution_count": 133,
   "metadata": {},
   "outputs": [
    {
     "data": {
      "text/html": [
       "<div>\n",
       "<style scoped>\n",
       "    .dataframe tbody tr th:only-of-type {\n",
       "        vertical-align: middle;\n",
       "    }\n",
       "\n",
       "    .dataframe tbody tr th {\n",
       "        vertical-align: top;\n",
       "    }\n",
       "\n",
       "    .dataframe thead th {\n",
       "        text-align: right;\n",
       "    }\n",
       "</style>\n",
       "<table border=\"1\" class=\"dataframe\">\n",
       "  <thead>\n",
       "    <tr style=\"text-align: right;\">\n",
       "      <th></th>\n",
       "      <th>0</th>\n",
       "      <th>1</th>\n",
       "    </tr>\n",
       "  </thead>\n",
       "  <tbody>\n",
       "    <tr>\n",
       "      <th>0</th>\n",
       "      <td>2020-02-29</td>\n",
       "      <td>1</td>\n",
       "    </tr>\n",
       "    <tr>\n",
       "      <th>1</th>\n",
       "      <td>2020-03-14</td>\n",
       "      <td>2</td>\n",
       "    </tr>\n",
       "    <tr>\n",
       "      <th>2</th>\n",
       "      <td>2020-03-15</td>\n",
       "      <td>1</td>\n",
       "    </tr>\n",
       "    <tr>\n",
       "      <th>3</th>\n",
       "      <td>2020-03-16</td>\n",
       "      <td>1</td>\n",
       "    </tr>\n",
       "    <tr>\n",
       "      <th>4</th>\n",
       "      <td>2020-03-18</td>\n",
       "      <td>1</td>\n",
       "    </tr>\n",
       "    <tr>\n",
       "      <th>...</th>\n",
       "      <td>...</td>\n",
       "      <td>...</td>\n",
       "    </tr>\n",
       "    <tr>\n",
       "      <th>271</th>\n",
       "      <td>2020-12-15</td>\n",
       "      <td>275</td>\n",
       "    </tr>\n",
       "    <tr>\n",
       "      <th>272</th>\n",
       "      <td>2020-12-16</td>\n",
       "      <td>230</td>\n",
       "    </tr>\n",
       "    <tr>\n",
       "      <th>273</th>\n",
       "      <td>2020-12-17</td>\n",
       "      <td>204</td>\n",
       "    </tr>\n",
       "    <tr>\n",
       "      <th>274</th>\n",
       "      <td>2020-12-18</td>\n",
       "      <td>140</td>\n",
       "    </tr>\n",
       "    <tr>\n",
       "      <th>275</th>\n",
       "      <td>2020-12-19</td>\n",
       "      <td>61</td>\n",
       "    </tr>\n",
       "  </tbody>\n",
       "</table>\n",
       "<p>276 rows × 2 columns</p>\n",
       "</div>"
      ],
      "text/plain": [
       "              0    1\n",
       "0    2020-02-29    1\n",
       "1    2020-03-14    2\n",
       "2    2020-03-15    1\n",
       "3    2020-03-16    1\n",
       "4    2020-03-18    1\n",
       "..          ...  ...\n",
       "271  2020-12-15  275\n",
       "272  2020-12-16  230\n",
       "273  2020-12-17  204\n",
       "274  2020-12-18  140\n",
       "275  2020-12-19   61\n",
       "\n",
       "[276 rows x 2 columns]"
      ]
     },
     "execution_count": 133,
     "metadata": {},
     "output_type": "execute_result"
    }
   ],
   "source": [
    "#Frecuencias\n",
    "list1 = [freqdict1m,freqdict2m,freqdict3m,freqdict4m,freqdict1h,freqdict2h,freqdict3h,freqdict4h]\n",
    "list1names = ['freqdict1m','freqdict2m','freqdict3m','freqdict4m','freqdict1h','freqdict2h','freqdict3h','freqdict4h']\n",
    "\n",
    "list1names[1] = pd.DataFrame(stats.itemfreq(freqdict1m[1]))\n",
    "list1names[2] = pd.DataFrame(stats.itemfreq(freqdict2m[1]))\n",
    "list1names[3] = pd.DataFrame(stats.itemfreq(freqdict3m[1]))\n",
    "list1names[4] = pd.DataFrame(stats.itemfreq(freqdict1h[1]))\n",
    "list1names[5] = pd.DataFrame(stats.itemfreq(freqdict2h[1]))\n",
    "list1names[6] = pd.DataFrame(stats.itemfreq(freqdict3h[1]))\n",
    "\n",
    "freqdict1m\n"
   ]
  },
  {
   "cell_type": "code",
   "execution_count": 163,
   "metadata": {},
   "outputs": [
    {
     "data": {
      "text/plain": [
       "array([0, 9, 7, 3, 4, 2, 1, 3, 1, 2, 2, 2, 2, 0, 1, 1, 1, 0, 4, 1, 0, 1,\n",
       "       0, 1, 0, 4, 0, 0, 0, 3, 2, 2, 1, 2, 3, 4, 1, 2, 2, 2, 1, 1, 1, 1,\n",
       "       2, 0, 2, 4, 1, 1, 0, 2, 0, 1, 0, 1, 1, 0, 3, 2, 2, 2, 2, 2, 0, 1,\n",
       "       1, 1, 0, 3, 0, 1, 0, 1, 0, 1, 5, 0, 2, 0, 1, 1, 1, 2, 0, 0, 1, 0,\n",
       "       2, 1, 1, 0, 0, 1, 0, 2, 2, 1, 0, 1, 0, 0, 0, 0, 0, 0, 0, 3, 1, 1,\n",
       "       1, 0, 0, 0, 1, 0, 0, 2, 1, 0, 0, 1, 1, 2, 1, 1, 1, 0, 1, 1, 3, 2,\n",
       "       2, 3, 1, 2, 3, 0, 1, 3, 1, 0, 1, 3, 1, 2, 2, 2, 1, 0, 2, 4, 2, 2,\n",
       "       1, 0, 1, 0, 1, 2, 1, 1, 2, 3, 1, 1, 1, 0, 2, 0, 3, 0, 0, 2, 2, 3,\n",
       "       0, 1, 1, 2, 1, 2, 0, 0, 1, 1, 2, 0, 2, 0, 0, 1, 0, 1, 1, 2, 0, 1,\n",
       "       0, 0, 0, 0, 2, 0, 1, 1, 0, 0, 0, 0, 0, 2, 0, 0, 0, 0, 0, 0, 0, 0,\n",
       "       0, 0, 0, 0, 0, 1, 1, 0, 0, 0, 2, 0, 1, 1, 0, 0, 0, 0, 0, 0, 0, 0,\n",
       "       1, 0, 0, 0, 1, 0, 0, 0, 0, 0, 0, 0, 0, 1, 0, 0, 0, 0, 0, 0, 0, 0,\n",
       "       0, 0, 0, 0, 0, 0, 0, 0, 0, 0, 0, 1, 0, 0, 0, 0, 0, 0, 0, 0, 0, 0,\n",
       "       0, 0, 1, 0, 1, 0, 0, 0, 1, 0, 0, 0, 0, 0, 0, 0, 0, 1, 0, 0, 0, 1,\n",
       "       0, 0, 0, 0, 0, 0, 1, 0, 0, 0, 0, 0, 0, 2, 0, 0, 0, 0, 0, 0, 0, 0,\n",
       "       0, 0, 0, 0, 0, 0, 0, 1, 0, 0, 0, 0, 0, 0, 0, 0, 1, 0, 0, 0, 0, 0,\n",
       "       0, 0, 0, 0, 1])"
      ]
     },
     "execution_count": 163,
     "metadata": {},
     "output_type": "execute_result"
    }
   ],
   "source": [
    "#lista de solamente las frecuencias\n",
    "np.bincount(freqdict1m[1])"
   ]
  },
  {
   "cell_type": "code",
   "execution_count": 50,
   "metadata": {},
   "outputs": [
    {
     "data": {
      "text/plain": [
       "69.28929136881997"
      ]
     },
     "execution_count": 50,
     "metadata": {},
     "output_type": "execute_result"
    }
   ],
   "source": [
    "#da el porcentaje de edades\n",
    "stats.percentileofscore(df_confirmados.loc[:,'EDAD'], 52)"
   ]
  },
  {
   "cell_type": "code",
   "execution_count": 53,
   "metadata": {},
   "outputs": [
    {
     "data": {
      "text/plain": [
       "52.0"
      ]
     },
     "execution_count": 53,
     "metadata": {},
     "output_type": "execute_result"
    }
   ],
   "source": [
    "#da las edades dado el procentaje\n",
    "stats.scoreatpercentile(df_confirmados.loc[:,'EDAD'], 69.28)"
   ]
  },
  {
   "cell_type": "code",
   "execution_count": 177,
   "metadata": {},
   "outputs": [
    {
     "data": {
      "image/png": "[encoded data removed]",
      "text/plain": [
       "<Figure size 360x288 with 1 Axes>"
      ]
     },
     "metadata": {
      "needs_background": "light"
     },
     "output_type": "display_data"
    },
    {
     "data": {
      "image/png": "[encoded data removed]",
      "text/plain": [
       "<Figure size 360x288 with 1 Axes>"
      ]
     },
     "metadata": {
      "needs_background": "light"
     },
     "output_type": "display_data"
    },
    {
     "data": {
      "image/png": "[encoded data removed]",
      "text/plain": [
       "<Figure size 360x288 with 1 Axes>"
      ]
     },
     "metadata": {
      "needs_background": "light"
     },
     "output_type": "display_data"
    },
    {
     "data": {
      "image/png": "[encoded data removed]",
      "text/plain": [
       "<Figure size 360x288 with 1 Axes>"
      ]
     },
     "metadata": {
      "needs_background": "light"
     },
     "output_type": "display_data"
    },
    {
     "data": {
      "image/png": "[encoded data removed]",
      "text/plain": [
       "<Figure size 360x288 with 1 Axes>"
      ]
     },
     "metadata": {
      "needs_background": "light"
     },
     "output_type": "display_data"
    },
    {
     "data": {
      "image/png": "[encoded data removed]",
      "text/plain": [
       "<Figure size 360x288 with 1 Axes>"
      ]
     },
     "metadata": {
      "needs_background": "light"
     },
     "output_type": "display_data"
    },
    {
     "data": {
      "image/png": "[encoded data removed]",
      "text/plain": [
       "<Figure size 360x288 with 1 Axes>"
      ]
     },
     "metadata": {
      "needs_background": "light"
     },
     "output_type": "display_data"
    },
    {
     "data": {
      "image/png": "[encoded data removed]",
      "text/plain": [
       "<Figure size 360x288 with 1 Axes>"
      ]
     },
     "metadata": {
      "needs_background": "light"
     },
     "output_type": "display_data"
    }
   ],
   "source": [
    "list1 = [freqlst1m,freqlst2m,freqlst3m,freqlst4m,freqlst1h,freqlst2h,freqlst3h,freqlst4h]\n",
    "names = ['M de [0,20)','M de [20,40)','M de [40,60)','M de [0,20)','M de > 60','H de [0,20)','H de [20,40)','H de [40,60)','H de [0,20)','H de > 60']\n",
    "for i in range(8):\n",
    "    res = stats.relfreq(list1[i][1], numbins=30)\n",
    "    res.frequency\n",
    "\n",
    "\n",
    "    x = res.lowerlimit + np.linspace(0, res.binsize*res.frequency.size,res.frequency.size)\n",
    "    fig = plt.figure(figsize=(5, 4))\n",
    "    ax = fig.add_subplot(1, 1, 1)\n",
    "    ax.bar(x, res.frequency, width=res.binsize)\n",
    "    ax.set_title('R.F.H. for')\n",
    "    ax.set_xlim([x.min(), x.max()])"
   ]
  },
  {
   "cell_type": "code",
   "execution_count": 141,
   "metadata": {},
   "outputs": [
    {
     "data": {
      "image/png": "[encoded data removed]",
      "text/plain": [
       "<Figure size 360x288 with 1 Axes>"
      ]
     },
     "metadata": {
      "needs_background": "light"
     },
     "output_type": "display_data"
    }
   ],
   "source": [
    "res = stats.relfreq(freqdict1h[1], numbins=50)\n",
    "res.frequency\n",
    "\n",
    "\n",
    "x = res.lowerlimit + np.linspace(0, res.binsize*res.frequency.size,res.frequency.size)\n",
    "fig = plt.figure(figsize=(5, 4))\n",
    "ax = fig.add_subplot(1, 1, 1)\n",
    "ax.bar(x, res.frequency, width=res.binsize)\n",
    "ax.set_title('Relative frequency histogram')\n",
    "ax.set_xlim([x.min(), x.max()])\n",
    "\n",
    "plt.show()"
   ]
  },
  {
   "cell_type": "code",
   "execution_count": 140,
   "metadata": {},
   "outputs": [
    {
     "data": {
      "image/png": "[encoded data removed]",
      "text/plain": [
       "<Figure size 360x288 with 1 Axes>"
      ]
     },
     "metadata": {
      "needs_background": "light"
     },
     "output_type": "display_data"
    }
   ],
   "source": [
    "res = stats.relfreq(freqdict2m[1], numbins=50)\n",
    "res.frequency\n",
    "\n",
    "\n",
    "x = res.lowerlimit + np.linspace(0, res.binsize*res.frequency.size,res.frequency.size)\n",
    "fig = plt.figure(figsize=(5, 4))\n",
    "ax = fig.add_subplot(1, 1, 1)\n",
    "ax.bar(x, res.frequency, width=res.binsize)\n",
    "ax.set_title('Relative frequency histogram')\n",
    "ax.set_xlim([x.min(), x.max()])\n",
    "\n",
    "plt.show()"
   ]
  },
  {
   "cell_type": "code",
   "execution_count": 68,
   "metadata": {},
   "outputs": [],
   "source": [
    "#Calculate relative frequencies\n",
    "res = stats.relfreq(df_confirmados.loc[:,'EDAD'], numbins=229)\n",
    "#res"
   ]
  },
  {
   "cell_type": "code",
   "execution_count": 95,
   "metadata": {},
   "outputs": [
    {
     "data": {
      "text/plain": [
       "BinnedStatisticResult(statistic=array([43.30559701, 44.49682801]), bin_edges=array([1. , 1.5, 2. ]), binnumber=array([2, 2, 1, ..., 2, 1, 2]))"
      ]
     },
     "execution_count": 95,
     "metadata": {},
     "output_type": "execute_result"
    }
   ],
   "source": [
    "stats.binned_statistic(df_confirmados.loc[:,'SEXO'], df_confirmados.loc[:,'EDAD'], 'mean', bins=2)"
   ]
  },
  {
   "cell_type": "code",
   "execution_count": 96,
   "metadata": {},
   "outputs": [
    {
     "data": {
      "text/plain": [
       "1270788"
      ]
     },
     "execution_count": 96,
     "metadata": {},
     "output_type": "execute_result"
    }
   ],
   "source": [
    "len(stats.binned_statistic(df_confirmados.loc[:,'SEXO'], df_confirmados.loc[:,'EDAD'], 'sum', bins=2)[2])"
   ]
  },
  {
   "cell_type": "markdown",
   "metadata": {},
   "source": [
    "# Datos importantes para el proyecto"
   ]
  },
  {
   "cell_type": "markdown",
   "metadata": {},
   "source": [
    "## Casos y muertes acumuladas"
   ]
  },
  {
   "cell_type": "code",
   "execution_count": 18,
   "metadata": {},
   "outputs": [
    {
     "name": "stdout",
     "output_type": "stream",
     "text": [
      "CPU times: user 7.19 s, sys: 3.9 s, total: 11.1 s\n",
      "Wall time: 11.5 s\n"
     ]
    }
   ],
   "source": [
    "%%time\n",
    "countmuertes = 0\n",
    "dictmuertes = dict()\n",
    "for a in df_confirmados.loc[:,'FECHA_DEF']:\n",
    "    if a == '9999-99-99':\n",
    "        continue\n",
    "    else:    \n",
    "        dictmuertes[a] = dictmuertes.get(a,0) + 1\n",
    "    \n",
    "lst = list()\n",
    "for (k,v) in dictmuertes.items():\n",
    "    newtup = (k,v)\n",
    "    lst.append(newtup)\n",
    "lstmuert = sorted(lst)\n",
    "#print(lst)\n",
    "\n",
    "#for v,k in lstmuert:\n",
    " #   print(v,k)"
   ]
  },
  {
   "cell_type": "code",
   "execution_count": 19,
   "metadata": {},
   "outputs": [
    {
     "name": "stdout",
     "output_type": "stream",
     "text": [
      "CPU times: user 416 ms, sys: 5.52 ms, total: 422 ms\n",
      "Wall time: 431 ms\n"
     ]
    }
   ],
   "source": [
    "%%time\n",
    "countinfect = 0\n",
    "dictinfect = dict()\n",
    "for a in df_confirmados.loc[:,'FECHA_INGRESO']:\n",
    "    dictinfect[a] = dictinfect.get(a,0) + 1\n",
    "\n",
    "lst = list()\n",
    "for (k,v) in dictinfect.items():\n",
    "    newtup = (k,int(v))\n",
    "    lst.append(newtup)\n",
    "lstinfect = sorted(lst)\n",
    "#print(lst)\n",
    "\n",
    "#for v,k in lstinfect:\n",
    " #   print(v,k)"
   ]
  },
  {
   "cell_type": "markdown",
   "metadata": {},
   "source": [
    "### Tabla de muertos por día y acumulados"
   ]
  },
  {
   "cell_type": "code",
   "execution_count": 20,
   "metadata": {},
   "outputs": [
    {
     "data": {
      "text/html": [
       "<div>\n",
       "<style scoped>\n",
       "    .dataframe tbody tr th:only-of-type {\n",
       "        vertical-align: middle;\n",
       "    }\n",
       "\n",
       "    .dataframe tbody tr th {\n",
       "        vertical-align: top;\n",
       "    }\n",
       "\n",
       "    .dataframe thead th {\n",
       "        text-align: right;\n",
       "    }\n",
       "</style>\n",
       "<table border=\"1\" class=\"dataframe\">\n",
       "  <thead>\n",
       "    <tr style=\"text-align: right;\">\n",
       "      <th></th>\n",
       "      <th>0</th>\n",
       "      <th>1</th>\n",
       "    </tr>\n",
       "  </thead>\n",
       "  <tbody>\n",
       "    <tr>\n",
       "      <th>0</th>\n",
       "      <td>2020-03-18</td>\n",
       "      <td>2</td>\n",
       "    </tr>\n",
       "    <tr>\n",
       "      <th>1</th>\n",
       "      <td>2020-03-20</td>\n",
       "      <td>1</td>\n",
       "    </tr>\n",
       "    <tr>\n",
       "      <th>2</th>\n",
       "      <td>2020-03-22</td>\n",
       "      <td>1</td>\n",
       "    </tr>\n",
       "    <tr>\n",
       "      <th>3</th>\n",
       "      <td>2020-03-23</td>\n",
       "      <td>1</td>\n",
       "    </tr>\n",
       "    <tr>\n",
       "      <th>4</th>\n",
       "      <td>2020-03-24</td>\n",
       "      <td>2</td>\n",
       "    </tr>\n",
       "    <tr>\n",
       "      <th>...</th>\n",
       "      <td>...</td>\n",
       "      <td>...</td>\n",
       "    </tr>\n",
       "    <tr>\n",
       "      <th>270</th>\n",
       "      <td>2020-12-15</td>\n",
       "      <td>427</td>\n",
       "    </tr>\n",
       "    <tr>\n",
       "      <th>271</th>\n",
       "      <td>2020-12-16</td>\n",
       "      <td>389</td>\n",
       "    </tr>\n",
       "    <tr>\n",
       "      <th>272</th>\n",
       "      <td>2020-12-17</td>\n",
       "      <td>286</td>\n",
       "    </tr>\n",
       "    <tr>\n",
       "      <th>273</th>\n",
       "      <td>2020-12-18</td>\n",
       "      <td>197</td>\n",
       "    </tr>\n",
       "    <tr>\n",
       "      <th>274</th>\n",
       "      <td>2020-12-19</td>\n",
       "      <td>75</td>\n",
       "    </tr>\n",
       "  </tbody>\n",
       "</table>\n",
       "<p>275 rows × 2 columns</p>\n",
       "</div>"
      ],
      "text/plain": [
       "              0    1\n",
       "0    2020-03-18    2\n",
       "1    2020-03-20    1\n",
       "2    2020-03-22    1\n",
       "3    2020-03-23    1\n",
       "4    2020-03-24    2\n",
       "..          ...  ...\n",
       "270  2020-12-15  427\n",
       "271  2020-12-16  389\n",
       "272  2020-12-17  286\n",
       "273  2020-12-18  197\n",
       "274  2020-12-19   75\n",
       "\n",
       "[275 rows x 2 columns]"
      ]
     },
     "execution_count": 20,
     "metadata": {},
     "output_type": "execute_result"
    }
   ],
   "source": [
    "muer_dia = pd.DataFrame(lstmuert)\n",
    "# le quito la fecha porque lo reconoce como string y marcaba un error en el modelo\n",
    "muertdia_sinfecha = muer_dia.drop([0], axis = 1)\n",
    "muer_dia"
   ]
  },
  {
   "cell_type": "code",
   "execution_count": 21,
   "metadata": {},
   "outputs": [
    {
     "data": {
      "text/html": [
       "<div>\n",
       "<style scoped>\n",
       "    .dataframe tbody tr th:only-of-type {\n",
       "        vertical-align: middle;\n",
       "    }\n",
       "\n",
       "    .dataframe tbody tr th {\n",
       "        vertical-align: top;\n",
       "    }\n",
       "\n",
       "    .dataframe thead th {\n",
       "        text-align: right;\n",
       "    }\n",
       "</style>\n",
       "<table border=\"1\" class=\"dataframe\">\n",
       "  <thead>\n",
       "    <tr style=\"text-align: right;\">\n",
       "      <th></th>\n",
       "      <th>0</th>\n",
       "    </tr>\n",
       "  </thead>\n",
       "  <tbody>\n",
       "    <tr>\n",
       "      <th>0</th>\n",
       "      <td>2</td>\n",
       "    </tr>\n",
       "    <tr>\n",
       "      <th>1</th>\n",
       "      <td>3</td>\n",
       "    </tr>\n",
       "    <tr>\n",
       "      <th>2</th>\n",
       "      <td>4</td>\n",
       "    </tr>\n",
       "    <tr>\n",
       "      <th>3</th>\n",
       "      <td>5</td>\n",
       "    </tr>\n",
       "    <tr>\n",
       "      <th>4</th>\n",
       "      <td>7</td>\n",
       "    </tr>\n",
       "    <tr>\n",
       "      <th>...</th>\n",
       "      <td>...</td>\n",
       "    </tr>\n",
       "    <tr>\n",
       "      <th>270</th>\n",
       "      <td>112205</td>\n",
       "    </tr>\n",
       "    <tr>\n",
       "      <th>271</th>\n",
       "      <td>112594</td>\n",
       "    </tr>\n",
       "    <tr>\n",
       "      <th>272</th>\n",
       "      <td>112880</td>\n",
       "    </tr>\n",
       "    <tr>\n",
       "      <th>273</th>\n",
       "      <td>113077</td>\n",
       "    </tr>\n",
       "    <tr>\n",
       "      <th>274</th>\n",
       "      <td>113152</td>\n",
       "    </tr>\n",
       "  </tbody>\n",
       "</table>\n",
       "<p>275 rows × 1 columns</p>\n",
       "</div>"
      ],
      "text/plain": [
       "          0\n",
       "0         2\n",
       "1         3\n",
       "2         4\n",
       "3         5\n",
       "4         7\n",
       "..      ...\n",
       "270  112205\n",
       "271  112594\n",
       "272  112880\n",
       "273  113077\n",
       "274  113152\n",
       "\n",
       "[275 rows x 1 columns]"
      ]
     },
     "execution_count": 21,
     "metadata": {},
     "output_type": "execute_result"
    }
   ],
   "source": [
    "muertos_acumulados = []\n",
    "total = 0\n",
    "for a in range(len(muertdia_sinfecha[1])):\n",
    "    total = total + muertdia_sinfecha[1][a]\n",
    "    muertos_acumulados.append(total)\n",
    "muertos_acumulados = pd.DataFrame(muertos_acumulados)\n",
    "muertos_acumulados"
   ]
  },
  {
   "cell_type": "markdown",
   "metadata": {},
   "source": [
    "### Tabla de infectados por día y acumulados"
   ]
  },
  {
   "cell_type": "code",
   "execution_count": 22,
   "metadata": {},
   "outputs": [
    {
     "data": {
      "text/html": [
       "<div>\n",
       "<style scoped>\n",
       "    .dataframe tbody tr th:only-of-type {\n",
       "        vertical-align: middle;\n",
       "    }\n",
       "\n",
       "    .dataframe tbody tr th {\n",
       "        vertical-align: top;\n",
       "    }\n",
       "\n",
       "    .dataframe thead th {\n",
       "        text-align: right;\n",
       "    }\n",
       "</style>\n",
       "<table border=\"1\" class=\"dataframe\">\n",
       "  <thead>\n",
       "    <tr style=\"text-align: right;\">\n",
       "      <th></th>\n",
       "      <th>0</th>\n",
       "      <th>1</th>\n",
       "    </tr>\n",
       "  </thead>\n",
       "  <tbody>\n",
       "    <tr>\n",
       "      <th>0</th>\n",
       "      <td>2020-01-13</td>\n",
       "      <td>1</td>\n",
       "    </tr>\n",
       "    <tr>\n",
       "      <th>1</th>\n",
       "      <td>2020-01-28</td>\n",
       "      <td>1</td>\n",
       "    </tr>\n",
       "    <tr>\n",
       "      <th>2</th>\n",
       "      <td>2020-01-29</td>\n",
       "      <td>1</td>\n",
       "    </tr>\n",
       "    <tr>\n",
       "      <th>3</th>\n",
       "      <td>2020-02-24</td>\n",
       "      <td>2</td>\n",
       "    </tr>\n",
       "    <tr>\n",
       "      <th>4</th>\n",
       "      <td>2020-02-27</td>\n",
       "      <td>4</td>\n",
       "    </tr>\n",
       "    <tr>\n",
       "      <th>...</th>\n",
       "      <td>...</td>\n",
       "      <td>...</td>\n",
       "    </tr>\n",
       "    <tr>\n",
       "      <th>294</th>\n",
       "      <td>2020-12-16</td>\n",
       "      <td>7192</td>\n",
       "    </tr>\n",
       "    <tr>\n",
       "      <th>295</th>\n",
       "      <td>2020-12-17</td>\n",
       "      <td>6024</td>\n",
       "    </tr>\n",
       "    <tr>\n",
       "      <th>296</th>\n",
       "      <td>2020-12-18</td>\n",
       "      <td>4107</td>\n",
       "    </tr>\n",
       "    <tr>\n",
       "      <th>297</th>\n",
       "      <td>2020-12-19</td>\n",
       "      <td>1145</td>\n",
       "    </tr>\n",
       "    <tr>\n",
       "      <th>298</th>\n",
       "      <td>2020-12-20</td>\n",
       "      <td>5</td>\n",
       "    </tr>\n",
       "  </tbody>\n",
       "</table>\n",
       "<p>299 rows × 2 columns</p>\n",
       "</div>"
      ],
      "text/plain": [
       "              0     1\n",
       "0    2020-01-13     1\n",
       "1    2020-01-28     1\n",
       "2    2020-01-29     1\n",
       "3    2020-02-24     2\n",
       "4    2020-02-27     4\n",
       "..          ...   ...\n",
       "294  2020-12-16  7192\n",
       "295  2020-12-17  6024\n",
       "296  2020-12-18  4107\n",
       "297  2020-12-19  1145\n",
       "298  2020-12-20     5\n",
       "\n",
       "[299 rows x 2 columns]"
      ]
     },
     "execution_count": 22,
     "metadata": {},
     "output_type": "execute_result"
    }
   ],
   "source": [
    "infect_dia = pd.DataFrame(lstinfect)\n",
    "# le quito la fecha porque lo reconoce como string y marcaba un error en el modelo\n",
    "infectdia_sinfecha = infect_dia.drop([0], axis = 1)\n",
    "infect_dia"
   ]
  },
  {
   "cell_type": "code",
   "execution_count": 23,
   "metadata": {},
   "outputs": [
    {
     "data": {
      "text/html": [
       "<div>\n",
       "<style scoped>\n",
       "    .dataframe tbody tr th:only-of-type {\n",
       "        vertical-align: middle;\n",
       "    }\n",
       "\n",
       "    .dataframe tbody tr th {\n",
       "        vertical-align: top;\n",
       "    }\n",
       "\n",
       "    .dataframe thead th {\n",
       "        text-align: right;\n",
       "    }\n",
       "</style>\n",
       "<table border=\"1\" class=\"dataframe\">\n",
       "  <thead>\n",
       "    <tr style=\"text-align: right;\">\n",
       "      <th></th>\n",
       "      <th>0</th>\n",
       "    </tr>\n",
       "  </thead>\n",
       "  <tbody>\n",
       "    <tr>\n",
       "      <th>0</th>\n",
       "      <td>1</td>\n",
       "    </tr>\n",
       "    <tr>\n",
       "      <th>1</th>\n",
       "      <td>2</td>\n",
       "    </tr>\n",
       "    <tr>\n",
       "      <th>2</th>\n",
       "      <td>3</td>\n",
       "    </tr>\n",
       "    <tr>\n",
       "      <th>3</th>\n",
       "      <td>5</td>\n",
       "    </tr>\n",
       "    <tr>\n",
       "      <th>4</th>\n",
       "      <td>9</td>\n",
       "    </tr>\n",
       "    <tr>\n",
       "      <th>...</th>\n",
       "      <td>...</td>\n",
       "    </tr>\n",
       "    <tr>\n",
       "      <th>294</th>\n",
       "      <td>1259507</td>\n",
       "    </tr>\n",
       "    <tr>\n",
       "      <th>295</th>\n",
       "      <td>1265531</td>\n",
       "    </tr>\n",
       "    <tr>\n",
       "      <th>296</th>\n",
       "      <td>1269638</td>\n",
       "    </tr>\n",
       "    <tr>\n",
       "      <th>297</th>\n",
       "      <td>1270783</td>\n",
       "    </tr>\n",
       "    <tr>\n",
       "      <th>298</th>\n",
       "      <td>1270788</td>\n",
       "    </tr>\n",
       "  </tbody>\n",
       "</table>\n",
       "<p>299 rows × 1 columns</p>\n",
       "</div>"
      ],
      "text/plain": [
       "           0\n",
       "0          1\n",
       "1          2\n",
       "2          3\n",
       "3          5\n",
       "4          9\n",
       "..       ...\n",
       "294  1259507\n",
       "295  1265531\n",
       "296  1269638\n",
       "297  1270783\n",
       "298  1270788\n",
       "\n",
       "[299 rows x 1 columns]"
      ]
     },
     "execution_count": 23,
     "metadata": {},
     "output_type": "execute_result"
    }
   ],
   "source": [
    "infacumulados = []\n",
    "total = 0\n",
    "for a in range(len(infectdia_sinfecha[1])):\n",
    "    total = total + infectdia_sinfecha[1][a]\n",
    "    infacumulados.append(total)\n",
    "infacumulados = pd.DataFrame(infacumulados)\n",
    "infacumulados"
   ]
  },
  {
   "cell_type": "markdown",
   "metadata": {},
   "source": [
    "## Modelo SIR"
   ]
  },
  {
   "cell_type": "code",
   "execution_count": 24,
   "metadata": {},
   "outputs": [],
   "source": [
    "def SIR(z, t, be, gm):\n",
    "    '''The input z corresponds to the current state of the system, z = [x, y]. Since the input is in 1D, no \n",
    "    pre-processing is needed.\n",
    "    \n",
    "    t is the current time.\n",
    "    \n",
    "    a and b correspond to the unknown parameters.\n",
    "    '''\n",
    "    \n",
    "    S, I ,R = z\n",
    "    \n",
    "    return [-be*(S*I), be*(S*I)-gm*I, gm*I]"
   ]
  },
  {
   "cell_type": "code",
   "execution_count": 25,
   "metadata": {},
   "outputs": [],
   "source": [
    "def init_I():\n",
    "    return 1\n",
    "\n",
    "def init_R():\n",
    "    return 1\n",
    "\n",
    "def init_S():\n",
    "    return 120000000"
   ]
  },
  {
   "cell_type": "code",
   "execution_count": 26,
   "metadata": {},
   "outputs": [
    {
     "name": "stdout",
     "output_type": "stream",
     "text": [
      "Help on class PDEmodel in module PDEparams:\n",
      "\n",
      "class PDEmodel(builtins.object)\n",
      " |  PDEmodel(data, model, initfunc, bounds, param_names=None, nvars=1, ndims=1, nreplicates=1, obsidx=None, outfunc=None)\n",
      " |  \n",
      " |  Methods defined here:\n",
      " |  \n",
      " |  __init__(self, data, model, initfunc, bounds, param_names=None, nvars=1, ndims=1, nreplicates=1, obsidx=None, outfunc=None)\n",
      " |      Initialises the PDEmodel object.\n",
      " |      \n",
      " |      Parameters\n",
      " |      ----------\n",
      " |      data: DataFrame of data points with each entry in the form:\n",
      " |      \n",
      " |                              [timepoint, coordinates, fuction values]\n",
      " |      \n",
      " |      model: the PDE model to fit to the data. Should accept the parameters to\n",
      " |             estimate as its last inputs and return the time derivatives of the\n",
      " |             functions.\n",
      " |      \n",
      " |      initfunc: array of functions defining the initial conditions for the model.\n",
      " |      \n",
      " |      bounds: the contraints for the parameter values to use in the estimation,\n",
      " |              as a tuple of tuples or list of tuples.\n",
      " |      \n",
      " |      param_names (optional, default: None): parameter names to be used in tables\n",
      " |                                             and plots. If None, names appear as\n",
      " |                                             \"parameter 1\", \"parameter 2\", etc.\n",
      " |      \n",
      " |      nvars (optional, default: 1): the number of variables in the system.\n",
      " |      \n",
      " |      ndims (optional, default: 1): the number of spatial dimensions in the system.\n",
      " |      \n",
      " |      nreplicates (optional, default: 1): the number of measurements per time-coodinate\n",
      " |                                          pair in the data.\n",
      " |      \n",
      " |      obsidx (optional, default: None): the indices (starting from zero) of the measured\n",
      " |                                        variables. If None, all outputs are used.\n",
      " |      \n",
      " |      outfunc (optional, default: None): function to be applied to the output.\n",
      " |                                         If None, raw outputs are used.\n",
      " |      \n",
      " |      Returns\n",
      " |      -------\n",
      " |      The constructed object.\n",
      " |  \n",
      " |  bootstrap(self, nruns=100)\n",
      " |      Perform bootstrapping by randomly selecting one replicate per time-coodinate pair\n",
      " |      and finding the best fit parameters in multiple rounds.\n",
      " |      \n",
      " |      Parameters\n",
      " |      ----------\n",
      " |      nruns (optional, default: 100): the number of times to perform the estimation.\n",
      " |      \n",
      " |      Returns\n",
      " |      -------\n",
      " |      None\n",
      " |  \n",
      " |  costfn(self, params, initial_condition, functiondata, bootstrap=False)\n",
      " |      Integrates the model and computes the cost function\n",
      " |      \n",
      " |      Parameters\n",
      " |      ----------\n",
      " |      params: parameter values.\n",
      " |      \n",
      " |      Returns\n",
      " |      -------\n",
      " |      error: float, the value of the chosen error (see 'fit()') for the given set of parameters.\n",
      " |  \n",
      " |  fit(self, error='mse')\n",
      " |      Finds the parameters that minimise the cost function using differential evolution.\n",
      " |      Prints them and assigns them to the Estimator object.\n",
      " |      \n",
      " |      Parameters\n",
      " |      ----------\n",
      " |      error: the type of error to minimise.\n",
      " |          - 'mse': mean squared error\n",
      " |          - 'rmse': root mean squared error\n",
      " |          - 'msle': mean squared logarithmic error\n",
      " |          - 'rmsle': mean squared logarithmic error\n",
      " |          - 'mae': mean absolute error\n",
      " |          - 'medae': median absolute error\n",
      " |      \n",
      " |      Returns\n",
      " |      -------\n",
      " |      None\n",
      " |  \n",
      " |  likelihood_profiles(self, param_values=None, npoints=100)\n",
      " |      Computes the likelihood profile of each parameter.\n",
      " |      \n",
      " |      Parameters\n",
      " |      ----------\n",
      " |      param_values (optional, default: None): a list of arrays of values for each parameter.\n",
      " |      npoints (optional, default: 100): the number of values in which to divide the parameter\n",
      " |      domain given by the bounds, if param_values is not specified.\n",
      " |      \n",
      " |      Returns\n",
      " |      -------\n",
      " |      None\n",
      " |  \n",
      " |  plot_bootstrap(self)\n",
      " |      Plots the bootstrapping results.\n",
      " |      \n",
      " |      Parameters\n",
      " |      ----------\n",
      " |      None\n",
      " |      \n",
      " |      Returns\n",
      " |      -------\n",
      " |      None\n",
      " |  \n",
      " |  plot_profiles(self)\n",
      " |      Plots the likelihood profiles.\n",
      " |      \n",
      " |      Parameters\n",
      " |      ----------\n",
      " |      None\n",
      " |      \n",
      " |      Returns\n",
      " |      -------\n",
      " |      None\n",
      " |  \n",
      " |  ----------------------------------------------------------------------\n",
      " |  Data descriptors defined here:\n",
      " |  \n",
      " |  __dict__\n",
      " |      dictionary for instance variables (if defined)\n",
      " |  \n",
      " |  __weakref__\n",
      " |      list of weak references to the object (if defined)\n",
      "\n"
     ]
    }
   ],
   "source": [
    "# Se toman las bases 'sin fecha' o las acumuladas\n",
    "#estas son:\n",
    "#infectdia_sinfecha\n",
    "#infacumulados\n",
    "\n",
    "\n",
    "my_model = pde.PDEmodel(infacumulados, SIR, [init_S, init_R, init_I], bounds=[(-2, 2), (-2,2)], \n",
    "                        param_names=[r'$be$', r'$gm$'], nvars=3, ndims=0, \n",
    "                        nreplicates=1, obsidx=[1] , outfunc = None)\n",
    "help(pde.PDEmodel)"
   ]
  },
  {
   "cell_type": "code",
   "execution_count": 27,
   "metadata": {},
   "outputs": [
    {
     "data": {
      "text/plain": [
       "array([120000000,         1,         1])"
      ]
     },
     "execution_count": 27,
     "metadata": {},
     "output_type": "execute_result"
    }
   ],
   "source": [
    "my_model.initial_condition"
   ]
  },
  {
   "cell_type": "code",
   "execution_count": 28,
   "metadata": {},
   "outputs": [
    {
     "name": "stdout",
     "output_type": "stream",
     "text": [
      "       $be$      $gm$\n",
      "0 -0.351255  1.673122\n",
      "CPU times: user 8min 22s, sys: 2.82 s, total: 8min 24s\n",
      "Wall time: 8min 39s\n"
     ]
    }
   ],
   "source": [
    "%%time\n",
    "my_model.fit()"
   ]
  },
  {
   "cell_type": "code",
   "execution_count": 29,
   "metadata": {},
   "outputs": [
    {
     "data": {
      "text/html": [
       "<div>\n",
       "<style scoped>\n",
       "    .dataframe tbody tr th:only-of-type {\n",
       "        vertical-align: middle;\n",
       "    }\n",
       "\n",
       "    .dataframe tbody tr th {\n",
       "        vertical-align: top;\n",
       "    }\n",
       "\n",
       "    .dataframe thead th {\n",
       "        text-align: right;\n",
       "    }\n",
       "</style>\n",
       "<table border=\"1\" class=\"dataframe\">\n",
       "  <thead>\n",
       "    <tr style=\"text-align: right;\">\n",
       "      <th></th>\n",
       "      <th>$be$</th>\n",
       "      <th>$gm$</th>\n",
       "    </tr>\n",
       "  </thead>\n",
       "  <tbody>\n",
       "    <tr>\n",
       "      <th>0</th>\n",
       "      <td>-0.351255</td>\n",
       "      <td>1.673122</td>\n",
       "    </tr>\n",
       "  </tbody>\n",
       "</table>\n",
       "</div>"
      ],
      "text/plain": [
       "       $be$      $gm$\n",
       "0 -0.351255  1.673122"
      ]
     },
     "execution_count": 29,
     "metadata": {},
     "output_type": "execute_result"
    }
   ],
   "source": [
    "my_model.best_params"
   ]
  },
  {
   "cell_type": "code",
   "execution_count": 30,
   "metadata": {},
   "outputs": [
    {
     "data": {
      "text/plain": [
       "inf"
      ]
     },
     "execution_count": 30,
     "metadata": {},
     "output_type": "execute_result"
    }
   ],
   "source": [
    "my_model.best_error"
   ]
  },
  {
   "cell_type": "code",
   "execution_count": null,
   "metadata": {},
   "outputs": [],
   "source": []
  }
 ],
 "metadata": {
  "kernelspec": {
   "display_name": "Python 3",
   "language": "python",
   "name": "python3"
  },
  "language_info": {
   "codemirror_mode": {
    "name": "ipython",
    "version": 3
   },
   "file_extension": ".py",
   "mimetype": "text/x-python",
   "name": "python",
   "nbconvert_exporter": "python",
   "pygments_lexer": "ipython3",
   "version": "3.8.3"
  }
 },
 "nbformat": 4,
 "nbformat_minor": 4
}
