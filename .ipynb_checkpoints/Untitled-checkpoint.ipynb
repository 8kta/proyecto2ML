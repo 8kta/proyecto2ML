{
 "cells": [
  {
   "cell_type": "markdown",
   "metadata": {},
   "source": [
    "# Project 2 - Coronavirus"
   ]
  },
  {
   "cell_type": "markdown",
   "metadata": {},
   "source": [
    "This project consist to estimate the SIR model with data from WHO."
   ]
  },
  {
   "cell_type": "code",
   "execution_count": 2,
   "metadata": {},
   "outputs": [],
   "source": [
    "import pandas as pd\n",
    "import numpy as np\n",
    "from scipy import integrate\n",
    "from sklearn.metrics import mean_squared_error, mean_squared_log_error, mean_absolute_error, median_absolute_error\n",
    "from scipy.integrate import odeint\n",
    "from scipy.optimize import differential_evolution, minimize\n",
    "import matplotlib.pyplot as plt\n",
    "import PDEparams as pde"
   ]
  },
  {
   "cell_type": "markdown",
   "metadata": {},
   "source": [
    "## Data from World Health Organization\n",
    "#### Only laboratory-confirmed, exclude clinically diagnose"
   ]
  },
  {
   "cell_type": "code",
   "execution_count": 3,
   "metadata": {},
   "outputs": [],
   "source": [
    "data = pd.read_csv('CoV2019.csv')\n",
    "china = data[\"China\"][:27]#data[\"China\"][:27]\n",
    "days = data[\"Days\"][:27]\n",
    "total = data[\"Total\"][:27]\n",
    "deaths_china = data[\"Death China\"][:27]\n",
    "other = data[\"Other\"]\n",
    "china_total = data[\"China\"]\n",
    "days_total = data[\"Days\"]\n",
    "deaths_china_total = data[\"Death China\"]\n",
    "deaths_outside_total = data[\"Death Outside\"]"
   ]
  },
  {
   "cell_type": "code",
   "execution_count": 15,
   "metadata": {},
   "outputs": [
    {
     "name": "stdout",
     "output_type": "stream",
     "text": [
      "Date of report\n",
      "Days\n",
      "Total\n",
      "China\n",
      "Death China\n",
      "Other\n",
      "Death Outside\n",
      "Death Globally\n",
      "En total hay: 8 características.\n"
     ]
    }
   ],
   "source": [
    "count = 0\n",
    "for a in data:\n",
    "    print(a)\n",
    "    count = count + 1\n",
    "print('En total hay:', count, 'características.')"
   ]
  },
  {
   "cell_type": "markdown",
   "metadata": {},
   "source": [
    "### Defining the model\n",
    "\n",
    "We use a SIR model:\n",
    "\n",
    "$$\\begin{align}\n",
    "\\frac{\\mathrm{d} S}{\\mathrm{d} t} &= -\\beta\\, \\frac{SI}{N}\\\\\n",
    "\\frac{\\mathrm{d} I}{\\mathrm{d} t} &= \\beta\\, \\frac{SI}{N} - \\gamma\\,I\\\\\n",
    "\\frac{\\mathrm{d} R}{\\mathrm{d} t} &= \\gamma\\,I\n",
    "\\end{align}$$"
   ]
  },
  {
   "cell_type": "markdown",
   "metadata": {},
   "source": [
    "Susceptible -> Infected -> Recovered\n",
    "\n",
    "$$\\begin{align}\n",
    "\\beta &= \\text{Contact Rate } \\times \\text{ Probability of Transmission}\\\\\n",
    "\\sigma &= \\text{Incubation Rate}\\\\\n",
    "\\gamma &= \\text{Recovery Rate}\n",
    "\\end{align}$$\n",
    "\n",
    "Incubation Period: 1-14 Days, most commonly 5 days (WHO)"
   ]
  },
  {
   "cell_type": "code",
   "execution_count": 11,
   "metadata": {},
   "outputs": [],
   "source": [
    "Hubei = 5917*10**4\n",
    "Guangdong = 11346*10**4\n",
    "Henan = 9605*10**4\n",
    "Zhejiang = 5737*10**4\n",
    "Hunan = 6899*10**4\n",
    "Anhui = 6324*10**4\n",
    "Jiangxi = 4648*10**4\n",
    "N = 56*10**3                        # estimate of people affected by lock down\n",
    "init_I = 1\n",
    "init_R = 1"
   ]
  },
  {
   "cell_type": "markdown",
   "metadata": {},
   "source": [
    "We define our DE "
   ]
  },
  {
   "cell_type": "code",
   "execution_count": 12,
   "metadata": {},
   "outputs": [],
   "source": [
    "def SIR(z, t, be, gm):\n",
    "    '''The input z corresponds to the current state of the system, z = [x, y]. Since the input is in 1D, no \n",
    "    pre-processing is needed.\n",
    "    \n",
    "    t is the current time.\n",
    "    \n",
    "    a and b correspond to the unknown parameters.\n",
    "    '''\n",
    "    \n",
    "    S, I, R = z\n",
    "    \n",
    "    return [-be (S*I)/N, be (S*I)/N-gm*I, gm]"
   ]
  },
  {
   "cell_type": "markdown",
   "metadata": {},
   "source": [
    "### Using `PDEparams` to estimate parameters\n",
    "\n",
    "First, we load the data from the `.csv` file.\n",
    "\n",
    "Then we build the dataframe with data we want\n",
    "\n",
    "The columns are, in order: $t$, $x$, $y$."
   ]
  },
  {
   "cell_type": "code",
   "execution_count": 33,
   "metadata": {},
   "outputs": [
    {
     "name": "stdout",
     "output_type": "stream",
     "text": [
      "[0, 341, 571, 830, 1297, 1985, 2761, 4537, 5997, 7736, 9720, 11821, 14411, 17238, 20471, 24363, 28060, 31211, 34598, 37251, 40235, 42708, 44730, 46550, 48548, 50054, 51174]\n"
     ]
    }
   ],
   "source": [
    "# Susceptibles\n",
    "S = []\n",
    "ent = data[4,1]\n",
    "for a in china:\n",
    "    #if a == 278:\n",
    "        #print(0)\n",
    "     #   ent = a\n",
    "      #  S.append(0)\n",
    "    ent = a - ent\n",
    "    S.append(a)\n",
    "print(S)"
   ]
  },
  {
   "cell_type": "code",
   "execution_count": 18,
   "metadata": {},
   "outputs": [
    {
     "name": "stdout",
     "output_type": "stream",
     "text": [
      "   Date of report  Days  Total  China  Death China  Other  Death Outside  \\\n",
      "0        01/20/20    21    282    278            6      4              0   \n",
      "1        01/21/20    22    346    341            6      4              0   \n",
      "2        01/23/20    24    581    571           17      7              0   \n",
      "3        01/24/20    25    846    830           25     11              0   \n",
      "4        01/25/20    26   1320   1297           41     23              0   \n",
      "5        01/26/20    27   2014   1985           56     29              0   \n",
      "6        01/27/20    28   2798   2761           80     37              0   \n",
      "7        01/28/20    29   4593   4537          106     56              0   \n",
      "8        01/29/20    30   6065   5997          132     68              0   \n",
      "9        01/30/20    31   7818   7736          170     82              0   \n",
      "10       01/31/20    32   9826   9720          213    106              0   \n",
      "11     02/01/2020    33  11953  11821          259    132              0   \n",
      "12     02/02/2020    34  14557  14411          304    146              1   \n",
      "13     02/03/2020    35  17391  17238          361    153              1   \n",
      "14     02/04/2020    36  20630  20471          425    159              1   \n",
      "15     02/05/2020    37  24554  24363          491    191              1   \n",
      "16     02/06/2020    38  28276  28060          564    216              1   \n",
      "17     02/07/2020    39  31481  31211          637    270              1   \n",
      "18     02/08/2020    40  34886  34598          723    288              1   \n",
      "19     02/09/2020    41  37558  37251          812    307              1   \n",
      "20     02/10/2020    42  40554  40235          909    319              1   \n",
      "21     02/11/2020    43  43103  42708         1017    395              1   \n",
      "22     02/12/2020    44  45171  44730         1114    441              1   \n",
      "23       02/13/20    45  46997  46550         1368    447              1   \n",
      "24       02/14/20    46  49053  48548         1381    505              2   \n",
      "25       02/15/20    47  50580  50054         1524    526              2   \n",
      "26       02/16/20    48  51857  51174         1666    683              3   \n",
      "27       02/17/20    49  71429  70635         1772    794              3   \n",
      "28       02/18/20    50  73332  72528         1870    804              3   \n",
      "29       02/19/20    51  75204  74280         2006    924              3   \n",
      "30       02/20/20    52  75748  74675         2121   1073              8   \n",
      "31       02/21/20    53  76769  75569         2239   1200              8   \n",
      "32       02/22/20    54  77794  76392         2348   1402             11   \n",
      "33       02/23/20    55  78811  77042         2445   1769             17   \n",
      "34       02/24/20    56  79331  77262         2595   2069             23   \n",
      "35       02/25/20    57  80239  77780         2666   2459             34   \n",
      "36       02/26/20    58  81109  78191         2718   2918             44   \n",
      "37       02/27/20    59  82294  78630         2747   3664             57   \n",
      "38       02/28/20    60  83652  78961         2791   4691             67   \n",
      "39       02/29/20    61  85403  79394         2838   6009             86   \n",
      "40     03/01/2020    62  87137  79579         2873   7169            104   \n",
      "\n",
      "    Death Globally  \n",
      "0                6  \n",
      "1                6  \n",
      "2               17  \n",
      "3               25  \n",
      "4               41  \n",
      "5               56  \n",
      "6               80  \n",
      "7              106  \n",
      "8              132  \n",
      "9              170  \n",
      "10             213  \n",
      "11             259  \n",
      "12             305  \n",
      "13             362  \n",
      "14             426  \n",
      "15             492  \n",
      "16             565  \n",
      "17             638  \n",
      "18             724  \n",
      "19             813  \n",
      "20             910  \n",
      "21            1018  \n",
      "22            1115  \n",
      "23            1369  \n",
      "24            1383  \n",
      "25            1526  \n",
      "26            1669  \n",
      "27            1775  \n",
      "28            1873  \n",
      "29            2009  \n",
      "30            2129  \n",
      "31            2247  \n",
      "32            2359  \n",
      "33            2462  \n",
      "34            2618  \n",
      "35            2700  \n",
      "36            2762  \n",
      "37            2804  \n",
      "38            2858  \n",
      "39            2924  \n",
      "40            2977  \n"
     ]
    }
   ],
   "source": [
    "print(data)"
   ]
  },
  {
   "cell_type": "markdown",
   "metadata": {},
   "source": [
    "#### Constructing the `PDEmodel` object.\n",
    "\n",
    "The inputs are\n",
    "\n",
    "**Required:**\n",
    "1. The data table `data`.\n",
    "2. The model `LotkaVolterra`.\n",
    "3. The list of initial condition functions.\n",
    "4. The bounds for the parameter values.\n",
    "\n",
    "**Optional:**\n",
    "1. The parameter names.\n",
    "2. The number of variables: 2. **(Default is 1, this needs to be provided in this case)**\n",
    "3. The number of spatial dimensions: 0. **(Default is 1, this needs to be provided in this case)**\n",
    "4. The number of replicates in the data: 1. **(Default is 1, this needs to be provided in this case)**\n",
    "5. The indices of the measured variables. In this case, the default `None`, since we have data for all 2 variables.\n",
    "6. The function to apply to the output. In this case, the default `None`, since our data is directly $x$ and $y$."
   ]
  },
  {
   "cell_type": "code",
   "execution_count": null,
   "metadata": {},
   "outputs": [],
   "source": [
    "Primer"
   ]
  }
 ],
 "metadata": {
  "kernelspec": {
   "display_name": "Python 3",
   "language": "python",
   "name": "python3"
  },
  "language_info": {
   "codemirror_mode": {
    "name": "ipython",
    "version": 3
   },
   "file_extension": ".py",
   "mimetype": "text/x-python",
   "name": "python",
   "nbconvert_exporter": "python",
   "pygments_lexer": "ipython3",
   "version": "3.8.3"
  }
 },
 "nbformat": 4,
 "nbformat_minor": 4
}
